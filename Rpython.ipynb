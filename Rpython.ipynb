{
 "cells": [
  {
   "cell_type": "code",
   "execution_count": 1,
   "metadata": {},
   "outputs": [
    {
     "name": "stderr",
     "output_type": "stream",
     "text": [
      "Using TensorFlow backend.\n",
      "/home/bot/virtual_enviornments/sleepare/lib/python3.6/site-packages/tensorflow/python/framework/dtypes.py:516: FutureWarning: Passing (type, 1) or '1type' as a synonym of type is deprecated; in a future version of numpy, it will be understood as (type, (1,)) / '(1,)type'.\n",
      "  _np_qint8 = np.dtype([(\"qint8\", np.int8, 1)])\n",
      "/home/bot/virtual_enviornments/sleepare/lib/python3.6/site-packages/tensorflow/python/framework/dtypes.py:517: FutureWarning: Passing (type, 1) or '1type' as a synonym of type is deprecated; in a future version of numpy, it will be understood as (type, (1,)) / '(1,)type'.\n",
      "  _np_quint8 = np.dtype([(\"quint8\", np.uint8, 1)])\n",
      "/home/bot/virtual_enviornments/sleepare/lib/python3.6/site-packages/tensorflow/python/framework/dtypes.py:518: FutureWarning: Passing (type, 1) or '1type' as a synonym of type is deprecated; in a future version of numpy, it will be understood as (type, (1,)) / '(1,)type'.\n",
      "  _np_qint16 = np.dtype([(\"qint16\", np.int16, 1)])\n",
      "/home/bot/virtual_enviornments/sleepare/lib/python3.6/site-packages/tensorflow/python/framework/dtypes.py:519: FutureWarning: Passing (type, 1) or '1type' as a synonym of type is deprecated; in a future version of numpy, it will be understood as (type, (1,)) / '(1,)type'.\n",
      "  _np_quint16 = np.dtype([(\"quint16\", np.uint16, 1)])\n",
      "/home/bot/virtual_enviornments/sleepare/lib/python3.6/site-packages/tensorflow/python/framework/dtypes.py:520: FutureWarning: Passing (type, 1) or '1type' as a synonym of type is deprecated; in a future version of numpy, it will be understood as (type, (1,)) / '(1,)type'.\n",
      "  _np_qint32 = np.dtype([(\"qint32\", np.int32, 1)])\n",
      "/home/bot/virtual_enviornments/sleepare/lib/python3.6/site-packages/tensorflow/python/framework/dtypes.py:525: FutureWarning: Passing (type, 1) or '1type' as a synonym of type is deprecated; in a future version of numpy, it will be understood as (type, (1,)) / '(1,)type'.\n",
      "  np_resource = np.dtype([(\"resource\", np.ubyte, 1)])\n",
      "/home/bot/virtual_enviornments/sleepare/lib/python3.6/site-packages/tensorboard/compat/tensorflow_stub/dtypes.py:541: FutureWarning: Passing (type, 1) or '1type' as a synonym of type is deprecated; in a future version of numpy, it will be understood as (type, (1,)) / '(1,)type'.\n",
      "  _np_qint8 = np.dtype([(\"qint8\", np.int8, 1)])\n",
      "/home/bot/virtual_enviornments/sleepare/lib/python3.6/site-packages/tensorboard/compat/tensorflow_stub/dtypes.py:542: FutureWarning: Passing (type, 1) or '1type' as a synonym of type is deprecated; in a future version of numpy, it will be understood as (type, (1,)) / '(1,)type'.\n",
      "  _np_quint8 = np.dtype([(\"quint8\", np.uint8, 1)])\n",
      "/home/bot/virtual_enviornments/sleepare/lib/python3.6/site-packages/tensorboard/compat/tensorflow_stub/dtypes.py:543: FutureWarning: Passing (type, 1) or '1type' as a synonym of type is deprecated; in a future version of numpy, it will be understood as (type, (1,)) / '(1,)type'.\n",
      "  _np_qint16 = np.dtype([(\"qint16\", np.int16, 1)])\n",
      "/home/bot/virtual_enviornments/sleepare/lib/python3.6/site-packages/tensorboard/compat/tensorflow_stub/dtypes.py:544: FutureWarning: Passing (type, 1) or '1type' as a synonym of type is deprecated; in a future version of numpy, it will be understood as (type, (1,)) / '(1,)type'.\n",
      "  _np_quint16 = np.dtype([(\"quint16\", np.uint16, 1)])\n",
      "/home/bot/virtual_enviornments/sleepare/lib/python3.6/site-packages/tensorboard/compat/tensorflow_stub/dtypes.py:545: FutureWarning: Passing (type, 1) or '1type' as a synonym of type is deprecated; in a future version of numpy, it will be understood as (type, (1,)) / '(1,)type'.\n",
      "  _np_qint32 = np.dtype([(\"qint32\", np.int32, 1)])\n",
      "/home/bot/virtual_enviornments/sleepare/lib/python3.6/site-packages/tensorboard/compat/tensorflow_stub/dtypes.py:550: FutureWarning: Passing (type, 1) or '1type' as a synonym of type is deprecated; in a future version of numpy, it will be understood as (type, (1,)) / '(1,)type'.\n",
      "  np_resource = np.dtype([(\"resource\", np.ubyte, 1)])\n"
     ]
    }
   ],
   "source": [
    "import pandas as pd\n",
    "import numpy as np\n",
    "import seaborn as sns \n",
    "import xgboost\n",
    "import sklearn\n",
    "import matplotlib.pyplot as plt\n",
    "import seaborn as sns\n",
    "from sklearn.model_selection import TimeSeriesSplit\n",
    "from sklearn.model_selection import cross_val_score\n",
    "from sklearn.metrics import accuracy_score\n",
    "from sklearn.metrics import f1_score\n",
    "from sklearn.metrics.scorer import make_scorer\n",
    "from sklearn.model_selection import GridSearchCV\n",
    "from imblearn.over_sampling import SMOTENC\n",
    "from imblearn.over_sampling import ADASYN\n",
    "from imblearn.over_sampling import SVMSMOTE"
   ]
  },
  {
   "cell_type": "code",
   "execution_count": 3,
   "metadata": {},
   "outputs": [],
   "source": [
    "df=pd.read_csv('./fdf.csv')\n",
    "df = df.drop(df.columns[0], axis=1)"
   ]
  },
  {
   "cell_type": "code",
   "execution_count": 5,
   "metadata": {},
   "outputs": [],
   "source": [
    "df=df.fillna(-1)"
   ]
  },
  {
   "cell_type": "code",
   "execution_count": 85,
   "metadata": {},
   "outputs": [],
   "source": [
    "df[\"nDate\"]=pd.to_datetime(df.date,format='%Y-%m-%d')\n",
    "# df.sort_values('nDate')\n",
    "# df.head()"
   ]
  },
  {
   "cell_type": "code",
   "execution_count": 86,
   "metadata": {},
   "outputs": [],
   "source": [
    "def build_model(lr=0.1,depth=5,estimators=10):\n",
    "    clf=xgboost.XGBClassifier(learning_rate = lr,max_depth = depth,early_stopping_rounds=10,n_estimators = estimators)\n",
    "    return clf"
   ]
  },
  {
   "cell_type": "code",
   "execution_count": 69,
   "metadata": {},
   "outputs": [],
   "source": []
  },
  {
   "cell_type": "code",
   "execution_count": 80,
   "metadata": {},
   "outputs": [
    {
     "name": "stdout",
     "output_type": "stream",
     "text": [
      "Accuracy: 0.45752 (+/- 0.00103)\n"
     ]
    }
   ],
   "source": [
    "# TimeSeries Split\n",
    "train=df[df[\"nDate\"]<'2019-09-15']\n",
    "Y_train=train[\"clicks_level\"]\n",
    "X_train=train.drop(['nDate','query','date','clicks_level','tomorrow_net_clicks'],axis=1)\n",
    "\n",
    "test=df[df[\"nDate\"]>='2019-09-15']\n",
    "Y_test=test[\"clicks_level\"]\n",
    "X_test=test.drop(['nDate','query','date','clicks_level','tomorrow_net_clicks'],axis=1)\n",
    "\n",
    "\n",
    "# Cross Validation\n",
    "ac=make_scorer(f1_score,average='macro')\n",
    "model = build_model(lr=0.1,depth=10,estimators=100)\n",
    "tscv = TimeSeriesSplit(n_splits=3)\n",
    "scores = cross_val_score(model, X_train, Y_train, cv=tscv, scoring=ac)\n",
    "print(\"Accuracy: {0:.5f} (+/- {1:.5f})\".format(scores.mean(), scores.std()))"
   ]
  },
  {
   "cell_type": "code",
   "execution_count": null,
   "metadata": {},
   "outputs": [
    {
     "name": "stdout",
     "output_type": "stream",
     "text": [
      "Fitting 3 folds for each of 216 candidates, totalling 648 fits\n",
      "[CV] max_depth=3, min_child_weight=1, scale_pos_weight=1, objective=reg:linear, learning_rate=0.05, n_estimators=5, colsample_bytree=0.8 \n"
     ]
    },
    {
     "name": "stderr",
     "output_type": "stream",
     "text": [
      "[Parallel(n_jobs=1)]: Using backend SequentialBackend with 1 concurrent workers.\n"
     ]
    },
    {
     "name": "stdout",
     "output_type": "stream",
     "text": [
      "[CV]  max_depth=3, min_child_weight=1, scale_pos_weight=1, objective=reg:linear, learning_rate=0.05, n_estimators=5, colsample_bytree=0.8, score=0.4335733686155981, total=   4.0s\n",
      "[CV] max_depth=3, min_child_weight=1, scale_pos_weight=1, objective=reg:linear, learning_rate=0.05, n_estimators=5, colsample_bytree=0.8 \n"
     ]
    },
    {
     "name": "stderr",
     "output_type": "stream",
     "text": [
      "[Parallel(n_jobs=1)]: Done   1 out of   1 | elapsed:    4.2s remaining:    0.0s\n",
      "/anaconda/envs/py35/lib/python3.5/site-packages/sklearn/metrics/classification.py:1143: UndefinedMetricWarning: F-score is ill-defined and being set to 0.0 in labels with no predicted samples.\n",
      "  'precision', 'predicted', average, warn_for)\n"
     ]
    },
    {
     "name": "stdout",
     "output_type": "stream",
     "text": [
      "[CV]  max_depth=3, min_child_weight=1, scale_pos_weight=1, objective=reg:linear, learning_rate=0.05, n_estimators=5, colsample_bytree=0.8, score=0.4204416254561323, total=   7.4s\n",
      "[CV] max_depth=3, min_child_weight=1, scale_pos_weight=1, objective=reg:linear, learning_rate=0.05, n_estimators=5, colsample_bytree=0.8 \n"
     ]
    },
    {
     "name": "stderr",
     "output_type": "stream",
     "text": [
      "[Parallel(n_jobs=1)]: Done   2 out of   2 | elapsed:   12.0s remaining:    0.0s\n",
      "/anaconda/envs/py35/lib/python3.5/site-packages/sklearn/metrics/classification.py:1143: UndefinedMetricWarning: F-score is ill-defined and being set to 0.0 in labels with no predicted samples.\n",
      "  'precision', 'predicted', average, warn_for)\n",
      "/anaconda/envs/py35/lib/python3.5/site-packages/sklearn/metrics/classification.py:1143: UndefinedMetricWarning: F-score is ill-defined and being set to 0.0 in labels with no predicted samples.\n",
      "  'precision', 'predicted', average, warn_for)\n",
      "[Parallel(n_jobs=1)]: Done   3 out of   3 | elapsed:   23.4s remaining:    0.0s\n"
     ]
    },
    {
     "name": "stdout",
     "output_type": "stream",
     "text": [
      "[CV]  max_depth=3, min_child_weight=1, scale_pos_weight=1, objective=reg:linear, learning_rate=0.05, n_estimators=5, colsample_bytree=0.8, score=0.4265808617694742, total=  10.8s\n",
      "[CV] max_depth=3, min_child_weight=1, scale_pos_weight=5, objective=reg:linear, learning_rate=0.05, n_estimators=5, colsample_bytree=0.8 \n",
      "[CV]  max_depth=3, min_child_weight=1, scale_pos_weight=5, objective=reg:linear, learning_rate=0.05, n_estimators=5, colsample_bytree=0.8, score=0.4335733686155981, total=   4.1s\n",
      "[CV] max_depth=3, min_child_weight=1, scale_pos_weight=5, objective=reg:linear, learning_rate=0.05, n_estimators=5, colsample_bytree=0.8 \n"
     ]
    },
    {
     "name": "stderr",
     "output_type": "stream",
     "text": [
      "[Parallel(n_jobs=1)]: Done   4 out of   4 | elapsed:   27.8s remaining:    0.0s\n",
      "/anaconda/envs/py35/lib/python3.5/site-packages/sklearn/metrics/classification.py:1143: UndefinedMetricWarning: F-score is ill-defined and being set to 0.0 in labels with no predicted samples.\n",
      "  'precision', 'predicted', average, warn_for)\n"
     ]
    },
    {
     "name": "stdout",
     "output_type": "stream",
     "text": [
      "[CV]  max_depth=3, min_child_weight=1, scale_pos_weight=5, objective=reg:linear, learning_rate=0.05, n_estimators=5, colsample_bytree=0.8, score=0.4204416254561323, total=   7.5s\n",
      "[CV] max_depth=3, min_child_weight=1, scale_pos_weight=5, objective=reg:linear, learning_rate=0.05, n_estimators=5, colsample_bytree=0.8 \n"
     ]
    },
    {
     "name": "stderr",
     "output_type": "stream",
     "text": [
      "[Parallel(n_jobs=1)]: Done   5 out of   5 | elapsed:   35.7s remaining:    0.0s\n",
      "/anaconda/envs/py35/lib/python3.5/site-packages/sklearn/metrics/classification.py:1143: UndefinedMetricWarning: F-score is ill-defined and being set to 0.0 in labels with no predicted samples.\n",
      "  'precision', 'predicted', average, warn_for)\n",
      "/anaconda/envs/py35/lib/python3.5/site-packages/sklearn/metrics/classification.py:1143: UndefinedMetricWarning: F-score is ill-defined and being set to 0.0 in labels with no predicted samples.\n",
      "  'precision', 'predicted', average, warn_for)\n",
      "[Parallel(n_jobs=1)]: Done   6 out of   6 | elapsed:   47.0s remaining:    0.0s\n"
     ]
    },
    {
     "name": "stdout",
     "output_type": "stream",
     "text": [
      "[CV]  max_depth=3, min_child_weight=1, scale_pos_weight=5, objective=reg:linear, learning_rate=0.05, n_estimators=5, colsample_bytree=0.8, score=0.4265808617694742, total=  10.7s\n",
      "[CV] max_depth=3, min_child_weight=1, scale_pos_weight=1, objective=multi:softmax, learning_rate=0.05, n_estimators=5, colsample_bytree=0.8 \n",
      "[CV]  max_depth=3, min_child_weight=1, scale_pos_weight=1, objective=multi:softmax, learning_rate=0.05, n_estimators=5, colsample_bytree=0.8, score=0.4335733686155981, total=   4.1s\n",
      "[CV] max_depth=3, min_child_weight=1, scale_pos_weight=1, objective=multi:softmax, learning_rate=0.05, n_estimators=5, colsample_bytree=0.8 \n"
     ]
    },
    {
     "name": "stderr",
     "output_type": "stream",
     "text": [
      "[Parallel(n_jobs=1)]: Done   7 out of   7 | elapsed:   51.3s remaining:    0.0s\n",
      "/anaconda/envs/py35/lib/python3.5/site-packages/sklearn/metrics/classification.py:1143: UndefinedMetricWarning: F-score is ill-defined and being set to 0.0 in labels with no predicted samples.\n",
      "  'precision', 'predicted', average, warn_for)\n"
     ]
    },
    {
     "name": "stdout",
     "output_type": "stream",
     "text": [
      "[CV]  max_depth=3, min_child_weight=1, scale_pos_weight=1, objective=multi:softmax, learning_rate=0.05, n_estimators=5, colsample_bytree=0.8, score=0.4204416254561323, total=   7.4s\n",
      "[CV] max_depth=3, min_child_weight=1, scale_pos_weight=1, objective=multi:softmax, learning_rate=0.05, n_estimators=5, colsample_bytree=0.8 \n"
     ]
    },
    {
     "name": "stderr",
     "output_type": "stream",
     "text": [
      "[Parallel(n_jobs=1)]: Done   8 out of   8 | elapsed:   59.2s remaining:    0.0s\n",
      "/anaconda/envs/py35/lib/python3.5/site-packages/sklearn/metrics/classification.py:1143: UndefinedMetricWarning: F-score is ill-defined and being set to 0.0 in labels with no predicted samples.\n",
      "  'precision', 'predicted', average, warn_for)\n",
      "/anaconda/envs/py35/lib/python3.5/site-packages/sklearn/metrics/classification.py:1143: UndefinedMetricWarning: F-score is ill-defined and being set to 0.0 in labels with no predicted samples.\n",
      "  'precision', 'predicted', average, warn_for)\n",
      "[Parallel(n_jobs=1)]: Done   9 out of   9 | elapsed:  1.2min remaining:    0.0s\n"
     ]
    },
    {
     "name": "stdout",
     "output_type": "stream",
     "text": [
      "[CV]  max_depth=3, min_child_weight=1, scale_pos_weight=1, objective=multi:softmax, learning_rate=0.05, n_estimators=5, colsample_bytree=0.8, score=0.4265808617694742, total=  10.7s\n",
      "[CV] max_depth=3, min_child_weight=1, scale_pos_weight=5, objective=multi:softmax, learning_rate=0.05, n_estimators=5, colsample_bytree=0.8 \n",
      "[CV]  max_depth=3, min_child_weight=1, scale_pos_weight=5, objective=multi:softmax, learning_rate=0.05, n_estimators=5, colsample_bytree=0.8, score=0.4335733686155981, total=   4.1s\n",
      "[CV] max_depth=3, min_child_weight=1, scale_pos_weight=5, objective=multi:softmax, learning_rate=0.05, n_estimators=5, colsample_bytree=0.8 \n"
     ]
    },
    {
     "name": "stderr",
     "output_type": "stream",
     "text": [
      "/anaconda/envs/py35/lib/python3.5/site-packages/sklearn/metrics/classification.py:1143: UndefinedMetricWarning: F-score is ill-defined and being set to 0.0 in labels with no predicted samples.\n",
      "  'precision', 'predicted', average, warn_for)\n"
     ]
    },
    {
     "name": "stdout",
     "output_type": "stream",
     "text": [
      "[CV]  max_depth=3, min_child_weight=1, scale_pos_weight=5, objective=multi:softmax, learning_rate=0.05, n_estimators=5, colsample_bytree=0.8, score=0.4204416254561323, total=   7.3s\n",
      "[CV] max_depth=3, min_child_weight=1, scale_pos_weight=5, objective=multi:softmax, learning_rate=0.05, n_estimators=5, colsample_bytree=0.8 \n"
     ]
    },
    {
     "name": "stderr",
     "output_type": "stream",
     "text": [
      "/anaconda/envs/py35/lib/python3.5/site-packages/sklearn/metrics/classification.py:1143: UndefinedMetricWarning: F-score is ill-defined and being set to 0.0 in labels with no predicted samples.\n",
      "  'precision', 'predicted', average, warn_for)\n",
      "/anaconda/envs/py35/lib/python3.5/site-packages/sklearn/metrics/classification.py:1143: UndefinedMetricWarning: F-score is ill-defined and being set to 0.0 in labels with no predicted samples.\n",
      "  'precision', 'predicted', average, warn_for)\n"
     ]
    },
    {
     "name": "stdout",
     "output_type": "stream",
     "text": [
      "[CV]  max_depth=3, min_child_weight=1, scale_pos_weight=5, objective=multi:softmax, learning_rate=0.05, n_estimators=5, colsample_bytree=0.8, score=0.4265808617694742, total=  10.8s\n",
      "[CV] max_depth=3, min_child_weight=1, scale_pos_weight=1, objective=multi:softprob, learning_rate=0.05, n_estimators=5, colsample_bytree=0.8 \n",
      "[CV]  max_depth=3, min_child_weight=1, scale_pos_weight=1, objective=multi:softprob, learning_rate=0.05, n_estimators=5, colsample_bytree=0.8, score=0.4335733686155981, total=   4.1s\n",
      "[CV] max_depth=3, min_child_weight=1, scale_pos_weight=1, objective=multi:softprob, learning_rate=0.05, n_estimators=5, colsample_bytree=0.8 \n"
     ]
    },
    {
     "name": "stderr",
     "output_type": "stream",
     "text": [
      "/anaconda/envs/py35/lib/python3.5/site-packages/sklearn/metrics/classification.py:1143: UndefinedMetricWarning: F-score is ill-defined and being set to 0.0 in labels with no predicted samples.\n",
      "  'precision', 'predicted', average, warn_for)\n"
     ]
    },
    {
     "name": "stdout",
     "output_type": "stream",
     "text": [
      "[CV]  max_depth=3, min_child_weight=1, scale_pos_weight=1, objective=multi:softprob, learning_rate=0.05, n_estimators=5, colsample_bytree=0.8, score=0.4204416254561323, total=   7.4s\n",
      "[CV] max_depth=3, min_child_weight=1, scale_pos_weight=1, objective=multi:softprob, learning_rate=0.05, n_estimators=5, colsample_bytree=0.8 \n"
     ]
    },
    {
     "name": "stderr",
     "output_type": "stream",
     "text": [
      "/anaconda/envs/py35/lib/python3.5/site-packages/sklearn/metrics/classification.py:1143: UndefinedMetricWarning: F-score is ill-defined and being set to 0.0 in labels with no predicted samples.\n",
      "  'precision', 'predicted', average, warn_for)\n",
      "/anaconda/envs/py35/lib/python3.5/site-packages/sklearn/metrics/classification.py:1143: UndefinedMetricWarning: F-score is ill-defined and being set to 0.0 in labels with no predicted samples.\n",
      "  'precision', 'predicted', average, warn_for)\n"
     ]
    },
    {
     "name": "stdout",
     "output_type": "stream",
     "text": [
      "[CV]  max_depth=3, min_child_weight=1, scale_pos_weight=1, objective=multi:softprob, learning_rate=0.05, n_estimators=5, colsample_bytree=0.8, score=0.4265808617694742, total=  10.9s\n",
      "[CV] max_depth=3, min_child_weight=1, scale_pos_weight=5, objective=multi:softprob, learning_rate=0.05, n_estimators=5, colsample_bytree=0.8 \n",
      "[CV]  max_depth=3, min_child_weight=1, scale_pos_weight=5, objective=multi:softprob, learning_rate=0.05, n_estimators=5, colsample_bytree=0.8, score=0.4335733686155981, total=   4.1s\n",
      "[CV] max_depth=3, min_child_weight=1, scale_pos_weight=5, objective=multi:softprob, learning_rate=0.05, n_estimators=5, colsample_bytree=0.8 \n"
     ]
    },
    {
     "name": "stderr",
     "output_type": "stream",
     "text": [
      "/anaconda/envs/py35/lib/python3.5/site-packages/sklearn/metrics/classification.py:1143: UndefinedMetricWarning: F-score is ill-defined and being set to 0.0 in labels with no predicted samples.\n",
      "  'precision', 'predicted', average, warn_for)\n"
     ]
    },
    {
     "name": "stdout",
     "output_type": "stream",
     "text": [
      "[CV]  max_depth=3, min_child_weight=1, scale_pos_weight=5, objective=multi:softprob, learning_rate=0.05, n_estimators=5, colsample_bytree=0.8, score=0.4204416254561323, total=   7.3s\n",
      "[CV] max_depth=3, min_child_weight=1, scale_pos_weight=5, objective=multi:softprob, learning_rate=0.05, n_estimators=5, colsample_bytree=0.8 \n"
     ]
    },
    {
     "name": "stderr",
     "output_type": "stream",
     "text": [
      "/anaconda/envs/py35/lib/python3.5/site-packages/sklearn/metrics/classification.py:1143: UndefinedMetricWarning: F-score is ill-defined and being set to 0.0 in labels with no predicted samples.\n",
      "  'precision', 'predicted', average, warn_for)\n",
      "/anaconda/envs/py35/lib/python3.5/site-packages/sklearn/metrics/classification.py:1143: UndefinedMetricWarning: F-score is ill-defined and being set to 0.0 in labels with no predicted samples.\n",
      "  'precision', 'predicted', average, warn_for)\n"
     ]
    },
    {
     "name": "stdout",
     "output_type": "stream",
     "text": [
      "[CV]  max_depth=3, min_child_weight=1, scale_pos_weight=5, objective=multi:softprob, learning_rate=0.05, n_estimators=5, colsample_bytree=0.8, score=0.4265808617694742, total=  10.8s\n",
      "[CV] max_depth=3, min_child_weight=1, scale_pos_weight=1, objective=reg:linear, learning_rate=0.05, n_estimators=15, colsample_bytree=0.8 \n",
      "[CV]  max_depth=3, min_child_weight=1, scale_pos_weight=1, objective=reg:linear, learning_rate=0.05, n_estimators=15, colsample_bytree=0.8, score=0.432223372695031, total=   9.6s\n",
      "[CV] max_depth=3, min_child_weight=1, scale_pos_weight=1, objective=reg:linear, learning_rate=0.05, n_estimators=15, colsample_bytree=0.8 \n"
     ]
    },
    {
     "name": "stderr",
     "output_type": "stream",
     "text": [
      "/anaconda/envs/py35/lib/python3.5/site-packages/sklearn/metrics/classification.py:1143: UndefinedMetricWarning: F-score is ill-defined and being set to 0.0 in labels with no predicted samples.\n",
      "  'precision', 'predicted', average, warn_for)\n",
      "/anaconda/envs/py35/lib/python3.5/site-packages/sklearn/metrics/classification.py:1143: UndefinedMetricWarning: F-score is ill-defined and being set to 0.0 in labels with no predicted samples.\n",
      "  'precision', 'predicted', average, warn_for)\n"
     ]
    },
    {
     "name": "stdout",
     "output_type": "stream",
     "text": [
      "[CV]  max_depth=3, min_child_weight=1, scale_pos_weight=1, objective=reg:linear, learning_rate=0.05, n_estimators=15, colsample_bytree=0.8, score=0.4297475962021056, total=  18.6s\n",
      "[CV] max_depth=3, min_child_weight=1, scale_pos_weight=1, objective=reg:linear, learning_rate=0.05, n_estimators=15, colsample_bytree=0.8 \n"
     ]
    },
    {
     "name": "stderr",
     "output_type": "stream",
     "text": [
      "/anaconda/envs/py35/lib/python3.5/site-packages/sklearn/metrics/classification.py:1143: UndefinedMetricWarning: F-score is ill-defined and being set to 0.0 in labels with no predicted samples.\n",
      "  'precision', 'predicted', average, warn_for)\n",
      "/anaconda/envs/py35/lib/python3.5/site-packages/sklearn/metrics/classification.py:1143: UndefinedMetricWarning: F-score is ill-defined and being set to 0.0 in labels with no predicted samples.\n",
      "  'precision', 'predicted', average, warn_for)\n"
     ]
    },
    {
     "name": "stdout",
     "output_type": "stream",
     "text": [
      "[CV]  max_depth=3, min_child_weight=1, scale_pos_weight=1, objective=reg:linear, learning_rate=0.05, n_estimators=15, colsample_bytree=0.8, score=0.41459791047948724, total=  26.8s\n",
      "[CV] max_depth=3, min_child_weight=1, scale_pos_weight=5, objective=reg:linear, learning_rate=0.05, n_estimators=15, colsample_bytree=0.8 \n",
      "[CV]  max_depth=3, min_child_weight=1, scale_pos_weight=5, objective=reg:linear, learning_rate=0.05, n_estimators=15, colsample_bytree=0.8, score=0.432223372695031, total=   9.5s\n",
      "[CV] max_depth=3, min_child_weight=1, scale_pos_weight=5, objective=reg:linear, learning_rate=0.05, n_estimators=15, colsample_bytree=0.8 \n"
     ]
    },
    {
     "name": "stderr",
     "output_type": "stream",
     "text": [
      "/anaconda/envs/py35/lib/python3.5/site-packages/sklearn/metrics/classification.py:1143: UndefinedMetricWarning: F-score is ill-defined and being set to 0.0 in labels with no predicted samples.\n",
      "  'precision', 'predicted', average, warn_for)\n",
      "/anaconda/envs/py35/lib/python3.5/site-packages/sklearn/metrics/classification.py:1143: UndefinedMetricWarning: F-score is ill-defined and being set to 0.0 in labels with no predicted samples.\n",
      "  'precision', 'predicted', average, warn_for)\n"
     ]
    },
    {
     "name": "stdout",
     "output_type": "stream",
     "text": [
      "[CV]  max_depth=3, min_child_weight=1, scale_pos_weight=5, objective=reg:linear, learning_rate=0.05, n_estimators=15, colsample_bytree=0.8, score=0.4297475962021056, total=  18.1s\n",
      "[CV] max_depth=3, min_child_weight=1, scale_pos_weight=5, objective=reg:linear, learning_rate=0.05, n_estimators=15, colsample_bytree=0.8 \n"
     ]
    }
   ],
   "source": [
    "# GridSearchCV\n",
    "\n",
    "# Number of Estimators\n",
    "n_estimators = [int(x) for x in np.linspace(start = 10, stop = 100, num = 10)]\n",
    "# Maximum number of levels in tree\n",
    "max_depth = [int(x) for x in np.linspace(5, 20, num = 5)]\n",
    "\n",
    "\n",
    "n_estimators=[5,15]\n",
    "max_depth=[3,5,8]\n",
    "learning_rate=[0.05,0.1,0.3]\n",
    "\n",
    "params = {\n",
    "    'n_estimators':n_estimators,\n",
    "    'max_depth': max_depth,\n",
    "    'learning_rate': learning_rate,\n",
    "    'objective': ('reg:linear','multi:softmax','multi:softprob'),\n",
    "    'scale_pos_weight' : (1,5),\n",
    "    'min_child_weight' : (1,5),\n",
    "    'colsample_bytree' : [0.8]\n",
    "}\n",
    "\n",
    "ac=make_scorer(f1_score,greater_is_better=True,average='macro')\n",
    "\n",
    "\n",
    "\n",
    "model = build_model()\n",
    "finder = GridSearchCV(\n",
    "    estimator=model,\n",
    "    param_grid=params,\n",
    "    scoring=ac,\n",
    "    fit_params=None,\n",
    "    n_jobs=None,\n",
    "    iid=False,\n",
    "    refit=False,\n",
    "    cv=tscv,  # change this to the splitter subject to test\n",
    "    verbose=10,\n",
    "    pre_dispatch=8,\n",
    "    error_score=-999\n",
    ")\n",
    "finder.fit(X_train, Y_train)\n",
    "best_params = finder.best_params_"
   ]
  },
  {
   "cell_type": "code",
   "execution_count": null,
   "metadata": {},
   "outputs": [],
   "source": []
  },
  {
   "cell_type": "code",
   "execution_count": 98,
   "metadata": {},
   "outputs": [],
   "source": [
    "train=df[df[\"nDate\"]<'2019-09-15']\n",
    "Y_train=train[\"clicks_level\"].values\n",
    "X_train=train.drop(['nDate','query','date','clicks_level','tomorrow_net_clicks'],axis=1).values"
   ]
  },
  {
   "cell_type": "code",
   "execution_count": 99,
   "metadata": {},
   "outputs": [
    {
     "data": {
      "text/plain": [
       "((872663, 60), (872663,))"
      ]
     },
     "execution_count": 99,
     "metadata": {},
     "output_type": "execute_result"
    }
   ],
   "source": [
    "X_train.shape,Y_train.shape"
   ]
  },
  {
   "cell_type": "code",
   "execution_count": 100,
   "metadata": {},
   "outputs": [],
   "source": [
    "test=df[df[\"nDate\"]>='2019-09-15']\n",
    "Y_test=test[\"clicks_level\"].values\n",
    "X_test=test.drop(['nDate','query','date','clicks_level','tomorrow_net_clicks'],axis=1).values"
   ]
  },
  {
   "cell_type": "code",
   "execution_count": 101,
   "metadata": {},
   "outputs": [
    {
     "data": {
      "text/plain": [
       "((102039, 60), (102039,))"
      ]
     },
     "execution_count": 101,
     "metadata": {},
     "output_type": "execute_result"
    }
   ],
   "source": [
    "X_test.shape,Y_test.shape"
   ]
  },
  {
   "cell_type": "code",
   "execution_count": 104,
   "metadata": {},
   "outputs": [
    {
     "name": "stderr",
     "output_type": "stream",
     "text": [
      "[Parallel(n_jobs=1)]: Using backend SequentialBackend with 1 concurrent workers.\n",
      "[Parallel(n_jobs=1)]: Done 200 out of 200 | elapsed:   30.0s finished\n",
      "[Parallel(n_jobs=1)]: Using backend SequentialBackend with 1 concurrent workers.\n"
     ]
    },
    {
     "name": "stdout",
     "output_type": "stream",
     "text": [
      "0.3623660747533575\n",
      "0.9850939346720372\n"
     ]
    },
    {
     "name": "stderr",
     "output_type": "stream",
     "text": [
      "[Parallel(n_jobs=1)]: Done 200 out of 200 | elapsed:    1.1s finished\n",
      "/anaconda/envs/py35/lib/python3.5/site-packages/sklearn/metrics/classification.py:1143: UndefinedMetricWarning: F-score is ill-defined and being set to 0.0 in labels with no predicted samples.\n",
      "  'precision', 'predicted', average, warn_for)\n"
     ]
    }
   ],
   "source": [
    "from sklearn.ensemble import ExtraTreesClassifier\n",
    "clf = ExtraTreesClassifier(verbose=1,max_depth=5,n_estimators=200,bootstrap=True,max_features='auto')\n",
    "clf.fit(X_train,Y_train)\n",
    "ypred=clf.predict(X_test)\n",
    "print (sklearn.metrics.f1_score(Y_test,ypred,average='macro'))\n",
    "print (sklearn.metrics.accuracy_score(Y_test,ypred))"
   ]
  },
  {
   "cell_type": "code",
   "execution_count": 65,
   "metadata": {},
   "outputs": [
    {
     "name": "stdout",
     "output_type": "stream",
     "text": [
      "[0]\tvalidation_0-merror:0.007348\tvalidation_1-merror:0.015484\n",
      "[1]\tvalidation_0-merror:0.007264\tvalidation_1-merror:0.015621\n",
      "[2]\tvalidation_0-merror:0.007231\tvalidation_1-merror:0.015425\n",
      "[3]\tvalidation_0-merror:0.007178\tvalidation_1-merror:0.015376\n",
      "[4]\tvalidation_0-merror:0.007168\tvalidation_1-merror:0.015318\n",
      "[5]\tvalidation_0-merror:0.007169\tvalidation_1-merror:0.01518\n",
      "[6]\tvalidation_0-merror:0.00714\tvalidation_1-merror:0.015112\n",
      "[7]\tvalidation_0-merror:0.007109\tvalidation_1-merror:0.015102\n",
      "[8]\tvalidation_0-merror:0.00711\tvalidation_1-merror:0.015014\n",
      "[9]\tvalidation_0-merror:0.007085\tvalidation_1-merror:0.015043\n",
      "[10]\tvalidation_0-merror:0.007075\tvalidation_1-merror:0.015112\n",
      "[11]\tvalidation_0-merror:0.007047\tvalidation_1-merror:0.015082\n",
      "[12]\tvalidation_0-merror:0.007037\tvalidation_1-merror:0.015043\n",
      "[13]\tvalidation_0-merror:0.007036\tvalidation_1-merror:0.015024\n",
      "[14]\tvalidation_0-merror:0.007008\tvalidation_1-merror:0.014955\n",
      "[15]\tvalidation_0-merror:0.007008\tvalidation_1-merror:0.014916\n",
      "[16]\tvalidation_0-merror:0.006987\tvalidation_1-merror:0.014935\n",
      "[17]\tvalidation_0-merror:0.006967\tvalidation_1-merror:0.014926\n",
      "[18]\tvalidation_0-merror:0.006947\tvalidation_1-merror:0.014935\n",
      "[19]\tvalidation_0-merror:0.006937\tvalidation_1-merror:0.014955\n",
      "[20]\tvalidation_0-merror:0.006904\tvalidation_1-merror:0.014877\n",
      "[21]\tvalidation_0-merror:0.006879\tvalidation_1-merror:0.014896\n",
      "[22]\tvalidation_0-merror:0.006877\tvalidation_1-merror:0.014886\n",
      "[23]\tvalidation_0-merror:0.006859\tvalidation_1-merror:0.014886\n",
      "[24]\tvalidation_0-merror:0.006837\tvalidation_1-merror:0.014818\n",
      "[25]\tvalidation_0-merror:0.006809\tvalidation_1-merror:0.014847\n",
      "[26]\tvalidation_0-merror:0.006796\tvalidation_1-merror:0.014857\n",
      "[27]\tvalidation_0-merror:0.006788\tvalidation_1-merror:0.014837\n",
      "[28]\tvalidation_0-merror:0.006774\tvalidation_1-merror:0.014818\n",
      "[29]\tvalidation_0-merror:0.006761\tvalidation_1-merror:0.014808\n",
      "[30]\tvalidation_0-merror:0.006743\tvalidation_1-merror:0.014808\n",
      "[31]\tvalidation_0-merror:0.006732\tvalidation_1-merror:0.014828\n",
      "[32]\tvalidation_0-merror:0.006725\tvalidation_1-merror:0.014818\n",
      "[33]\tvalidation_0-merror:0.006701\tvalidation_1-merror:0.014798\n",
      "[34]\tvalidation_0-merror:0.00669\tvalidation_1-merror:0.014779\n",
      "[35]\tvalidation_0-merror:0.006676\tvalidation_1-merror:0.014828\n",
      "[36]\tvalidation_0-merror:0.006651\tvalidation_1-merror:0.014847\n",
      "[37]\tvalidation_0-merror:0.006635\tvalidation_1-merror:0.014828\n",
      "[38]\tvalidation_0-merror:0.006617\tvalidation_1-merror:0.014837\n",
      "[39]\tvalidation_0-merror:0.006592\tvalidation_1-merror:0.014867\n",
      "[40]\tvalidation_0-merror:0.006557\tvalidation_1-merror:0.014837\n",
      "[41]\tvalidation_0-merror:0.006541\tvalidation_1-merror:0.014877\n",
      "[42]\tvalidation_0-merror:0.006523\tvalidation_1-merror:0.014867\n",
      "[43]\tvalidation_0-merror:0.006519\tvalidation_1-merror:0.014837\n",
      "[44]\tvalidation_0-merror:0.006487\tvalidation_1-merror:0.014837\n",
      "[45]\tvalidation_0-merror:0.006479\tvalidation_1-merror:0.014818\n",
      "[46]\tvalidation_0-merror:0.006463\tvalidation_1-merror:0.014847\n",
      "[47]\tvalidation_0-merror:0.006437\tvalidation_1-merror:0.014857\n",
      "[48]\tvalidation_0-merror:0.006416\tvalidation_1-merror:0.014828\n",
      "[49]\tvalidation_0-merror:0.006392\tvalidation_1-merror:0.014828\n",
      "[50]\tvalidation_0-merror:0.006384\tvalidation_1-merror:0.014837\n",
      "[51]\tvalidation_0-merror:0.006372\tvalidation_1-merror:0.014857\n",
      "[52]\tvalidation_0-merror:0.006355\tvalidation_1-merror:0.014847\n",
      "[53]\tvalidation_0-merror:0.006346\tvalidation_1-merror:0.014867\n",
      "[54]\tvalidation_0-merror:0.006331\tvalidation_1-merror:0.014877\n",
      "[55]\tvalidation_0-merror:0.006317\tvalidation_1-merror:0.014886\n",
      "[56]\tvalidation_0-merror:0.0063\tvalidation_1-merror:0.014886\n",
      "[57]\tvalidation_0-merror:0.006287\tvalidation_1-merror:0.014896\n",
      "[58]\tvalidation_0-merror:0.006276\tvalidation_1-merror:0.014935\n",
      "[59]\tvalidation_0-merror:0.006259\tvalidation_1-merror:0.014906\n",
      "[60]\tvalidation_0-merror:0.006245\tvalidation_1-merror:0.014926\n",
      "[61]\tvalidation_0-merror:0.006228\tvalidation_1-merror:0.014965\n",
      "[62]\tvalidation_0-merror:0.006218\tvalidation_1-merror:0.014965\n",
      "[63]\tvalidation_0-merror:0.006205\tvalidation_1-merror:0.014955\n",
      "[64]\tvalidation_0-merror:0.006188\tvalidation_1-merror:0.014955\n",
      "[65]\tvalidation_0-merror:0.006175\tvalidation_1-merror:0.014955\n",
      "[66]\tvalidation_0-merror:0.006159\tvalidation_1-merror:0.014945\n",
      "[67]\tvalidation_0-merror:0.006155\tvalidation_1-merror:0.014945\n",
      "[68]\tvalidation_0-merror:0.00615\tvalidation_1-merror:0.014945\n",
      "[69]\tvalidation_0-merror:0.006139\tvalidation_1-merror:0.014955\n",
      "[70]\tvalidation_0-merror:0.006127\tvalidation_1-merror:0.014955\n",
      "[71]\tvalidation_0-merror:0.006116\tvalidation_1-merror:0.014945\n",
      "[72]\tvalidation_0-merror:0.006095\tvalidation_1-merror:0.014926\n",
      "[73]\tvalidation_0-merror:0.006085\tvalidation_1-merror:0.014935\n",
      "[74]\tvalidation_0-merror:0.006076\tvalidation_1-merror:0.014926\n",
      "[75]\tvalidation_0-merror:0.006068\tvalidation_1-merror:0.014935\n",
      "[76]\tvalidation_0-merror:0.006047\tvalidation_1-merror:0.014965\n",
      "[77]\tvalidation_0-merror:0.006046\tvalidation_1-merror:0.014945\n",
      "[78]\tvalidation_0-merror:0.006031\tvalidation_1-merror:0.014955\n",
      "[79]\tvalidation_0-merror:0.00602\tvalidation_1-merror:0.014916\n",
      "[80]\tvalidation_0-merror:0.006013\tvalidation_1-merror:0.014945\n",
      "[81]\tvalidation_0-merror:0.005989\tvalidation_1-merror:0.014906\n",
      "[82]\tvalidation_0-merror:0.005979\tvalidation_1-merror:0.014906\n",
      "[83]\tvalidation_0-merror:0.005971\tvalidation_1-merror:0.014916\n",
      "[84]\tvalidation_0-merror:0.005958\tvalidation_1-merror:0.014935\n",
      "[85]\tvalidation_0-merror:0.005942\tvalidation_1-merror:0.014926\n",
      "[86]\tvalidation_0-merror:0.00593\tvalidation_1-merror:0.014896\n",
      "[87]\tvalidation_0-merror:0.005928\tvalidation_1-merror:0.014896\n",
      "[88]\tvalidation_0-merror:0.005923\tvalidation_1-merror:0.014916\n",
      "[89]\tvalidation_0-merror:0.005912\tvalidation_1-merror:0.014896\n",
      "[90]\tvalidation_0-merror:0.005904\tvalidation_1-merror:0.014906\n",
      "[91]\tvalidation_0-merror:0.005897\tvalidation_1-merror:0.014916\n",
      "[92]\tvalidation_0-merror:0.005871\tvalidation_1-merror:0.014935\n",
      "[93]\tvalidation_0-merror:0.00585\tvalidation_1-merror:0.014945\n",
      "[94]\tvalidation_0-merror:0.005854\tvalidation_1-merror:0.014926\n",
      "[95]\tvalidation_0-merror:0.005842\tvalidation_1-merror:0.014935\n",
      "[96]\tvalidation_0-merror:0.005834\tvalidation_1-merror:0.014926\n",
      "[97]\tvalidation_0-merror:0.005827\tvalidation_1-merror:0.014916\n",
      "[98]\tvalidation_0-merror:0.00582\tvalidation_1-merror:0.014916\n",
      "[99]\tvalidation_0-merror:0.005816\tvalidation_1-merror:0.014926\n"
     ]
    },
    {
     "data": {
      "text/plain": [
       "XGBClassifier(base_score=0.5, booster='gbtree', colsample_bylevel=1,\n",
       "       colsample_bytree=1, early_stopping_rounds=10,\n",
       "       eval_metric=['merror'],\n",
       "       eval_set=[(array([[ 0.     ,  0.     , ..., 38.42493, 33.99073],\n",
       "       [ 0.     ,  0.     , ..., 38.42493, 33.99073],\n",
       "       ...,\n",
       "       [ 0.     ,  0.     , ..., 23.0271 , 28.5745 ],\n",
       "       [ 0.     ,  0.     , ..., 23.0271 , 28.5745 ]]), array([0, 0, ..., 0, 0])), (array([[ 0.     ,  0.     , ......98372, 26.97802],\n",
       "       [ 0.     ,  0.     , ..., 25.98372, 26.97802]]), array([0, 0, ..., 0, 0]))],\n",
       "       gamma=0, learning_rate=0.1, max_delta_step=0, max_depth=8,\n",
       "       min_child_weight=1, missing=None, n_estimators=100, n_jobs=1,\n",
       "       nthread=None, objective='multi:softprob', random_state=0,\n",
       "       reg_alpha=0, reg_lambda=1, scale_pos_weight=1, seed=None,\n",
       "       silent=True, subsample=1, verbose_eval=True)"
      ]
     },
     "execution_count": 65,
     "metadata": {},
     "output_type": "execute_result"
    }
   ],
   "source": [
    "eset = [(X_train, Y_train), (X_test, Y_test)]\n",
    "clf=xgboost.XGBClassifier(learning_rate = 0.1,max_depth = 8,early_stopping_rounds=10,n_estimators = 100,eval_metric=[\"merror\"], eval_set=eset,verbose_eval=True)\n",
    "clf.fit(X_train,Y_train,eval_set=eset,verbose=True)"
   ]
  },
  {
   "cell_type": "code",
   "execution_count": 62,
   "metadata": {},
   "outputs": [
    {
     "data": {
      "text/plain": [
       "<matplotlib.axes._subplots.AxesSubplot at 0x7fd9352dbac8>"
      ]
     },
     "execution_count": 62,
     "metadata": {},
     "output_type": "execute_result"
    },
    {
     "data": {
      "image/png": "[encoded data removed]",
      "text/plain": [
       "<Figure size 720x720 with 1 Axes>"
      ]
     },
     "metadata": {},
     "output_type": "display_data"
    }
   ],
   "source": [
    "fig,ax=plt.subplots(figsize=(10,10))\n",
    "xgboost.plot_importance(clf,ax=ax)\n",
    "# clf.feature_importances_\n",
    "# df.drop(['nDate','query','date','clicks_level'],axis=1)"
   ]
  },
  {
   "cell_type": "code",
   "execution_count": 53,
   "metadata": {},
   "outputs": [
    {
     "data": {
      "text/plain": [
       "array([0, 1, 2])"
      ]
     },
     "execution_count": 53,
     "metadata": {},
     "output_type": "execute_result"
    }
   ],
   "source": [
    "np.unique(Y_train)"
   ]
  },
  {
   "cell_type": "code",
   "execution_count": 66,
   "metadata": {},
   "outputs": [
    {
     "name": "stdout",
     "output_type": "stream",
     "text": [
      "0.4279909400234308\n",
      "0.985074334323151\n"
     ]
    }
   ],
   "source": [
    "ypred=clf.predict(X_test)\n",
    "print (sklearn.metrics.f1_score(Y_test,ypred,average='macro'))\n",
    "print (sklearn.metrics.accuracy_score(Y_test,ypred))"
   ]
  },
  {
   "cell_type": "code",
   "execution_count": 106,
   "metadata": {},
   "outputs": [],
   "source": [
    "def print_confusion_matrix(confusion_matrix, class_names, figsize = (10,7), fontsize=14):\n",
    "    \"\"\"Prints a confusion matrix, as returned by sklearn.metrics.confusion_matrix, as a heatmap.\n",
    "    \n",
    "    Arguments\n",
    "    ---------\n",
    "    confusion_matrix: numpy.ndarray\n",
    "        The numpy.ndarray object returned from a call to sklearn.metrics.confusion_matrix. \n",
    "        Similarly constructed ndarrays can also be used.\n",
    "    class_names: list\n",
    "        An ordered list of class names, in the order they index the given confusion matrix.\n",
    "    figsize: tuple\n",
    "        A 2-long tuple, the first value determining the horizontal size of the ouputted figure,\n",
    "        the second determining the vertical size. Defaults to (10,7).\n",
    "    fontsize: int\n",
    "        Font size for axes labels. Defaults to 14.\n",
    "        \n",
    "    Returns\n",
    "    -------\n",
    "    matplotlib.figure.Figure\n",
    "        The resulting confusion matrix figure\n",
    "    \"\"\"\n",
    "    df_cm = pd.DataFrame(\n",
    "        confusion_matrix, index=class_names, columns=class_names, \n",
    "    )\n",
    "    fig = plt.figure(figsize=figsize)\n",
    "    try:\n",
    "        heatmap = sns.heatmap(df_cm, annot=True, fmt=\"d\")\n",
    "    except ValueError:\n",
    "        raise ValueError(\"Confusion matrix values must be integers.\")\n",
    "    heatmap.yaxis.set_ticklabels(heatmap.yaxis.get_ticklabels(), rotation=0, ha='right', fontsize=fontsize)\n",
    "    heatmap.xaxis.set_ticklabels(heatmap.xaxis.get_ticklabels(), rotation=45, ha='right', fontsize=fontsize)\n",
    "    plt.ylabel('True label')\n",
    "    plt.xlabel('Predicted label')\n",
    "    return fig"
   ]
  },
  {
   "cell_type": "code",
   "execution_count": 107,
   "metadata": {},
   "outputs": [
    {
     "data": {
      "image/png": "[encoded data removed]",
      "text/plain": [
       "<Figure size 720x504 with 2 Axes>"
      ]
     },
     "execution_count": 107,
     "metadata": {},
     "output_type": "execute_result"
    },
    {
     "data": {
      "image/png": "[encoded data removed]",
      "text/plain": [
       "<Figure size 720x504 with 2 Axes>"
      ]
     },
     "metadata": {},
     "output_type": "display_data"
    }
   ],
   "source": [
    "print_confusion_matrix(sklearn.metrics.confusion_matrix(Y_test,ypred),class_names=['0','1','2'])"
   ]
  },
  {
   "cell_type": "code",
   "execution_count": 138,
   "metadata": {},
   "outputs": [
    {
     "data": {
      "text/plain": [
       "array([1, 1, 1, ..., 1, 2, 1])"
      ]
     },
     "execution_count": 138,
     "metadata": {},
     "output_type": "execute_result"
    }
   ],
   "source": [
    "Y_test[Y_test>0]"
   ]
  },
  {
   "cell_type": "code",
   "execution_count": 139,
   "metadata": {},
   "outputs": [
    {
     "data": {
      "text/html": [
       "<div>\n",
       "<style scoped>\n",
       "    .dataframe tbody tr th:only-of-type {\n",
       "        vertical-align: middle;\n",
       "    }\n",
       "\n",
       "    .dataframe tbody tr th {\n",
       "        vertical-align: top;\n",
       "    }\n",
       "\n",
       "    .dataframe thead th {\n",
       "        text-align: right;\n",
       "    }\n",
       "</style>\n",
       "<table border=\"1\" class=\"dataframe\">\n",
       "  <thead>\n",
       "    <tr style=\"text-align: right;\">\n",
       "      <th></th>\n",
       "      <th>date</th>\n",
       "      <th>query</th>\n",
       "      <th>tomorrow_net_clicks</th>\n",
       "      <th>bot_clicks_feature</th>\n",
       "      <th>bcfeature1</th>\n",
       "      <th>bcfeature2</th>\n",
       "      <th>bcfeature3</th>\n",
       "      <th>bcfeature4</th>\n",
       "      <th>cfeature4</th>\n",
       "      <th>ifeature4</th>\n",
       "      <th>...</th>\n",
       "      <th>roll_c_feature7_all</th>\n",
       "      <th>roll_c_feature30_all</th>\n",
       "      <th>roll_i_feature2_all</th>\n",
       "      <th>roll_i_feature3_all</th>\n",
       "      <th>roll_i_feature7_all</th>\n",
       "      <th>roll_i_feature30_all</th>\n",
       "      <th>roll_p_feature2_all</th>\n",
       "      <th>roll_p_feature3_all</th>\n",
       "      <th>roll_p_feature7_all</th>\n",
       "      <th>roll_p_feature30_all</th>\n",
       "    </tr>\n",
       "  </thead>\n",
       "  <tbody>\n",
       "    <tr>\n",
       "      <th>0</th>\n",
       "      <td>2019-06-21</td>\n",
       "      <td>?????</td>\n",
       "      <td>0</td>\n",
       "      <td>0</td>\n",
       "      <td>0</td>\n",
       "      <td>0</td>\n",
       "      <td>0</td>\n",
       "      <td>0</td>\n",
       "      <td>0</td>\n",
       "      <td>0</td>\n",
       "      <td>...</td>\n",
       "      <td>85.428571</td>\n",
       "      <td>119.766667</td>\n",
       "      <td>6081.5</td>\n",
       "      <td>5716.333333</td>\n",
       "      <td>5104.857143</td>\n",
       "      <td>6170.533333</td>\n",
       "      <td>37.354981</td>\n",
       "      <td>38.114445</td>\n",
       "      <td>38.424932</td>\n",
       "      <td>33.990731</td>\n",
       "    </tr>\n",
       "    <tr>\n",
       "      <th>1</th>\n",
       "      <td>2019-06-21</td>\n",
       "      <td>' mattress store</td>\n",
       "      <td>0</td>\n",
       "      <td>0</td>\n",
       "      <td>0</td>\n",
       "      <td>0</td>\n",
       "      <td>0</td>\n",
       "      <td>0</td>\n",
       "      <td>0</td>\n",
       "      <td>0</td>\n",
       "      <td>...</td>\n",
       "      <td>85.428571</td>\n",
       "      <td>119.766667</td>\n",
       "      <td>6081.5</td>\n",
       "      <td>5716.333333</td>\n",
       "      <td>5104.857143</td>\n",
       "      <td>6170.533333</td>\n",
       "      <td>37.354981</td>\n",
       "      <td>38.114445</td>\n",
       "      <td>38.424932</td>\n",
       "      <td>33.990731</td>\n",
       "    </tr>\n",
       "    <tr>\n",
       "      <th>2</th>\n",
       "      <td>2019-06-21</td>\n",
       "      <td>#1 rated mattress</td>\n",
       "      <td>0</td>\n",
       "      <td>0</td>\n",
       "      <td>0</td>\n",
       "      <td>0</td>\n",
       "      <td>0</td>\n",
       "      <td>0</td>\n",
       "      <td>0</td>\n",
       "      <td>0</td>\n",
       "      <td>...</td>\n",
       "      <td>85.428571</td>\n",
       "      <td>119.766667</td>\n",
       "      <td>6081.5</td>\n",
       "      <td>5716.333333</td>\n",
       "      <td>5104.857143</td>\n",
       "      <td>6170.533333</td>\n",
       "      <td>37.354981</td>\n",
       "      <td>38.114445</td>\n",
       "      <td>38.424932</td>\n",
       "      <td>33.990731</td>\n",
       "    </tr>\n",
       "    <tr>\n",
       "      <th>3</th>\n",
       "      <td>2019-06-21</td>\n",
       "      <td>10 best mattresses</td>\n",
       "      <td>0</td>\n",
       "      <td>0</td>\n",
       "      <td>0</td>\n",
       "      <td>0</td>\n",
       "      <td>0</td>\n",
       "      <td>0</td>\n",
       "      <td>0</td>\n",
       "      <td>0</td>\n",
       "      <td>...</td>\n",
       "      <td>85.428571</td>\n",
       "      <td>119.766667</td>\n",
       "      <td>6081.5</td>\n",
       "      <td>5716.333333</td>\n",
       "      <td>5104.857143</td>\n",
       "      <td>6170.533333</td>\n",
       "      <td>37.354981</td>\n",
       "      <td>38.114445</td>\n",
       "      <td>38.424932</td>\n",
       "      <td>33.990731</td>\n",
       "    </tr>\n",
       "    <tr>\n",
       "      <th>4</th>\n",
       "      <td>2019-06-21</td>\n",
       "      <td>100 cotton percale sheets queen</td>\n",
       "      <td>0</td>\n",
       "      <td>0</td>\n",
       "      <td>0</td>\n",
       "      <td>0</td>\n",
       "      <td>0</td>\n",
       "      <td>0</td>\n",
       "      <td>0</td>\n",
       "      <td>0</td>\n",
       "      <td>...</td>\n",
       "      <td>85.428571</td>\n",
       "      <td>119.766667</td>\n",
       "      <td>6081.5</td>\n",
       "      <td>5716.333333</td>\n",
       "      <td>5104.857143</td>\n",
       "      <td>6170.533333</td>\n",
       "      <td>37.354981</td>\n",
       "      <td>38.114445</td>\n",
       "      <td>38.424932</td>\n",
       "      <td>33.990731</td>\n",
       "    </tr>\n",
       "  </tbody>\n",
       "</table>\n",
       "<p>5 rows × 64 columns</p>\n",
       "</div>"
      ],
      "text/plain": [
       "         date                            query  tomorrow_net_clicks  \\\n",
       "0  2019-06-21                            ?????                    0   \n",
       "1  2019-06-21                 ' mattress store                    0   \n",
       "2  2019-06-21                #1 rated mattress                    0   \n",
       "3  2019-06-21               10 best mattresses                    0   \n",
       "4  2019-06-21  100 cotton percale sheets queen                    0   \n",
       "\n",
       "   bot_clicks_feature  bcfeature1  bcfeature2  bcfeature3  bcfeature4  \\\n",
       "0                   0           0           0           0           0   \n",
       "1                   0           0           0           0           0   \n",
       "2                   0           0           0           0           0   \n",
       "3                   0           0           0           0           0   \n",
       "4                   0           0           0           0           0   \n",
       "\n",
       "   cfeature4  ifeature4          ...           roll_c_feature7_all  \\\n",
       "0          0          0          ...                     85.428571   \n",
       "1          0          0          ...                     85.428571   \n",
       "2          0          0          ...                     85.428571   \n",
       "3          0          0          ...                     85.428571   \n",
       "4          0          0          ...                     85.428571   \n",
       "\n",
       "   roll_c_feature30_all  roll_i_feature2_all  roll_i_feature3_all  \\\n",
       "0            119.766667               6081.5          5716.333333   \n",
       "1            119.766667               6081.5          5716.333333   \n",
       "2            119.766667               6081.5          5716.333333   \n",
       "3            119.766667               6081.5          5716.333333   \n",
       "4            119.766667               6081.5          5716.333333   \n",
       "\n",
       "   roll_i_feature7_all  roll_i_feature30_all  roll_p_feature2_all  \\\n",
       "0          5104.857143           6170.533333            37.354981   \n",
       "1          5104.857143           6170.533333            37.354981   \n",
       "2          5104.857143           6170.533333            37.354981   \n",
       "3          5104.857143           6170.533333            37.354981   \n",
       "4          5104.857143           6170.533333            37.354981   \n",
       "\n",
       "   roll_p_feature3_all  roll_p_feature7_all  roll_p_feature30_all  \n",
       "0            38.114445            38.424932             33.990731  \n",
       "1            38.114445            38.424932             33.990731  \n",
       "2            38.114445            38.424932             33.990731  \n",
       "3            38.114445            38.424932             33.990731  \n",
       "4            38.114445            38.424932             33.990731  \n",
       "\n",
       "[5 rows x 64 columns]"
      ]
     },
     "execution_count": 139,
     "metadata": {},
     "output_type": "execute_result"
    }
   ],
   "source": [
    "df.head()"
   ]
  },
  {
   "cell_type": "code",
   "execution_count": null,
   "metadata": {},
   "outputs": [],
   "source": []
  }
 ],
 "metadata": {
  "kernelspec": {
   "display_name": "Python 3",
   "language": "python",
   "name": "python3"
  },
  "language_info": {
   "codemirror_mode": {
    "name": "ipython",
    "version": 3
   },
   "file_extension": ".py",
   "mimetype": "text/x-python",
   "name": "python",
   "nbconvert_exporter": "python",
   "pygments_lexer": "ipython3",
   "version": "3.6.8"
  }
 },
 "nbformat": 4,
 "nbformat_minor": 4
}
