{
 "cells": [
  {
   "cell_type": "code",
   "execution_count": 2,
   "metadata": {},
   "outputs": [],
   "source": [
    "import pandas as pd\n",
    "import numpy as np\n",
    "import pickle\n",
    "import numpy as np\n",
    "from sklearn.preprocessing import LabelEncoder\n",
    "import matplotlib.pyplot as plt\n",
    "import sklearn\n",
    "from sklearn.model_selection import TimeSeriesSplit\n",
    "from sklearn.preprocessing import MinMaxScaler\n",
    "from keras.models import Sequential\n",
    "from keras.layers import Dense\n",
    "from keras.layers import LSTM\n",
    "from keras.layers import RepeatVector\n",
    "from keras.layers import TimeDistributed\n",
    "from keras.layers import Conv1D\n",
    "from keras.layers import MaxPool1D\n",
    "from keras.layers import Flatten\n",
    "from keras.layers import Dropout\n",
    "from keras import optimizers\n",
    "from math import sqrt\n",
    "from keras.utils import to_categorical\n",
    "import seaborn as sns\n",
    "import keras\n",
    "from keras.callbacks import ModelCheckpoint\n",
    "from keras_adabound import AdaBound\n",
    "from mlxtend.plotting import plot_confusion_matrix\n",
    "import matplotlib\n"
   ]
  },
  {
   "cell_type": "code",
   "execution_count": 6,
   "metadata": {},
   "outputs": [],
   "source": [
    "# df=pd.read_csv('./fdf.csv')\n",
    "# df = df.drop(df.columns[0], axis=1)"
   ]
  },
  {
   "cell_type": "code",
   "execution_count": null,
   "metadata": {},
   "outputs": [],
   "source": []
  },
  {
   "cell_type": "code",
   "execution_count": 3,
   "metadata": {},
   "outputs": [],
   "source": [
    "df=pd.read_csv('./fdf-embedd.csv')\n",
    "df = df.drop(df.columns[0], axis=1)\n",
    "df=df.fillna(-1)\n",
    "df[\"nDate\"]=pd.to_datetime(df.date,format='%Y-%m-%d')"
   ]
  },
  {
   "cell_type": "code",
   "execution_count": 4,
   "metadata": {},
   "outputs": [
    {
     "data": {
      "image/png": "[encoded data removed]",
      "text/plain": [
       "<Figure size 432x288 with 1 Axes>"
      ]
     },
     "metadata": {
      "needs_background": "light"
     },
     "output_type": "display_data"
    }
   ],
   "source": [
    "pd.value_counts(df['clicks_level']).plot.bar()\n",
    "plt.tight_layout()"
   ]
  },
  {
   "cell_type": "markdown",
   "metadata": {},
   "source": [
    "## Outliers"
   ]
  },
  {
   "cell_type": "code",
   "execution_count": 8,
   "metadata": {},
   "outputs": [
    {
     "name": "stderr",
     "output_type": "stream",
     "text": [
      "'c' argument looks like a single numeric RGB or RGBA sequence, which should be avoided as value-mapping will have precedence in case its length matches with 'x' & 'y'.  Please use a 2-D array with a single row if you really want to specify the same RGB or RGBA value for all points.\n"
     ]
    },
    {
     "data": {
      "text/plain": [
       "<matplotlib.axes._subplots.AxesSubplot at 0x7f774c7d3390>"
      ]
     },
     "execution_count": 8,
     "metadata": {},
     "output_type": "execute_result"
    },
    {
     "data": {
      "image/png": "[encoded data removed]",
      "text/plain": [
       "<Figure size 432x288 with 1 Axes>"
      ]
     },
     "metadata": {
      "needs_background": "light"
     },
     "output_type": "display_data"
    }
   ],
   "source": [
    "sns.boxenplot(x=df['clicks_level'])"
   ]
  },
  {
   "cell_type": "code",
   "execution_count": 9,
   "metadata": {},
   "outputs": [
    {
     "data": {
      "text/html": [
       "<div>\n",
       "<style scoped>\n",
       "    .dataframe tbody tr th:only-of-type {\n",
       "        vertical-align: middle;\n",
       "    }\n",
       "\n",
       "    .dataframe tbody tr th {\n",
       "        vertical-align: top;\n",
       "    }\n",
       "\n",
       "    .dataframe thead th {\n",
       "        text-align: right;\n",
       "    }\n",
       "</style>\n",
       "<table border=\"1\" class=\"dataframe\">\n",
       "  <thead>\n",
       "    <tr style=\"text-align: right;\">\n",
       "      <th></th>\n",
       "      <th>date</th>\n",
       "      <th>query</th>\n",
       "      <th>tomorrow_net_clicks</th>\n",
       "      <th>bot_clicks_feature</th>\n",
       "      <th>bcfeature1</th>\n",
       "      <th>bcfeature2</th>\n",
       "      <th>bcfeature3</th>\n",
       "      <th>bcfeature4</th>\n",
       "      <th>cfeature4</th>\n",
       "      <th>ifeature4</th>\n",
       "      <th>...</th>\n",
       "      <th>roll_i_feature3_all</th>\n",
       "      <th>roll_i_feature7_all</th>\n",
       "      <th>roll_i_feature30_all</th>\n",
       "      <th>roll_p_feature2_all</th>\n",
       "      <th>roll_p_feature3_all</th>\n",
       "      <th>roll_p_feature7_all</th>\n",
       "      <th>roll_p_feature30_all</th>\n",
       "      <th>Mean</th>\n",
       "      <th>Median</th>\n",
       "      <th>nDate</th>\n",
       "    </tr>\n",
       "  </thead>\n",
       "  <tbody>\n",
       "    <tr>\n",
       "      <td>0</td>\n",
       "      <td>2019-06-21</td>\n",
       "      <td>?????</td>\n",
       "      <td>0</td>\n",
       "      <td>0</td>\n",
       "      <td>0</td>\n",
       "      <td>0</td>\n",
       "      <td>0</td>\n",
       "      <td>0</td>\n",
       "      <td>0</td>\n",
       "      <td>0</td>\n",
       "      <td>...</td>\n",
       "      <td>5716.333333</td>\n",
       "      <td>5104.857143</td>\n",
       "      <td>6170.533333</td>\n",
       "      <td>37.354981</td>\n",
       "      <td>38.114445</td>\n",
       "      <td>38.424932</td>\n",
       "      <td>33.990731</td>\n",
       "      <td>-0.014119</td>\n",
       "      <td>0.003428</td>\n",
       "      <td>2019-06-21</td>\n",
       "    </tr>\n",
       "    <tr>\n",
       "      <td>1</td>\n",
       "      <td>2019-06-21</td>\n",
       "      <td>' mattress store</td>\n",
       "      <td>0</td>\n",
       "      <td>0</td>\n",
       "      <td>0</td>\n",
       "      <td>0</td>\n",
       "      <td>0</td>\n",
       "      <td>0</td>\n",
       "      <td>0</td>\n",
       "      <td>0</td>\n",
       "      <td>...</td>\n",
       "      <td>5716.333333</td>\n",
       "      <td>5104.857143</td>\n",
       "      <td>6170.533333</td>\n",
       "      <td>37.354981</td>\n",
       "      <td>38.114445</td>\n",
       "      <td>38.424932</td>\n",
       "      <td>33.990731</td>\n",
       "      <td>-0.010589</td>\n",
       "      <td>0.006418</td>\n",
       "      <td>2019-06-21</td>\n",
       "    </tr>\n",
       "    <tr>\n",
       "      <td>2</td>\n",
       "      <td>2019-06-21</td>\n",
       "      <td>#1 rated mattress</td>\n",
       "      <td>0</td>\n",
       "      <td>0</td>\n",
       "      <td>0</td>\n",
       "      <td>0</td>\n",
       "      <td>0</td>\n",
       "      <td>0</td>\n",
       "      <td>0</td>\n",
       "      <td>0</td>\n",
       "      <td>...</td>\n",
       "      <td>5716.333333</td>\n",
       "      <td>5104.857143</td>\n",
       "      <td>6170.533333</td>\n",
       "      <td>37.354981</td>\n",
       "      <td>38.114445</td>\n",
       "      <td>38.424932</td>\n",
       "      <td>33.990731</td>\n",
       "      <td>-0.010928</td>\n",
       "      <td>0.000463</td>\n",
       "      <td>2019-06-21</td>\n",
       "    </tr>\n",
       "    <tr>\n",
       "      <td>3</td>\n",
       "      <td>2019-06-21</td>\n",
       "      <td>10 best mattresses</td>\n",
       "      <td>0</td>\n",
       "      <td>0</td>\n",
       "      <td>0</td>\n",
       "      <td>0</td>\n",
       "      <td>0</td>\n",
       "      <td>0</td>\n",
       "      <td>0</td>\n",
       "      <td>0</td>\n",
       "      <td>...</td>\n",
       "      <td>5716.333333</td>\n",
       "      <td>5104.857143</td>\n",
       "      <td>6170.533333</td>\n",
       "      <td>37.354981</td>\n",
       "      <td>38.114445</td>\n",
       "      <td>38.424932</td>\n",
       "      <td>33.990731</td>\n",
       "      <td>-0.011061</td>\n",
       "      <td>0.001539</td>\n",
       "      <td>2019-06-21</td>\n",
       "    </tr>\n",
       "    <tr>\n",
       "      <td>4</td>\n",
       "      <td>2019-06-21</td>\n",
       "      <td>100 cotton percale sheets queen</td>\n",
       "      <td>0</td>\n",
       "      <td>0</td>\n",
       "      <td>0</td>\n",
       "      <td>0</td>\n",
       "      <td>0</td>\n",
       "      <td>0</td>\n",
       "      <td>0</td>\n",
       "      <td>0</td>\n",
       "      <td>...</td>\n",
       "      <td>5716.333333</td>\n",
       "      <td>5104.857143</td>\n",
       "      <td>6170.533333</td>\n",
       "      <td>37.354981</td>\n",
       "      <td>38.114445</td>\n",
       "      <td>38.424932</td>\n",
       "      <td>33.990731</td>\n",
       "      <td>-0.010018</td>\n",
       "      <td>0.005830</td>\n",
       "      <td>2019-06-21</td>\n",
       "    </tr>\n",
       "  </tbody>\n",
       "</table>\n",
       "<p>5 rows × 67 columns</p>\n",
       "</div>"
      ],
      "text/plain": [
       "         date                            query  tomorrow_net_clicks  \\\n",
       "0  2019-06-21                            ?????                    0   \n",
       "1  2019-06-21                 ' mattress store                    0   \n",
       "2  2019-06-21                #1 rated mattress                    0   \n",
       "3  2019-06-21               10 best mattresses                    0   \n",
       "4  2019-06-21  100 cotton percale sheets queen                    0   \n",
       "\n",
       "   bot_clicks_feature  bcfeature1  bcfeature2  bcfeature3  bcfeature4  \\\n",
       "0                   0           0           0           0           0   \n",
       "1                   0           0           0           0           0   \n",
       "2                   0           0           0           0           0   \n",
       "3                   0           0           0           0           0   \n",
       "4                   0           0           0           0           0   \n",
       "\n",
       "   cfeature4  ifeature4  ...  roll_i_feature3_all  roll_i_feature7_all  \\\n",
       "0          0          0  ...          5716.333333          5104.857143   \n",
       "1          0          0  ...          5716.333333          5104.857143   \n",
       "2          0          0  ...          5716.333333          5104.857143   \n",
       "3          0          0  ...          5716.333333          5104.857143   \n",
       "4          0          0  ...          5716.333333          5104.857143   \n",
       "\n",
       "   roll_i_feature30_all  roll_p_feature2_all  roll_p_feature3_all  \\\n",
       "0           6170.533333            37.354981            38.114445   \n",
       "1           6170.533333            37.354981            38.114445   \n",
       "2           6170.533333            37.354981            38.114445   \n",
       "3           6170.533333            37.354981            38.114445   \n",
       "4           6170.533333            37.354981            38.114445   \n",
       "\n",
       "   roll_p_feature7_all  roll_p_feature30_all      Mean    Median      nDate  \n",
       "0            38.424932             33.990731 -0.014119  0.003428 2019-06-21  \n",
       "1            38.424932             33.990731 -0.010589  0.006418 2019-06-21  \n",
       "2            38.424932             33.990731 -0.010928  0.000463 2019-06-21  \n",
       "3            38.424932             33.990731 -0.011061  0.001539 2019-06-21  \n",
       "4            38.424932             33.990731 -0.010018  0.005830 2019-06-21  \n",
       "\n",
       "[5 rows x 67 columns]"
      ]
     },
     "execution_count": 9,
     "metadata": {},
     "output_type": "execute_result"
    }
   ],
   "source": [
    "df.head()"
   ]
  },
  {
   "cell_type": "code",
   "execution_count": 10,
   "metadata": {},
   "outputs": [],
   "source": [
    "# df[df.pfeature4==-1]=\n",
    "df.loc[df['clicks_level']==1, 'clicks_level'] = 2"
   ]
  },
  {
   "cell_type": "code",
   "execution_count": 11,
   "metadata": {},
   "outputs": [
    {
     "data": {
      "text/plain": [
       "array([0, 2])"
      ]
     },
     "execution_count": 11,
     "metadata": {},
     "output_type": "execute_result"
    }
   ],
   "source": [
    "df['clicks_level'].unique()"
   ]
  },
  {
   "cell_type": "code",
   "execution_count": 7,
   "metadata": {},
   "outputs": [],
   "source": [
    "# gb.get_group(1).sample(50000,replace=True)"
   ]
  },
  {
   "cell_type": "code",
   "execution_count": 4,
   "metadata": {},
   "outputs": [],
   "source": [
    "gb=df.groupby('clicks_level')\n",
    "# newdf=pd.concat([y.sample(50000,replce=True) for y in gb.get_group(1)])\n",
    "df=pd.concat([df,gb.get_group(1).sample(800000,replace=True),gb.get_group(2).sample(800000,replace=True)])\n",
    "df=df.sort_values(['date'])"
   ]
  },
  {
   "cell_type": "code",
   "execution_count": 12,
   "metadata": {},
   "outputs": [],
   "source": [
    "gb=df.groupby('clicks_level')\n",
    "# newdf=pd.concat([y.sample(50000,replce=True) for y in gb.get_group(1)])\n",
    "df=pd.concat([df,gb.get_group(2).sample(800000,replace=True)])\n",
    "df=df.sort_values(['date'])"
   ]
  },
  {
   "cell_type": "code",
   "execution_count": 6,
   "metadata": {},
   "outputs": [
    {
     "data": {
      "text/html": [
       "<div>\n",
       "<style scoped>\n",
       "    .dataframe tbody tr th:only-of-type {\n",
       "        vertical-align: middle;\n",
       "    }\n",
       "\n",
       "    .dataframe tbody tr th {\n",
       "        vertical-align: top;\n",
       "    }\n",
       "\n",
       "    .dataframe thead th {\n",
       "        text-align: right;\n",
       "    }\n",
       "</style>\n",
       "<table border=\"1\" class=\"dataframe\">\n",
       "  <thead>\n",
       "    <tr style=\"text-align: right;\">\n",
       "      <th></th>\n",
       "      <th>date</th>\n",
       "      <th>query</th>\n",
       "      <th>tomorrow_net_clicks</th>\n",
       "      <th>bot_clicks_feature</th>\n",
       "      <th>bcfeature1</th>\n",
       "      <th>bcfeature2</th>\n",
       "      <th>bcfeature3</th>\n",
       "      <th>bcfeature4</th>\n",
       "      <th>cfeature4</th>\n",
       "      <th>ifeature4</th>\n",
       "      <th>...</th>\n",
       "      <th>roll_i_feature3_all</th>\n",
       "      <th>roll_i_feature7_all</th>\n",
       "      <th>roll_i_feature30_all</th>\n",
       "      <th>roll_p_feature2_all</th>\n",
       "      <th>roll_p_feature3_all</th>\n",
       "      <th>roll_p_feature7_all</th>\n",
       "      <th>roll_p_feature30_all</th>\n",
       "      <th>Mean</th>\n",
       "      <th>Median</th>\n",
       "      <th>nDate</th>\n",
       "    </tr>\n",
       "  </thead>\n",
       "  <tbody>\n",
       "    <tr>\n",
       "      <td>0</td>\n",
       "      <td>2019-06-21</td>\n",
       "      <td>?????</td>\n",
       "      <td>0</td>\n",
       "      <td>0</td>\n",
       "      <td>0</td>\n",
       "      <td>0</td>\n",
       "      <td>0</td>\n",
       "      <td>0</td>\n",
       "      <td>0</td>\n",
       "      <td>0</td>\n",
       "      <td>...</td>\n",
       "      <td>5716.333333</td>\n",
       "      <td>5104.857143</td>\n",
       "      <td>6170.533333</td>\n",
       "      <td>37.354981</td>\n",
       "      <td>38.114445</td>\n",
       "      <td>38.424932</td>\n",
       "      <td>33.990731</td>\n",
       "      <td>-0.014119</td>\n",
       "      <td>0.003428</td>\n",
       "      <td>2019-06-21</td>\n",
       "    </tr>\n",
       "    <tr>\n",
       "      <td>4899</td>\n",
       "      <td>2019-06-21</td>\n",
       "      <td>mattresses store</td>\n",
       "      <td>1</td>\n",
       "      <td>1</td>\n",
       "      <td>1</td>\n",
       "      <td>0</td>\n",
       "      <td>0</td>\n",
       "      <td>0</td>\n",
       "      <td>0</td>\n",
       "      <td>2</td>\n",
       "      <td>...</td>\n",
       "      <td>5716.333333</td>\n",
       "      <td>5104.857143</td>\n",
       "      <td>6170.533333</td>\n",
       "      <td>37.354981</td>\n",
       "      <td>38.114445</td>\n",
       "      <td>38.424932</td>\n",
       "      <td>33.990731</td>\n",
       "      <td>-0.011150</td>\n",
       "      <td>0.010450</td>\n",
       "      <td>2019-06-21</td>\n",
       "    </tr>\n",
       "    <tr>\n",
       "      <td>10083</td>\n",
       "      <td>2019-06-21</td>\n",
       "      <td>where can i try a saatva mattress</td>\n",
       "      <td>1</td>\n",
       "      <td>1</td>\n",
       "      <td>0</td>\n",
       "      <td>0</td>\n",
       "      <td>0</td>\n",
       "      <td>0</td>\n",
       "      <td>0</td>\n",
       "      <td>4</td>\n",
       "      <td>...</td>\n",
       "      <td>5716.333333</td>\n",
       "      <td>5104.857143</td>\n",
       "      <td>6170.533333</td>\n",
       "      <td>37.354981</td>\n",
       "      <td>38.114445</td>\n",
       "      <td>38.424932</td>\n",
       "      <td>33.990731</td>\n",
       "      <td>-0.010423</td>\n",
       "      <td>0.002921</td>\n",
       "      <td>2019-06-21</td>\n",
       "    </tr>\n",
       "    <tr>\n",
       "      <td>7588</td>\n",
       "      <td>2019-06-21</td>\n",
       "      <td>serta glenmoor king</td>\n",
       "      <td>1</td>\n",
       "      <td>0</td>\n",
       "      <td>0</td>\n",
       "      <td>0</td>\n",
       "      <td>0</td>\n",
       "      <td>0</td>\n",
       "      <td>0</td>\n",
       "      <td>9</td>\n",
       "      <td>...</td>\n",
       "      <td>5716.333333</td>\n",
       "      <td>5104.857143</td>\n",
       "      <td>6170.533333</td>\n",
       "      <td>37.354981</td>\n",
       "      <td>38.114445</td>\n",
       "      <td>38.424932</td>\n",
       "      <td>33.990731</td>\n",
       "      <td>-0.009849</td>\n",
       "      <td>0.001590</td>\n",
       "      <td>2019-06-21</td>\n",
       "    </tr>\n",
       "    <tr>\n",
       "      <td>7584</td>\n",
       "      <td>2019-06-21</td>\n",
       "      <td>serta glenmoor 2.0 medium</td>\n",
       "      <td>1</td>\n",
       "      <td>0</td>\n",
       "      <td>0</td>\n",
       "      <td>0</td>\n",
       "      <td>0</td>\n",
       "      <td>0</td>\n",
       "      <td>0</td>\n",
       "      <td>0</td>\n",
       "      <td>...</td>\n",
       "      <td>5716.333333</td>\n",
       "      <td>5104.857143</td>\n",
       "      <td>6170.533333</td>\n",
       "      <td>37.354981</td>\n",
       "      <td>38.114445</td>\n",
       "      <td>38.424932</td>\n",
       "      <td>33.990731</td>\n",
       "      <td>-0.011713</td>\n",
       "      <td>0.008468</td>\n",
       "      <td>2019-06-21</td>\n",
       "    </tr>\n",
       "    <tr>\n",
       "      <td>...</td>\n",
       "      <td>...</td>\n",
       "      <td>...</td>\n",
       "      <td>...</td>\n",
       "      <td>...</td>\n",
       "      <td>...</td>\n",
       "      <td>...</td>\n",
       "      <td>...</td>\n",
       "      <td>...</td>\n",
       "      <td>...</td>\n",
       "      <td>...</td>\n",
       "      <td>...</td>\n",
       "      <td>...</td>\n",
       "      <td>...</td>\n",
       "      <td>...</td>\n",
       "      <td>...</td>\n",
       "      <td>...</td>\n",
       "      <td>...</td>\n",
       "      <td>...</td>\n",
       "      <td>...</td>\n",
       "      <td>...</td>\n",
       "      <td>...</td>\n",
       "    </tr>\n",
       "    <tr>\n",
       "      <td>878714</td>\n",
       "      <td>2019-09-15</td>\n",
       "      <td>serta perfect sleeper elite glenmoor 2.0 hybrid</td>\n",
       "      <td>0</td>\n",
       "      <td>0</td>\n",
       "      <td>0</td>\n",
       "      <td>0</td>\n",
       "      <td>0</td>\n",
       "      <td>0</td>\n",
       "      <td>0</td>\n",
       "      <td>0</td>\n",
       "      <td>...</td>\n",
       "      <td>9356.000000</td>\n",
       "      <td>9417.285714</td>\n",
       "      <td>8046.000000</td>\n",
       "      <td>19.206356</td>\n",
       "      <td>22.135498</td>\n",
       "      <td>22.474883</td>\n",
       "      <td>28.350109</td>\n",
       "      <td>-0.012448</td>\n",
       "      <td>0.001098</td>\n",
       "      <td>2019-09-15</td>\n",
       "    </tr>\n",
       "    <tr>\n",
       "      <td>878605</td>\n",
       "      <td>2019-09-15</td>\n",
       "      <td>serta glenmoor 2.0</td>\n",
       "      <td>1</td>\n",
       "      <td>0</td>\n",
       "      <td>0</td>\n",
       "      <td>0</td>\n",
       "      <td>0</td>\n",
       "      <td>0</td>\n",
       "      <td>1</td>\n",
       "      <td>10</td>\n",
       "      <td>...</td>\n",
       "      <td>9356.000000</td>\n",
       "      <td>9417.285714</td>\n",
       "      <td>8046.000000</td>\n",
       "      <td>19.206356</td>\n",
       "      <td>22.135498</td>\n",
       "      <td>22.474883</td>\n",
       "      <td>28.350109</td>\n",
       "      <td>-0.012192</td>\n",
       "      <td>0.004764</td>\n",
       "      <td>2019-09-15</td>\n",
       "    </tr>\n",
       "    <tr>\n",
       "      <td>876726</td>\n",
       "      <td>2019-09-15</td>\n",
       "      <td>metta bed</td>\n",
       "      <td>2</td>\n",
       "      <td>0</td>\n",
       "      <td>0</td>\n",
       "      <td>0</td>\n",
       "      <td>0</td>\n",
       "      <td>0</td>\n",
       "      <td>2</td>\n",
       "      <td>13</td>\n",
       "      <td>...</td>\n",
       "      <td>9356.000000</td>\n",
       "      <td>9417.285714</td>\n",
       "      <td>8046.000000</td>\n",
       "      <td>19.206356</td>\n",
       "      <td>22.135498</td>\n",
       "      <td>22.474883</td>\n",
       "      <td>28.350109</td>\n",
       "      <td>-0.010375</td>\n",
       "      <td>0.004586</td>\n",
       "      <td>2019-09-15</td>\n",
       "    </tr>\n",
       "    <tr>\n",
       "      <td>873572</td>\n",
       "      <td>2019-09-15</td>\n",
       "      <td>best places to buy mattresses</td>\n",
       "      <td>3</td>\n",
       "      <td>0</td>\n",
       "      <td>0</td>\n",
       "      <td>0</td>\n",
       "      <td>0</td>\n",
       "      <td>0</td>\n",
       "      <td>0</td>\n",
       "      <td>10</td>\n",
       "      <td>...</td>\n",
       "      <td>9356.000000</td>\n",
       "      <td>9417.285714</td>\n",
       "      <td>8046.000000</td>\n",
       "      <td>19.206356</td>\n",
       "      <td>22.135498</td>\n",
       "      <td>22.474883</td>\n",
       "      <td>28.350109</td>\n",
       "      <td>-0.011806</td>\n",
       "      <td>-0.003201</td>\n",
       "      <td>2019-09-15</td>\n",
       "    </tr>\n",
       "    <tr>\n",
       "      <td>874110</td>\n",
       "      <td>2019-09-15</td>\n",
       "      <td>casper showroom</td>\n",
       "      <td>3</td>\n",
       "      <td>0</td>\n",
       "      <td>0</td>\n",
       "      <td>0</td>\n",
       "      <td>0</td>\n",
       "      <td>1</td>\n",
       "      <td>1</td>\n",
       "      <td>18</td>\n",
       "      <td>...</td>\n",
       "      <td>9356.000000</td>\n",
       "      <td>9417.285714</td>\n",
       "      <td>8046.000000</td>\n",
       "      <td>19.206356</td>\n",
       "      <td>22.135498</td>\n",
       "      <td>22.474883</td>\n",
       "      <td>28.350109</td>\n",
       "      <td>-0.011770</td>\n",
       "      <td>0.001429</td>\n",
       "      <td>2019-09-15</td>\n",
       "    </tr>\n",
       "  </tbody>\n",
       "</table>\n",
       "<p>2232160 rows × 67 columns</p>\n",
       "</div>"
      ],
      "text/plain": [
       "              date                                            query  \\\n",
       "0       2019-06-21                                            ?????   \n",
       "4899    2019-06-21                                 mattresses store   \n",
       "10083   2019-06-21                where can i try a saatva mattress   \n",
       "7588    2019-06-21                              serta glenmoor king   \n",
       "7584    2019-06-21                        serta glenmoor 2.0 medium   \n",
       "...            ...                                              ...   \n",
       "878714  2019-09-15  serta perfect sleeper elite glenmoor 2.0 hybrid   \n",
       "878605  2019-09-15                               serta glenmoor 2.0   \n",
       "876726  2019-09-15                                        metta bed   \n",
       "873572  2019-09-15                    best places to buy mattresses   \n",
       "874110  2019-09-15                                  casper showroom   \n",
       "\n",
       "        tomorrow_net_clicks  bot_clicks_feature  bcfeature1  bcfeature2  \\\n",
       "0                         0                   0           0           0   \n",
       "4899                      1                   1           1           0   \n",
       "10083                     1                   1           0           0   \n",
       "7588                      1                   0           0           0   \n",
       "7584                      1                   0           0           0   \n",
       "...                     ...                 ...         ...         ...   \n",
       "878714                    0                   0           0           0   \n",
       "878605                    1                   0           0           0   \n",
       "876726                    2                   0           0           0   \n",
       "873572                    3                   0           0           0   \n",
       "874110                    3                   0           0           0   \n",
       "\n",
       "        bcfeature3  bcfeature4  cfeature4  ifeature4  ...  \\\n",
       "0                0           0          0          0  ...   \n",
       "4899             0           0          0          2  ...   \n",
       "10083            0           0          0          4  ...   \n",
       "7588             0           0          0          9  ...   \n",
       "7584             0           0          0          0  ...   \n",
       "...            ...         ...        ...        ...  ...   \n",
       "878714           0           0          0          0  ...   \n",
       "878605           0           0          1         10  ...   \n",
       "876726           0           0          2         13  ...   \n",
       "873572           0           0          0         10  ...   \n",
       "874110           0           1          1         18  ...   \n",
       "\n",
       "        roll_i_feature3_all  roll_i_feature7_all  roll_i_feature30_all  \\\n",
       "0               5716.333333          5104.857143           6170.533333   \n",
       "4899            5716.333333          5104.857143           6170.533333   \n",
       "10083           5716.333333          5104.857143           6170.533333   \n",
       "7588            5716.333333          5104.857143           6170.533333   \n",
       "7584            5716.333333          5104.857143           6170.533333   \n",
       "...                     ...                  ...                   ...   \n",
       "878714          9356.000000          9417.285714           8046.000000   \n",
       "878605          9356.000000          9417.285714           8046.000000   \n",
       "876726          9356.000000          9417.285714           8046.000000   \n",
       "873572          9356.000000          9417.285714           8046.000000   \n",
       "874110          9356.000000          9417.285714           8046.000000   \n",
       "\n",
       "        roll_p_feature2_all  roll_p_feature3_all  roll_p_feature7_all  \\\n",
       "0                 37.354981            38.114445            38.424932   \n",
       "4899              37.354981            38.114445            38.424932   \n",
       "10083             37.354981            38.114445            38.424932   \n",
       "7588              37.354981            38.114445            38.424932   \n",
       "7584              37.354981            38.114445            38.424932   \n",
       "...                     ...                  ...                  ...   \n",
       "878714            19.206356            22.135498            22.474883   \n",
       "878605            19.206356            22.135498            22.474883   \n",
       "876726            19.206356            22.135498            22.474883   \n",
       "873572            19.206356            22.135498            22.474883   \n",
       "874110            19.206356            22.135498            22.474883   \n",
       "\n",
       "        roll_p_feature30_all      Mean    Median      nDate  \n",
       "0                  33.990731 -0.014119  0.003428 2019-06-21  \n",
       "4899               33.990731 -0.011150  0.010450 2019-06-21  \n",
       "10083              33.990731 -0.010423  0.002921 2019-06-21  \n",
       "7588               33.990731 -0.009849  0.001590 2019-06-21  \n",
       "7584               33.990731 -0.011713  0.008468 2019-06-21  \n",
       "...                      ...       ...       ...        ...  \n",
       "878714             28.350109 -0.012448  0.001098 2019-09-15  \n",
       "878605             28.350109 -0.012192  0.004764 2019-09-15  \n",
       "876726             28.350109 -0.010375  0.004586 2019-09-15  \n",
       "873572             28.350109 -0.011806 -0.003201 2019-09-15  \n",
       "874110             28.350109 -0.011770  0.001429 2019-09-15  \n",
       "\n",
       "[2232160 rows x 67 columns]"
      ]
     },
     "execution_count": 6,
     "metadata": {},
     "output_type": "execute_result"
    }
   ],
   "source": [
    "df[df[\"nDate\"]<='2019-09-15']\n",
    "# df.head()\n",
    "# df\n",
    "# pd.value_counts(train['clicks_level']).plot.bar()"
   ]
  },
  {
   "cell_type": "code",
   "execution_count": 5,
   "metadata": {},
   "outputs": [
    {
     "data": {
      "image/png": "[encoded data removed]",
      "text/plain": [
       "<Figure size 432x288 with 1 Axes>"
      ]
     },
     "metadata": {
      "needs_background": "light"
     },
     "output_type": "display_data"
    }
   ],
   "source": [
    "pd.value_counts(df[df[\"nDate\"]<='2019-09-15']['clicks_level']).plot.bar()\n",
    "plt.tight_layout()"
   ]
  },
  {
   "cell_type": "code",
   "execution_count": 7,
   "metadata": {},
   "outputs": [],
   "source": [
    "df[\"date\"]=df.date.astype(str)\n",
    "df[\"Year\"]=df.date.str[:4]\n",
    "df[\"Month\"]=df.date.str[5:7]\n",
    "df[\"Day\"]=df.date.str[8:]\n",
    "\n",
    "\n",
    "df[\"Year\"]=df.Year.astype(int)\n",
    "df[\"Month\"]=df.Month.astype(int)\n",
    "df[\"Day\"]=df.Day.astype(int)\n",
    "\n",
    "labels=df[\"clicks_level\"]\n",
    "df=df.drop(['nDate','query','date','clicks_level','tomorrow_net_clicks'],axis=1)\n",
    "\n",
    "\n",
    "# Scaling Values\n",
    "scaler = MinMaxScaler(feature_range=(0, 1))\n",
    "scaled = scaler.fit_transform(df.values)\n",
    "# train=df[df[\"nDate\"]<'2019-09-15']\n",
    "# Y_train=train[\"clicks_level\"]\n",
    "# X_train=train.drop(['nDate','query','date','clicks_level','tomorrow_net_clicks'],axis=1)\n",
    "\n",
    "# test=df[df[\"nDate\"]>='2019-09-15']\n",
    "# Y_test=test[\"clicks_level\"]\n",
    "# X_test=test.drop(['nDate','query','date','clicks_level','tomorrow_net_clicks'],axis=1)"
   ]
  },
  {
   "cell_type": "code",
   "execution_count": 4,
   "metadata": {},
   "outputs": [
    {
     "name": "stdout",
     "output_type": "stream",
     "text": [
      "(2480874, 1, 65) (2480874, 3) (253828, 1, 65) (253828, 3)\n"
     ]
    }
   ],
   "source": [
    "# df[\"date\"]=df.date.astype(str)\n",
    "# df[\"Year\"]=df.date.str[:4]\n",
    "# df[\"Month\"]=df.date.str[5:7]\n",
    "# df[\"Day\"]=df.date.str[8:]\n",
    "\n",
    "\n",
    "# df[\"Year\"]=df.Year.astype(int)\n",
    "# df[\"Month\"]=df.Month.astype(int)\n",
    "# df[\"Day\"]=df.Day.astype(int)\n",
    "\n",
    "\n",
    "\n",
    "\n",
    "\n",
    "# train=df[df[\"nDate\"]<='2019-09-15']\n",
    "\n",
    "\n",
    "# gb=train.groupby('clicks_level')\n",
    "# # newdf=pd.concat([y.sample(50000,replace=True) for y in gb.get_group(1)])\n",
    "# train=pd.concat([train,gb.get_group(1).sample(800000,replace=True),gb.get_group(2).sample(800000,replace=True)])\n",
    "# train=train.sort_values(['date'])\n",
    "\n",
    "\n",
    "\n",
    "# test=df[df[\"nDate\"]>'2019-09-15']\n",
    "\n",
    "\n",
    "# gb=test.groupby('clicks_level')\n",
    "# # newdf=pd.concat([y.sample(50000,replace=True) for y in gb.get_group(1)])\n",
    "# test=pd.concat([test,gb.get_group(1).sample(80000,replace=True),gb.get_group(2).sample(80000,replace=True)])\n",
    "# test=test.sort_values(['date'])\n",
    "\n",
    "\n",
    "\n",
    "\n",
    "\n",
    "\n",
    "# train_y=train[\"clicks_level\"].values\n",
    "# train_X=train.drop(['nDate','query','date','clicks_level','tomorrow_net_clicks'],axis=1).values\n",
    "\n",
    "\n",
    "# test_y=test[\"clicks_level\"].values\n",
    "# test_X=test.drop(['nDate','query','date','clicks_level','tomorrow_net_clicks'],axis=1).values\n",
    "\n",
    "\n",
    "\n",
    "# train_y = to_categorical(train_y)\n",
    "# test_y=to_categorical(test_y)\n",
    "\n",
    "\n",
    "# train_X = train_X.reshape((train_X.shape[0], 1, train_X.shape[1]))\n",
    "# test_X = test_X.reshape((test_X.shape[0], 1, test_X.shape[1]))\n",
    "# print(train_X.shape, train_y.shape, test_X.shape, test_y.shape)"
   ]
  },
  {
   "cell_type": "code",
   "execution_count": null,
   "metadata": {},
   "outputs": [],
   "source": []
  },
  {
   "cell_type": "code",
   "execution_count": 8,
   "metadata": {},
   "outputs": [
    {
     "name": "stdout",
     "output_type": "stream",
     "text": [
      "(2232160, 1, 65) (2232160, 3) (342542, 1, 65) (342542, 3)\n"
     ]
    }
   ],
   "source": [
    "# split into train and test sets\n",
    "values = scaled\n",
    "# values=df.values\n",
    "y=labels.copy()\n",
    "# n_train_hours = 872663\n",
    "# n_train_hours= 2197001\n",
    "n_train_hours=2232160\n",
    "train_X ,train_y= values[:n_train_hours, :],y[:n_train_hours]\n",
    "test_X,test_y = values[n_train_hours:, :],y[n_train_hours:]\n",
    "\n",
    "\n",
    "\n",
    "train_y = to_categorical(train_y)\n",
    "test_y=to_categorical(test_y)\n",
    "\n",
    "\n",
    "train_X = train_X.reshape((train_X.shape[0], 1, train_X.shape[1]))\n",
    "test_X = test_X.reshape((test_X.shape[0], 1, test_X.shape[1]))\n",
    "print(train_X.shape, train_y.shape, test_X.shape, test_y.shape)"
   ]
  },
  {
   "cell_type": "code",
   "execution_count": 10,
   "metadata": {},
   "outputs": [],
   "source": [
    "# df.iloc[0:872663,:]\n",
    "# df[df[\"nDate\"]>='2019-09-15']\n",
    "# df.iloc[872663:,:]"
   ]
  },
  {
   "cell_type": "code",
   "execution_count": 11,
   "metadata": {},
   "outputs": [],
   "source": [
    "# scaler = MinMaxScaler(feature_range=(0, 1))\n",
    "# scaled = scaler.fit_transform(values)"
   ]
  },
  {
   "cell_type": "code",
   "execution_count": 12,
   "metadata": {},
   "outputs": [],
   "source": [
    "# # reshape input to be 3D [samples, timesteps, features]\n",
    "# train_X=X_train.values\n",
    "# test_X=X_test.values\n",
    "\n",
    "# train_y=Y_train.values\n",
    "# test_y=Y_test.values\n",
    "\n",
    "\n",
    "# train_y = to_categorical(train_y)\n",
    "# test_y=to_categorical(test_y)\n",
    "\n",
    "\n",
    "\n",
    "# train_X = train_X.reshape((train_X.shape[0], 1, train_X.shape[1]))\n",
    "# test_X = test_X.reshape((test_X.shape[0], 1, test_X.shape[1]))\n",
    "# print(train_X.shape, train_y.shape, test_X.shape, test_y.shape)"
   ]
  },
  {
   "cell_type": "code",
   "execution_count": null,
   "metadata": {},
   "outputs": [],
   "source": []
  },
  {
   "cell_type": "code",
   "execution_count": 9,
   "metadata": {},
   "outputs": [
    {
     "name": "stdout",
     "output_type": "stream",
     "text": [
      "WARNING:tensorflow:From /home/bot/virtual_enviornments/sleepare/lib/python3.6/site-packages/keras/backend/tensorflow_backend.py:422: The name tf.global_variables is deprecated. Please use tf.compat.v1.global_variables instead.\n",
      "\n",
      "Train on 2232160 samples, validate on 342542 samples\n",
      "Epoch 1/5\n",
      "2232160/2232160 [==============================] - 42s 19us/step - loss: 0.6688 - categorical_accuracy: 0.6972 - val_loss: 0.7404 - val_categorical_accuracy: 0.7121\n",
      "\n",
      "Epoch 00001: val_categorical_accuracy improved from -inf to 0.71210, saving model to ./models/weight-best.hdf5\n",
      "Epoch 2/5\n",
      "2232160/2232160 [==============================] - 42s 19us/step - loss: 0.5687 - categorical_accuracy: 0.7413 - val_loss: 0.6942 - val_categorical_accuracy: 0.7304\n",
      "\n",
      "Epoch 00002: val_categorical_accuracy improved from 0.71210 to 0.73035, saving model to ./models/weight-best.hdf5\n",
      "Epoch 3/5\n",
      "2232160/2232160 [==============================] - 41s 18us/step - loss: 0.5472 - categorical_accuracy: 0.7528 - val_loss: 0.6830 - val_categorical_accuracy: 0.7223\n",
      "\n",
      "Epoch 00003: val_categorical_accuracy did not improve from 0.73035\n",
      "Epoch 4/5\n",
      "2232160/2232160 [==============================] - 42s 19us/step - loss: 0.5376 - categorical_accuracy: 0.7566 - val_loss: 0.6982 - val_categorical_accuracy: 0.7145\n",
      "\n",
      "Epoch 00004: val_categorical_accuracy did not improve from 0.73035\n",
      "Epoch 5/5\n",
      "2232160/2232160 [==============================] - 42s 19us/step - loss: 0.5298 - categorical_accuracy: 0.7613 - val_loss: 0.7199 - val_categorical_accuracy: 0.7002\n",
      "\n",
      "Epoch 00005: val_categorical_accuracy did not improve from 0.73035\n"
     ]
    }
   ],
   "source": [
    "model = Sequential()\n",
    "# model.add(TimeDistributed(Conv1D(filters=5,kernel_size=3,activation='relu'),batch_input_shape=(1,3,16,5)))\n",
    "# model.add(TimeDistributed(Flatten()))\n",
    "# model.add(LSTM(50,dropout=(0.4)))\n",
    "# model.add(Dense(3, activation='softmax'))\n",
    "# model.compile(loss='categorical_crossentropy', optimizer='adam', metrics=['categorical_accuracy'])\n",
    "\n",
    "\n",
    "\n",
    "model.add(LSTM(50,activation='relu',input_shape=(train_X.shape[1], train_X.shape[2])))\n",
    "model.add(Dense(3, activation='softmax'))\n",
    "opt=keras.optimizers.Adam(learning_rate=0.005,amsgrad=True)\n",
    "\n",
    "\n",
    "# opt = AdaBound(lr=1e-03,final_lr=0.1)\n",
    "model.compile(loss='categorical_crossentropy', optimizer=opt, metrics=['categorical_accuracy'])\n",
    "\n",
    "\n",
    "# checkpoint\n",
    "# filepath=\"./models/weights-2Class-improvement-{epoch:02d}-{val_categorical_accuracy:.3f}.hdf5\"\n",
    "filepath='./models/weight-best.hdf5'\n",
    "checkpoint = ModelCheckpoint(filepath, monitor='val_categorical_accuracy', verbose=1, save_best_only=True, mode='max')\n",
    "callbacks_list = [checkpoint]\n",
    "\n",
    "\n",
    "# fit network\n",
    "history = model.fit(train_X, train_y, epochs=5, batch_size=256,callbacks=callbacks_list,validation_data=(test_X, test_y),shuffle=False)"
   ]
  },
  {
   "cell_type": "code",
   "execution_count": 10,
   "metadata": {},
   "outputs": [
    {
     "data": {
      "image/png": "[encoded data removed]",
      "text/plain": [
       "<Figure size 432x288 with 1 Axes>"
      ]
     },
     "metadata": {
      "needs_background": "light"
     },
     "output_type": "display_data"
    },
    {
     "data": {
      "image/png": "[encoded data removed]",
      "text/plain": [
       "<Figure size 432x288 with 1 Axes>"
      ]
     },
     "metadata": {
      "needs_background": "light"
     },
     "output_type": "display_data"
    }
   ],
   "source": [
    "# plot history\n",
    "plt.plot(history.history['loss'], label='train')\n",
    "plt.plot(history.history['val_loss'], label='test')\n",
    "plt.legend()\n",
    "plt.show()\n",
    "\n",
    "\n",
    "# plot history\n",
    "plt.plot(history.history['categorical_accuracy'], label='train')\n",
    "plt.plot(history.history['val_categorical_accuracy'], label='test')\n",
    "plt.legend()\n",
    "plt.show()"
   ]
  },
  {
   "cell_type": "code",
   "execution_count": 19,
   "metadata": {},
   "outputs": [],
   "source": [
    "model = Sequential()\n",
    "model.add(LSTM(50,activation='relu',input_shape=(train_X.shape[1], train_X.shape[2])))\n",
    "model.add(Dense(3, activation='softmax'))\n",
    "model.load_weights('./weights-embedding-improvement-08-0.707.hdf5')"
   ]
  },
  {
   "cell_type": "code",
   "execution_count": null,
   "metadata": {},
   "outputs": [],
   "source": []
  },
  {
   "cell_type": "code",
   "execution_count": 15,
   "metadata": {},
   "outputs": [],
   "source": [
    "ypred=model.predict(test_X)"
   ]
  },
  {
   "cell_type": "code",
   "execution_count": 16,
   "metadata": {},
   "outputs": [],
   "source": [
    "ypred=np.argmax(ypred,axis=1)\n",
    "test_y=np.argmax(test_y,axis=1)"
   ]
  },
  {
   "cell_type": "code",
   "execution_count": 17,
   "metadata": {},
   "outputs": [
    {
     "name": "stdout",
     "output_type": "stream",
     "text": [
      "0.47028125081894673\n",
      "0.9264718420940444\n"
     ]
    }
   ],
   "source": [
    "print (sklearn.metrics.f1_score(test_y,ypred,average='macro'))\n",
    "print (sklearn.metrics.accuracy_score(test_y,ypred))"
   ]
  },
  {
   "cell_type": "code",
   "execution_count": 14,
   "metadata": {},
   "outputs": [
    {
     "name": "stdout",
     "output_type": "stream",
     "text": [
      "(93828, 1, 65) (93828, 3)\n"
     ]
    }
   ],
   "source": [
    "df=pd.read_csv('./fdf-embedd.csv')\n",
    "df = df.drop(df.columns[0], axis=1)\n",
    "df=df.fillna(-1)\n",
    "df[\"nDate\"]=pd.to_datetime(df.date,format='%Y-%m-%d')\n",
    "\n",
    "\n",
    "# df.loc[df['clicks_level']==1, 'clicks_level'] = 2\n",
    "# df.loc[df['pfeature4']==-1, 'pfeature4'] = 0 \n",
    "\n",
    "\n",
    "df=df[df[\"nDate\"]>'2019-09-15']\n",
    "df[\"date\"]=df.date.astype(str)\n",
    "df[\"Year\"]=df.date.str[:4]\n",
    "df[\"Month\"]=df.date.str[5:7]\n",
    "df[\"Day\"]=df.date.str[8:]\n",
    "\n",
    "\n",
    "df[\"Year\"]=df.Year.astype(int)\n",
    "df[\"Month\"]=df.Month.astype(int)\n",
    "df[\"Day\"]=df.Day.astype(int)\n",
    "\n",
    "\n",
    "labels=df[\"clicks_level\"]\n",
    "df=df.drop(['nDate','query','date','clicks_level','tomorrow_net_clicks'],axis=1)\n",
    "\n",
    "\n",
    "scaled = scaler.transform(df.values)\n",
    "\n",
    "\n",
    "values = scaled\n",
    "# values=df.values\n",
    "y=labels\n",
    "# n_train_hours = 872663\n",
    "# n_train_hours= 2197001\n",
    "# n_train_hours=1865707\n",
    "# train_X ,train_y= values[:n_train_hours, :],y[:n_train_hours]\n",
    "\n",
    "\n",
    "test_X = values\n",
    "test_y=y\n",
    "# train_y = to_categorical(train_y)\n",
    "test_y=to_categorical(test_y)\n",
    "\n",
    "\n",
    "# train_X = train_X.reshape((train_X.shape[0], 1, train_X.shape[1]))\n",
    "test_X = test_X.reshape((test_X.shape[0], 1, test_X.shape[1]))\n",
    "print(test_X.shape, test_y.shape)"
   ]
  },
  {
   "cell_type": "code",
   "execution_count": null,
   "metadata": {},
   "outputs": [],
   "source": []
  },
  {
   "cell_type": "code",
   "execution_count": null,
   "metadata": {},
   "outputs": [],
   "source": [
    "\n"
   ]
  },
  {
   "cell_type": "code",
   "execution_count": 19,
   "metadata": {},
   "outputs": [
    {
     "data": {
      "image/png": "[encoded data removed]",
      "text/plain": [
       "<Figure size 720x720 with 2 Axes>"
      ]
     },
     "metadata": {
      "needs_background": "light"
     },
     "output_type": "display_data"
    }
   ],
   "source": [
    "conf=sklearn.metrics.confusion_matrix(test_y,ypred,labels=[0,1,2])\n",
    "fig, ax = plot_confusion_matrix(conf_mat=conf,\n",
    "                                show_absolute=True,\n",
    "                                show_normed=True,\n",
    "                                colorbar=True,\n",
    "                               figsize=(10,10))\n",
    "\n",
    "\n",
    "\n",
    "# labels=['','0','2']\n",
    "# ax.set_xticklabels(labels)\n",
    "# ax.set_yticklabels(labels)\n",
    "# fig.suptitle('LSTM 2 Classes')\n",
    "plt.tight_layout()\n",
    "plt.savefig('lstm-3classes-clickslevel.png')\n",
    "plt.show()"
   ]
  },
  {
   "cell_type": "code",
   "execution_count": 128,
   "metadata": {},
   "outputs": [
    {
     "data": {
      "image/png": "[encoded data removed]",
      "text/plain": [
       "<Figure size 720x720 with 2 Axes>"
      ]
     },
     "metadata": {
      "needs_background": "light"
     },
     "output_type": "display_data"
    }
   ],
   "source": [
    "conf=sklearn.metrics.confusion_matrix(test_y,ypred,labels=[0,2])\n",
    "fig, ax = plot_confusion_matrix(conf_mat=conf,\n",
    "                                show_absolute=True,\n",
    "                                show_normed=True,\n",
    "                                colorbar=True,\n",
    "                               figsize=(10,10))\n",
    "\n",
    "\n",
    "\n",
    "labels=['','0','2']\n",
    "ax.set_xticklabels(labels)\n",
    "ax.set_yticklabels(labels)\n",
    "fig.suptitle('LSTM 2 Classes')\n",
    "plt.tight_layout()\n",
    "# plt.savefig('lstm-2classes-clickslevel.png')\n",
    "plt.show()"
   ]
  },
  {
   "cell_type": "code",
   "execution_count": null,
   "metadata": {},
   "outputs": [],
   "source": [
    "\n"
   ]
  },
  {
   "cell_type": "code",
   "execution_count": 105,
   "metadata": {},
   "outputs": [
    {
     "data": {
      "text/plain": [
       "array([[9.32076125e+01, 4.48108494e+02],\n",
       "       [2.07731507e-01, 8.62955032e+01]])"
      ]
     },
     "execution_count": 105,
     "metadata": {},
     "output_type": "execute_result"
    }
   ],
   "source": [
    "\n"
   ]
  },
  {
   "cell_type": "code",
   "execution_count": null,
   "metadata": {},
   "outputs": [],
   "source": []
  }
 ],
 "metadata": {
  "kernelspec": {
   "display_name": "Python 3",
   "language": "python",
   "name": "python3"
  },
  "language_info": {
   "codemirror_mode": {
    "name": "ipython",
    "version": 3
   },
   "file_extension": ".py",
   "mimetype": "text/x-python",
   "name": "python",
   "nbconvert_exporter": "python",
   "pygments_lexer": "ipython3",
   "version": "3.6.8"
  }
 },
 "nbformat": 4,
 "nbformat_minor": 4
}
