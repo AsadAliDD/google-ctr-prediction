{
 "cells": [
  {
   "cell_type": "code",
   "execution_count": 2,
   "metadata": {},
   "outputs": [],
   "source": [
    "import pandas as pd\n",
    "import numpy as np\n",
    "import pickle\n",
    "import numpy as np\n",
    "from sklearn.preprocessing import LabelEncoder\n",
    "import matplotlib.pyplot as plt\n",
    "import sklearn\n",
    "from sklearn.model_selection import TimeSeriesSplit\n",
    "from sklearn.preprocessing import MinMaxScaler\n",
    "from keras.models import Sequential\n",
    "from keras.layers import Dense\n",
    "from keras.layers import LSTM\n",
    "from keras.layers import RepeatVector\n",
    "from keras.layers import TimeDistributed\n",
    "from keras.layers import Conv1D\n",
    "from keras.layers import MaxPool1D\n",
    "from keras.layers import Flatten\n",
    "from keras.layers import Dropout\n",
    "from keras import optimizers\n",
    "from math import sqrt\n",
    "from keras.utils import to_categorical\n",
    "import seaborn as sns\n",
    "import keras\n",
    "from keras.callbacks import ModelCheckpoint\n",
    "from keras_adabound import AdaBound\n",
    "from mlxtend.plotting import plot_confusion_matrix\n",
    "import matplotlib\n",
    "import xgboost\n",
    "from imblearn.over_sampling import SMOTE\n",
    "from sklearn.ensemble import AdaBoostClassifier\n",
    "from imblearn.over_sampling import SMOTENC\n",
    "from imblearn.over_sampling import ADASYN\n",
    "from imblearn.over_sampling import SVMSMOTE"
   ]
  },
  {
   "cell_type": "markdown",
   "metadata": {},
   "source": [
    "## Zero Non Zero Click Level"
   ]
  },
  {
   "cell_type": "code",
   "execution_count": 3,
   "metadata": {},
   "outputs": [],
   "source": [
    "df=pd.read_csv('./fdf-embedd.csv')\n",
    "df = df.drop(df.columns[0], axis=1)\n",
    "df=df.fillna(-1)\n",
    "df[\"nDate\"]=pd.to_datetime(df.date,format='%Y-%m-%d')"
   ]
  },
  {
   "cell_type": "code",
   "execution_count": 4,
   "metadata": {},
   "outputs": [],
   "source": [
    "df=df.assign(first_level=0)\n",
    "df.loc[df['clicks_level']!=0, 'first_level'] =1\n",
    "\n",
    "# df=df.assign(second_level=1)\n",
    "# df.loc[df['clicks_level']==2, 'second_level'] =2"
   ]
  },
  {
   "cell_type": "code",
   "execution_count": 5,
   "metadata": {},
   "outputs": [],
   "source": [
    "df[\"nDate\"]=pd.to_datetime(df.date,format='%Y-%m-%d')\n",
    "df[\"date\"]=df.date.astype(str)\n",
    "df[\"Year\"]=df.date.str[:4]\n",
    "df[\"Month\"]=df.date.str[5:7]\n",
    "df[\"Day\"]=df.date.str[8:]\n",
    "\n",
    "\n",
    "df[\"Year\"]=df.Year.astype(int)\n",
    "df[\"Month\"]=df.Month.astype(int)\n",
    "df[\"Day\"]=df.Day.astype(int)"
   ]
  },
  {
   "cell_type": "code",
   "execution_count": 6,
   "metadata": {},
   "outputs": [],
   "source": [
    "labels=df[\"first_level\"]\n",
    "labels_final=df[\"clicks_level\"]\n",
    "df=df.drop(['nDate','query','date','first_level','clicks_level','tomorrow_net_clicks'],axis=1)"
   ]
  },
  {
   "cell_type": "code",
   "execution_count": 7,
   "metadata": {},
   "outputs": [
    {
     "data": {
      "image/png": "[encoded data removed]",
      "text/plain": [
       "<Figure size 432x288 with 1 Axes>"
      ]
     },
     "metadata": {
      "needs_background": "light"
     },
     "output_type": "display_data"
    }
   ],
   "source": [
    "pd.value_counts(labels).plot.bar()\n",
    "plt.tight_layout()\n"
   ]
  },
  {
   "cell_type": "code",
   "execution_count": 7,
   "metadata": {},
   "outputs": [],
   "source": [
    "values=df.values\n",
    "y=labels.copy()\n",
    "n_train_hours=880874 \n",
    "train_X ,train_y= values[:n_train_hours, :],y[:n_train_hours]\n",
    "test_X,test_y = values[n_train_hours:, :],y[n_train_hours:]"
   ]
  },
  {
   "cell_type": "code",
   "execution_count": 9,
   "metadata": {},
   "outputs": [],
   "source": [
    "# SMOTE\n",
    "sm = SMOTE(random_state=42)\n",
    "X_train_sm, y_train_sm = sm.fit_sample(train_X, train_y)"
   ]
  },
  {
   "cell_type": "code",
   "execution_count": 8,
   "metadata": {},
   "outputs": [],
   "source": [
    "# ADASYN\n",
    "sm = ADASYN(random_state=20,n_jobs=-1)\n",
    "X_train_sm, y_train_sm = sm.fit_sample(train_X, train_y)"
   ]
  },
  {
   "cell_type": "code",
   "execution_count": null,
   "metadata": {},
   "outputs": [],
   "source": [
    "# SVMSMOTE\n",
    "sm = SVMSMOTE(random_state=20,n_jobs=4)\n",
    "X_train_sm, y_train_sm = sm.fit_sample(train_X, train_y)"
   ]
  },
  {
   "cell_type": "code",
   "execution_count": 10,
   "metadata": {},
   "outputs": [
    {
     "data": {
      "text/plain": [
       "(array([0, 1]), array([873338, 873338]))"
      ]
     },
     "execution_count": 10,
     "metadata": {},
     "output_type": "execute_result"
    }
   ],
   "source": [
    "np.unique(y_train_sm, return_counts=True)"
   ]
  },
  {
   "cell_type": "code",
   "execution_count": 21,
   "metadata": {},
   "outputs": [],
   "source": [
    "def adaboost(X_train, y_train):\n",
    "    model = AdaBoostClassifier(n_estimators=20, random_state=42)\n",
    "    model.fit(X_train,y_train)\n",
    "    return model\n",
    "\n",
    "model=adaboost(X_train_sm,y_train_sm)\n",
    "pred=model.predict(test_X)"
   ]
  },
  {
   "cell_type": "code",
   "execution_count": null,
   "metadata": {},
   "outputs": [],
   "source": []
  },
  {
   "cell_type": "code",
   "execution_count": 9,
   "metadata": {},
   "outputs": [],
   "source": [
    "def build_model(lr=0.1,depth=8,estimators=10):\n",
    "    clf=xgboost.XGBClassifier(learning_rate = lr,max_depth = depth,early_stopping_rounds=10,n_estimators = estimators,min_child_weight= 1, scale_pos_weight= 1,colsample_bytree=0.8,n_jobs=-1,subsample=0.5)\n",
    "    return clf\n",
    "\n",
    "# eset = [(X_train_sm, y_train_sm), (test_X, test_y)]\n",
    "model=build_model(lr=0.1,depth=3,estimators=10)\n",
    "model.fit(X_train_sm,y_train_sm,verbose=True)\n",
    "pred=model.predict(test_X)"
   ]
  },
  {
   "cell_type": "code",
   "execution_count": 12,
   "metadata": {},
   "outputs": [],
   "source": []
  },
  {
   "cell_type": "code",
   "execution_count": 10,
   "metadata": {},
   "outputs": [
    {
     "data": {
      "image/png": "[encoded data removed]",
      "text/plain": [
       "<Figure size 720x720 with 2 Axes>"
      ]
     },
     "metadata": {
      "needs_background": "light"
     },
     "output_type": "display_data"
    }
   ],
   "source": [
    "conf=sklearn.metrics.confusion_matrix(test_y,pred,labels=[0,1])\n",
    "fig, ax = plot_confusion_matrix(conf_mat=conf,\n",
    "                                show_absolute=True,\n",
    "                                show_normed=True,\n",
    "                                colorbar=True,\n",
    "                               figsize=(10,10))"
   ]
  },
  {
   "cell_type": "code",
   "execution_count": 14,
   "metadata": {},
   "outputs": [
    {
     "data": {
      "image/png": "[encoded data removed]",
      "text/plain": [
       "<Figure size 432x288 with 1 Axes>"
      ]
     },
     "metadata": {
      "needs_background": "light"
     },
     "output_type": "display_data"
    }
   ],
   "source": [
    "prob=model.predict_proba(test_X)\n",
    "preds = prob[:,1]\n",
    "fpr, tpr, threshold = sklearn.metrics.roc_curve(test_y, preds)\n",
    "roc_auc = sklearn.metrics.auc(fpr, tpr)\n",
    "plt.title('Receiver Operating Characteristic')\n",
    "plt.plot(fpr, tpr, 'b', label = 'AUC = %0.2f' % roc_auc)\n",
    "plt.legend(loc = 'lower right')\n",
    "plt.plot([0, 1], [0, 1],'r--')\n",
    "plt.xlim([0, 1])\n",
    "plt.ylim([0, 1])\n",
    "plt.ylabel('True Positive Rate')\n",
    "plt.xlabel('False Positive Rate')\n",
    "plt.show()"
   ]
  },
  {
   "cell_type": "code",
   "execution_count": 15,
   "metadata": {},
   "outputs": [
    {
     "name": "stdout",
     "output_type": "stream",
     "text": [
      "{0: 0.9166567914040339, 1: 0.9166567914040339}\n",
      "{0: 'Excellent', 1: 'Excellent'}\n",
      "0.2519233335781223\n"
     ]
    }
   ],
   "source": [
    "from pycm import ConfusionMatrix\n",
    "cm = ConfusionMatrix(actual_vector=test_y.tolist(), predict_vector=pred)\n",
    "print (cm.AUC)\n",
    "print (cm.AUCI)\n",
    "print (cm.Kappa)"
   ]
  },
  {
   "cell_type": "markdown",
   "metadata": {},
   "source": [
    "## 2nd Level"
   ]
  },
  {
   "cell_type": "code",
   "execution_count": 25,
   "metadata": {},
   "outputs": [],
   "source": [
    "df['pred_level1']=model.predict(df.values)"
   ]
  },
  {
   "cell_type": "code",
   "execution_count": 26,
   "metadata": {},
   "outputs": [
    {
     "data": {
      "image/png": "[encoded data removed]",
      "text/plain": [
       "<Figure size 432x288 with 1 Axes>"
      ]
     },
     "metadata": {
      "needs_background": "light"
     },
     "output_type": "display_data"
    }
   ],
   "source": [
    "pd.value_counts(df['pred_level1']).plot.bar()\n",
    "plt.tight_layout()"
   ]
  },
  {
   "cell_type": "code",
   "execution_count": 27,
   "metadata": {},
   "outputs": [
    {
     "data": {
      "text/html": [
       "<div>\n",
       "<style scoped>\n",
       "    .dataframe tbody tr th:only-of-type {\n",
       "        vertical-align: middle;\n",
       "    }\n",
       "\n",
       "    .dataframe tbody tr th {\n",
       "        vertical-align: top;\n",
       "    }\n",
       "\n",
       "    .dataframe thead th {\n",
       "        text-align: right;\n",
       "    }\n",
       "</style>\n",
       "<table border=\"1\" class=\"dataframe\">\n",
       "  <thead>\n",
       "    <tr style=\"text-align: right;\">\n",
       "      <th></th>\n",
       "      <th>bot_clicks_feature</th>\n",
       "      <th>bcfeature1</th>\n",
       "      <th>bcfeature2</th>\n",
       "      <th>bcfeature3</th>\n",
       "      <th>bcfeature4</th>\n",
       "      <th>cfeature4</th>\n",
       "      <th>ifeature4</th>\n",
       "      <th>pfeature4</th>\n",
       "      <th>cfeature5</th>\n",
       "      <th>cfeature6</th>\n",
       "      <th>...</th>\n",
       "      <th>roll_p_feature2_all</th>\n",
       "      <th>roll_p_feature3_all</th>\n",
       "      <th>roll_p_feature7_all</th>\n",
       "      <th>roll_p_feature30_all</th>\n",
       "      <th>Mean</th>\n",
       "      <th>Median</th>\n",
       "      <th>Year</th>\n",
       "      <th>Month</th>\n",
       "      <th>Day</th>\n",
       "      <th>pred_level1</th>\n",
       "    </tr>\n",
       "  </thead>\n",
       "  <tbody>\n",
       "    <tr>\n",
       "      <td>93</td>\n",
       "      <td>0</td>\n",
       "      <td>0</td>\n",
       "      <td>0</td>\n",
       "      <td>0</td>\n",
       "      <td>0</td>\n",
       "      <td>0</td>\n",
       "      <td>1</td>\n",
       "      <td>6.0</td>\n",
       "      <td>0</td>\n",
       "      <td>0</td>\n",
       "      <td>...</td>\n",
       "      <td>37.354981</td>\n",
       "      <td>38.114445</td>\n",
       "      <td>38.424932</td>\n",
       "      <td>33.990731</td>\n",
       "      <td>-0.011275</td>\n",
       "      <td>0.003579</td>\n",
       "      <td>2019</td>\n",
       "      <td>6</td>\n",
       "      <td>21</td>\n",
       "      <td>1</td>\n",
       "    </tr>\n",
       "    <tr>\n",
       "      <td>146</td>\n",
       "      <td>0</td>\n",
       "      <td>0</td>\n",
       "      <td>0</td>\n",
       "      <td>0</td>\n",
       "      <td>0</td>\n",
       "      <td>0</td>\n",
       "      <td>0</td>\n",
       "      <td>-1.0</td>\n",
       "      <td>0</td>\n",
       "      <td>0</td>\n",
       "      <td>...</td>\n",
       "      <td>37.354981</td>\n",
       "      <td>38.114445</td>\n",
       "      <td>38.424932</td>\n",
       "      <td>33.990731</td>\n",
       "      <td>-0.010772</td>\n",
       "      <td>0.004349</td>\n",
       "      <td>2019</td>\n",
       "      <td>6</td>\n",
       "      <td>21</td>\n",
       "      <td>1</td>\n",
       "    </tr>\n",
       "    <tr>\n",
       "      <td>150</td>\n",
       "      <td>0</td>\n",
       "      <td>0</td>\n",
       "      <td>0</td>\n",
       "      <td>0</td>\n",
       "      <td>0</td>\n",
       "      <td>0</td>\n",
       "      <td>1</td>\n",
       "      <td>6.0</td>\n",
       "      <td>0</td>\n",
       "      <td>0</td>\n",
       "      <td>...</td>\n",
       "      <td>37.354981</td>\n",
       "      <td>38.114445</td>\n",
       "      <td>38.424932</td>\n",
       "      <td>33.990731</td>\n",
       "      <td>-0.010676</td>\n",
       "      <td>-0.002384</td>\n",
       "      <td>2019</td>\n",
       "      <td>6</td>\n",
       "      <td>21</td>\n",
       "      <td>1</td>\n",
       "    </tr>\n",
       "    <tr>\n",
       "      <td>153</td>\n",
       "      <td>0</td>\n",
       "      <td>0</td>\n",
       "      <td>0</td>\n",
       "      <td>0</td>\n",
       "      <td>0</td>\n",
       "      <td>0</td>\n",
       "      <td>9</td>\n",
       "      <td>8.0</td>\n",
       "      <td>0</td>\n",
       "      <td>0</td>\n",
       "      <td>...</td>\n",
       "      <td>37.354981</td>\n",
       "      <td>38.114445</td>\n",
       "      <td>38.424932</td>\n",
       "      <td>33.990731</td>\n",
       "      <td>-0.010058</td>\n",
       "      <td>0.005310</td>\n",
       "      <td>2019</td>\n",
       "      <td>6</td>\n",
       "      <td>21</td>\n",
       "      <td>1</td>\n",
       "    </tr>\n",
       "    <tr>\n",
       "      <td>155</td>\n",
       "      <td>0</td>\n",
       "      <td>0</td>\n",
       "      <td>0</td>\n",
       "      <td>0</td>\n",
       "      <td>0</td>\n",
       "      <td>0</td>\n",
       "      <td>5</td>\n",
       "      <td>8.0</td>\n",
       "      <td>0</td>\n",
       "      <td>0</td>\n",
       "      <td>...</td>\n",
       "      <td>37.354981</td>\n",
       "      <td>38.114445</td>\n",
       "      <td>38.424932</td>\n",
       "      <td>33.990731</td>\n",
       "      <td>-0.009662</td>\n",
       "      <td>0.006807</td>\n",
       "      <td>2019</td>\n",
       "      <td>6</td>\n",
       "      <td>21</td>\n",
       "      <td>1</td>\n",
       "    </tr>\n",
       "    <tr>\n",
       "      <td>...</td>\n",
       "      <td>...</td>\n",
       "      <td>...</td>\n",
       "      <td>...</td>\n",
       "      <td>...</td>\n",
       "      <td>...</td>\n",
       "      <td>...</td>\n",
       "      <td>...</td>\n",
       "      <td>...</td>\n",
       "      <td>...</td>\n",
       "      <td>...</td>\n",
       "      <td>...</td>\n",
       "      <td>...</td>\n",
       "      <td>...</td>\n",
       "      <td>...</td>\n",
       "      <td>...</td>\n",
       "      <td>...</td>\n",
       "      <td>...</td>\n",
       "      <td>...</td>\n",
       "      <td>...</td>\n",
       "      <td>...</td>\n",
       "      <td>...</td>\n",
       "    </tr>\n",
       "    <tr>\n",
       "      <td>974681</td>\n",
       "      <td>0</td>\n",
       "      <td>0</td>\n",
       "      <td>0</td>\n",
       "      <td>0</td>\n",
       "      <td>0</td>\n",
       "      <td>0</td>\n",
       "      <td>1</td>\n",
       "      <td>10.0</td>\n",
       "      <td>0</td>\n",
       "      <td>0</td>\n",
       "      <td>...</td>\n",
       "      <td>25.873646</td>\n",
       "      <td>25.315629</td>\n",
       "      <td>25.983718</td>\n",
       "      <td>26.978020</td>\n",
       "      <td>-0.010689</td>\n",
       "      <td>-0.004787</td>\n",
       "      <td>2019</td>\n",
       "      <td>10</td>\n",
       "      <td>2</td>\n",
       "      <td>1</td>\n",
       "    </tr>\n",
       "    <tr>\n",
       "      <td>974683</td>\n",
       "      <td>0</td>\n",
       "      <td>1</td>\n",
       "      <td>0</td>\n",
       "      <td>0</td>\n",
       "      <td>0</td>\n",
       "      <td>0</td>\n",
       "      <td>5</td>\n",
       "      <td>13.0</td>\n",
       "      <td>0</td>\n",
       "      <td>0</td>\n",
       "      <td>...</td>\n",
       "      <td>25.873646</td>\n",
       "      <td>25.315629</td>\n",
       "      <td>25.983718</td>\n",
       "      <td>26.978020</td>\n",
       "      <td>-0.010845</td>\n",
       "      <td>-0.000999</td>\n",
       "      <td>2019</td>\n",
       "      <td>10</td>\n",
       "      <td>2</td>\n",
       "      <td>1</td>\n",
       "    </tr>\n",
       "    <tr>\n",
       "      <td>974685</td>\n",
       "      <td>0</td>\n",
       "      <td>0</td>\n",
       "      <td>0</td>\n",
       "      <td>0</td>\n",
       "      <td>0</td>\n",
       "      <td>0</td>\n",
       "      <td>0</td>\n",
       "      <td>-1.0</td>\n",
       "      <td>0</td>\n",
       "      <td>0</td>\n",
       "      <td>...</td>\n",
       "      <td>25.873646</td>\n",
       "      <td>25.315629</td>\n",
       "      <td>25.983718</td>\n",
       "      <td>26.978020</td>\n",
       "      <td>-0.010502</td>\n",
       "      <td>-0.005799</td>\n",
       "      <td>2019</td>\n",
       "      <td>10</td>\n",
       "      <td>2</td>\n",
       "      <td>1</td>\n",
       "    </tr>\n",
       "    <tr>\n",
       "      <td>974696</td>\n",
       "      <td>0</td>\n",
       "      <td>0</td>\n",
       "      <td>0</td>\n",
       "      <td>0</td>\n",
       "      <td>0</td>\n",
       "      <td>0</td>\n",
       "      <td>28</td>\n",
       "      <td>10.0</td>\n",
       "      <td>0</td>\n",
       "      <td>0</td>\n",
       "      <td>...</td>\n",
       "      <td>25.873646</td>\n",
       "      <td>25.315629</td>\n",
       "      <td>25.983718</td>\n",
       "      <td>26.978020</td>\n",
       "      <td>-0.012149</td>\n",
       "      <td>-0.005051</td>\n",
       "      <td>2019</td>\n",
       "      <td>10</td>\n",
       "      <td>2</td>\n",
       "      <td>1</td>\n",
       "    </tr>\n",
       "    <tr>\n",
       "      <td>974698</td>\n",
       "      <td>0</td>\n",
       "      <td>0</td>\n",
       "      <td>0</td>\n",
       "      <td>0</td>\n",
       "      <td>0</td>\n",
       "      <td>0</td>\n",
       "      <td>0</td>\n",
       "      <td>-1.0</td>\n",
       "      <td>0</td>\n",
       "      <td>0</td>\n",
       "      <td>...</td>\n",
       "      <td>25.873646</td>\n",
       "      <td>25.315629</td>\n",
       "      <td>25.983718</td>\n",
       "      <td>26.978020</td>\n",
       "      <td>-0.011966</td>\n",
       "      <td>-0.003786</td>\n",
       "      <td>2019</td>\n",
       "      <td>10</td>\n",
       "      <td>2</td>\n",
       "      <td>1</td>\n",
       "    </tr>\n",
       "  </tbody>\n",
       "</table>\n",
       "<p>48464 rows × 66 columns</p>\n",
       "</div>"
      ],
      "text/plain": [
       "        bot_clicks_feature  bcfeature1  bcfeature2  bcfeature3  bcfeature4  \\\n",
       "93                       0           0           0           0           0   \n",
       "146                      0           0           0           0           0   \n",
       "150                      0           0           0           0           0   \n",
       "153                      0           0           0           0           0   \n",
       "155                      0           0           0           0           0   \n",
       "...                    ...         ...         ...         ...         ...   \n",
       "974681                   0           0           0           0           0   \n",
       "974683                   0           1           0           0           0   \n",
       "974685                   0           0           0           0           0   \n",
       "974696                   0           0           0           0           0   \n",
       "974698                   0           0           0           0           0   \n",
       "\n",
       "        cfeature4  ifeature4  pfeature4  cfeature5  cfeature6  ...  \\\n",
       "93              0          1        6.0          0          0  ...   \n",
       "146             0          0       -1.0          0          0  ...   \n",
       "150             0          1        6.0          0          0  ...   \n",
       "153             0          9        8.0          0          0  ...   \n",
       "155             0          5        8.0          0          0  ...   \n",
       "...           ...        ...        ...        ...        ...  ...   \n",
       "974681          0          1       10.0          0          0  ...   \n",
       "974683          0          5       13.0          0          0  ...   \n",
       "974685          0          0       -1.0          0          0  ...   \n",
       "974696          0         28       10.0          0          0  ...   \n",
       "974698          0          0       -1.0          0          0  ...   \n",
       "\n",
       "        roll_p_feature2_all  roll_p_feature3_all  roll_p_feature7_all  \\\n",
       "93                37.354981            38.114445            38.424932   \n",
       "146               37.354981            38.114445            38.424932   \n",
       "150               37.354981            38.114445            38.424932   \n",
       "153               37.354981            38.114445            38.424932   \n",
       "155               37.354981            38.114445            38.424932   \n",
       "...                     ...                  ...                  ...   \n",
       "974681            25.873646            25.315629            25.983718   \n",
       "974683            25.873646            25.315629            25.983718   \n",
       "974685            25.873646            25.315629            25.983718   \n",
       "974696            25.873646            25.315629            25.983718   \n",
       "974698            25.873646            25.315629            25.983718   \n",
       "\n",
       "        roll_p_feature30_all      Mean    Median  Year  Month  Day  \\\n",
       "93                 33.990731 -0.011275  0.003579  2019      6   21   \n",
       "146                33.990731 -0.010772  0.004349  2019      6   21   \n",
       "150                33.990731 -0.010676 -0.002384  2019      6   21   \n",
       "153                33.990731 -0.010058  0.005310  2019      6   21   \n",
       "155                33.990731 -0.009662  0.006807  2019      6   21   \n",
       "...                      ...       ...       ...   ...    ...  ...   \n",
       "974681             26.978020 -0.010689 -0.004787  2019     10    2   \n",
       "974683             26.978020 -0.010845 -0.000999  2019     10    2   \n",
       "974685             26.978020 -0.010502 -0.005799  2019     10    2   \n",
       "974696             26.978020 -0.012149 -0.005051  2019     10    2   \n",
       "974698             26.978020 -0.011966 -0.003786  2019     10    2   \n",
       "\n",
       "        pred_level1  \n",
       "93                1  \n",
       "146               1  \n",
       "150               1  \n",
       "153               1  \n",
       "155               1  \n",
       "...             ...  \n",
       "974681            1  \n",
       "974683            1  \n",
       "974685            1  \n",
       "974696            1  \n",
       "974698            1  \n",
       "\n",
       "[48464 rows x 66 columns]"
      ]
     },
     "execution_count": 27,
     "metadata": {},
     "output_type": "execute_result"
    }
   ],
   "source": [
    "df[df['pred_level1']==1]"
   ]
  },
  {
   "cell_type": "code",
   "execution_count": 28,
   "metadata": {},
   "outputs": [],
   "source": [
    "ndf=pd.read_csv('./fdf-embedd.csv')\n",
    "ndf = ndf.drop(df.columns[0], axis=1)\n",
    "ndf=ndf.fillna(-1)"
   ]
  },
  {
   "cell_type": "code",
   "execution_count": null,
   "metadata": {},
   "outputs": [],
   "source": []
  },
  {
   "cell_type": "code",
   "execution_count": 32,
   "metadata": {},
   "outputs": [],
   "source": [
    "labels=ndf[\"clicks_level\"]\n",
    "labels=labels[df[df['pred_level1']==1].index]"
   ]
  },
  {
   "cell_type": "code",
   "execution_count": 33,
   "metadata": {},
   "outputs": [
    {
     "data": {
      "text/plain": [
       "(array([0, 1, 2]), array([40533,  4841,  3090]))"
      ]
     },
     "execution_count": 33,
     "metadata": {},
     "output_type": "execute_result"
    }
   ],
   "source": [
    "# labels[labels==0]=1\n",
    "np.unique(labels, return_counts=True)"
   ]
  },
  {
   "cell_type": "code",
   "execution_count": null,
   "metadata": {},
   "outputs": [],
   "source": []
  },
  {
   "cell_type": "code",
   "execution_count": 21,
   "metadata": {},
   "outputs": [],
   "source": [
    "values=df[df['pred_level1']==1].drop(['pred_level1'],axis=1).values\n",
    "y=labels.copy()\n",
    "n_train_hours=30000\n",
    "train_X ,train_y= values[:n_train_hours, :],y[:n_train_hours]\n",
    "test_X,test_y = values[n_train_hours:, :],y[n_train_hours:]"
   ]
  },
  {
   "cell_type": "code",
   "execution_count": null,
   "metadata": {},
   "outputs": [],
   "source": []
  },
  {
   "cell_type": "code",
   "execution_count": 22,
   "metadata": {},
   "outputs": [
    {
     "data": {
      "text/plain": [
       "((30000, 65), (30000,))"
      ]
     },
     "execution_count": 22,
     "metadata": {},
     "output_type": "execute_result"
    }
   ],
   "source": [
    "train_X.shape,train_y.shape"
   ]
  },
  {
   "cell_type": "code",
   "execution_count": 23,
   "metadata": {},
   "outputs": [
    {
     "data": {
      "text/plain": [
       "((8845, 65), (8845,))"
      ]
     },
     "execution_count": 23,
     "metadata": {},
     "output_type": "execute_result"
    }
   ],
   "source": [
    "test_X.shape,test_y.shape"
   ]
  },
  {
   "cell_type": "code",
   "execution_count": 24,
   "metadata": {},
   "outputs": [],
   "source": [
    "# SMOTE\n",
    "sm = SMOTE(random_state=50)\n",
    "X_train_sm, y_train_sm = sm.fit_sample(train_X, train_y)"
   ]
  },
  {
   "cell_type": "code",
   "execution_count": 25,
   "metadata": {},
   "outputs": [
    {
     "data": {
      "text/plain": [
       "(array([1, 2]), array([27570, 27570]))"
      ]
     },
     "execution_count": 25,
     "metadata": {},
     "output_type": "execute_result"
    }
   ],
   "source": [
    "np.unique(y_train_sm, return_counts=True)"
   ]
  },
  {
   "cell_type": "code",
   "execution_count": 24,
   "metadata": {},
   "outputs": [
    {
     "name": "stderr",
     "output_type": "stream",
     "text": [
      "/home/bot/virtual_enviornments/sleepare/lib/python3.6/site-packages/xgboost/core.py:587: FutureWarning: Series.base is deprecated and will be removed in a future version\n",
      "  if getattr(data, 'base', None) is not None and \\\n",
      "/home/bot/virtual_enviornments/sleepare/lib/python3.6/site-packages/xgboost/core.py:588: FutureWarning: Series.base is deprecated and will be removed in a future version\n",
      "  data.base is not None and isinstance(data, np.ndarray) \\\n"
     ]
    },
    {
     "name": "stdout",
     "output_type": "stream",
     "text": [
      "[08:05:56] WARNING: /workspace/src/objective/regression_obj.cu:152: reg:linear is now deprecated in favor of reg:squarederror.\n"
     ]
    },
    {
     "data": {
      "text/plain": [
       "XGBRegressor(base_score=0.5, booster='gbtree', colsample_bylevel=1,\n",
       "             colsample_bynode=1, colsample_bytree=1, estimators=10, gamma=0,\n",
       "             importance_type='gain', learning_rate=0.1, max_delta_step=0,\n",
       "             max_depth=3, min_child_weight=1, missing=None, n_estimators=100,\n",
       "             n_jobs=1, nthread=None, objective='reg:linear', random_state=0,\n",
       "             reg_alpha=0, reg_lambda=1, scale_pos_weight=1, seed=None,\n",
       "             silent=None, subsample=1, verbosity=1)"
      ]
     },
     "execution_count": 24,
     "metadata": {},
     "output_type": "execute_result"
    }
   ],
   "source": [
    "rgr=xgboost.XGBRegressor(max_depth=3,estimators=10)\n",
    "rgr.fit(train_X,train_y)"
   ]
  },
  {
   "cell_type": "code",
   "execution_count": 26,
   "metadata": {},
   "outputs": [
    {
     "name": "stdout",
     "output_type": "stream",
     "text": [
      "1.088244582643446\n"
     ]
    }
   ],
   "source": [
    "pred=rgr.predict(test_X)\n",
    "print (sklearn.metrics.mean_squared_error(test_y,pred))"
   ]
  },
  {
   "cell_type": "code",
   "execution_count": 29,
   "metadata": {},
   "outputs": [],
   "source": [
    "df=df.assign(final_pred=0)\n",
    "df.loc[df['pred_level1']==1, 'final_pred'] =1\n",
    "pred=rgr.predict(df[df.final_pred==1].drop(['pred_level1','final_pred'],axis=1).values)"
   ]
  },
  {
   "cell_type": "code",
   "execution_count": 31,
   "metadata": {},
   "outputs": [
    {
     "name": "stderr",
     "output_type": "stream",
     "text": [
      "/home/bot/virtual_enviornments/sleepare/lib/python3.6/site-packages/ipykernel_launcher.py:2: SettingWithCopyWarning: \n",
      "A value is trying to be set on a copy of a slice from a DataFrame.\n",
      "Try using .loc[row_indexer,col_indexer] = value instead\n",
      "\n",
      "See the caveats in the documentation: http://pandas.pydata.org/pandas-docs/stable/user_guide/indexing.html#returning-a-view-versus-a-copy\n",
      "  \n"
     ]
    }
   ],
   "source": [
    "ndf=df[df.final_pred==1]\n",
    "ndf[\"final_pred\"]=pred\n",
    "df.loc[ndf.index,'final_pred']=ndf.final_pred"
   ]
  },
  {
   "cell_type": "code",
   "execution_count": 32,
   "metadata": {},
   "outputs": [
    {
     "data": {
      "text/html": [
       "<div>\n",
       "<style scoped>\n",
       "    .dataframe tbody tr th:only-of-type {\n",
       "        vertical-align: middle;\n",
       "    }\n",
       "\n",
       "    .dataframe tbody tr th {\n",
       "        vertical-align: top;\n",
       "    }\n",
       "\n",
       "    .dataframe thead th {\n",
       "        text-align: right;\n",
       "    }\n",
       "</style>\n",
       "<table border=\"1\" class=\"dataframe\">\n",
       "  <thead>\n",
       "    <tr style=\"text-align: right;\">\n",
       "      <th></th>\n",
       "      <th>bot_clicks_feature</th>\n",
       "      <th>bcfeature1</th>\n",
       "      <th>bcfeature2</th>\n",
       "      <th>bcfeature3</th>\n",
       "      <th>bcfeature4</th>\n",
       "      <th>cfeature4</th>\n",
       "      <th>ifeature4</th>\n",
       "      <th>pfeature4</th>\n",
       "      <th>cfeature5</th>\n",
       "      <th>cfeature6</th>\n",
       "      <th>...</th>\n",
       "      <th>roll_p_feature3_all</th>\n",
       "      <th>roll_p_feature7_all</th>\n",
       "      <th>roll_p_feature30_all</th>\n",
       "      <th>Mean</th>\n",
       "      <th>Median</th>\n",
       "      <th>Year</th>\n",
       "      <th>Month</th>\n",
       "      <th>Day</th>\n",
       "      <th>pred_level1</th>\n",
       "      <th>final_pred</th>\n",
       "    </tr>\n",
       "  </thead>\n",
       "  <tbody>\n",
       "    <tr>\n",
       "      <td>0</td>\n",
       "      <td>0</td>\n",
       "      <td>0</td>\n",
       "      <td>0</td>\n",
       "      <td>0</td>\n",
       "      <td>0</td>\n",
       "      <td>0</td>\n",
       "      <td>0</td>\n",
       "      <td>-1.0</td>\n",
       "      <td>0</td>\n",
       "      <td>0</td>\n",
       "      <td>...</td>\n",
       "      <td>38.114445</td>\n",
       "      <td>38.424932</td>\n",
       "      <td>33.990731</td>\n",
       "      <td>-0.014119</td>\n",
       "      <td>0.003428</td>\n",
       "      <td>2019</td>\n",
       "      <td>6</td>\n",
       "      <td>21</td>\n",
       "      <td>0</td>\n",
       "      <td>0.0</td>\n",
       "    </tr>\n",
       "    <tr>\n",
       "      <td>1</td>\n",
       "      <td>0</td>\n",
       "      <td>0</td>\n",
       "      <td>0</td>\n",
       "      <td>0</td>\n",
       "      <td>0</td>\n",
       "      <td>0</td>\n",
       "      <td>0</td>\n",
       "      <td>-1.0</td>\n",
       "      <td>0</td>\n",
       "      <td>0</td>\n",
       "      <td>...</td>\n",
       "      <td>38.114445</td>\n",
       "      <td>38.424932</td>\n",
       "      <td>33.990731</td>\n",
       "      <td>-0.010589</td>\n",
       "      <td>0.006418</td>\n",
       "      <td>2019</td>\n",
       "      <td>6</td>\n",
       "      <td>21</td>\n",
       "      <td>0</td>\n",
       "      <td>0.0</td>\n",
       "    </tr>\n",
       "    <tr>\n",
       "      <td>2</td>\n",
       "      <td>0</td>\n",
       "      <td>0</td>\n",
       "      <td>0</td>\n",
       "      <td>0</td>\n",
       "      <td>0</td>\n",
       "      <td>0</td>\n",
       "      <td>0</td>\n",
       "      <td>-1.0</td>\n",
       "      <td>0</td>\n",
       "      <td>0</td>\n",
       "      <td>...</td>\n",
       "      <td>38.114445</td>\n",
       "      <td>38.424932</td>\n",
       "      <td>33.990731</td>\n",
       "      <td>-0.010928</td>\n",
       "      <td>0.000463</td>\n",
       "      <td>2019</td>\n",
       "      <td>6</td>\n",
       "      <td>21</td>\n",
       "      <td>0</td>\n",
       "      <td>0.0</td>\n",
       "    </tr>\n",
       "    <tr>\n",
       "      <td>3</td>\n",
       "      <td>0</td>\n",
       "      <td>0</td>\n",
       "      <td>0</td>\n",
       "      <td>0</td>\n",
       "      <td>0</td>\n",
       "      <td>0</td>\n",
       "      <td>0</td>\n",
       "      <td>-1.0</td>\n",
       "      <td>0</td>\n",
       "      <td>0</td>\n",
       "      <td>...</td>\n",
       "      <td>38.114445</td>\n",
       "      <td>38.424932</td>\n",
       "      <td>33.990731</td>\n",
       "      <td>-0.011061</td>\n",
       "      <td>0.001539</td>\n",
       "      <td>2019</td>\n",
       "      <td>6</td>\n",
       "      <td>21</td>\n",
       "      <td>0</td>\n",
       "      <td>0.0</td>\n",
       "    </tr>\n",
       "    <tr>\n",
       "      <td>4</td>\n",
       "      <td>0</td>\n",
       "      <td>0</td>\n",
       "      <td>0</td>\n",
       "      <td>0</td>\n",
       "      <td>0</td>\n",
       "      <td>0</td>\n",
       "      <td>0</td>\n",
       "      <td>-1.0</td>\n",
       "      <td>0</td>\n",
       "      <td>0</td>\n",
       "      <td>...</td>\n",
       "      <td>38.114445</td>\n",
       "      <td>38.424932</td>\n",
       "      <td>33.990731</td>\n",
       "      <td>-0.010018</td>\n",
       "      <td>0.005830</td>\n",
       "      <td>2019</td>\n",
       "      <td>6</td>\n",
       "      <td>21</td>\n",
       "      <td>0</td>\n",
       "      <td>0.0</td>\n",
       "    </tr>\n",
       "  </tbody>\n",
       "</table>\n",
       "<p>5 rows × 67 columns</p>\n",
       "</div>"
      ],
      "text/plain": [
       "   bot_clicks_feature  bcfeature1  bcfeature2  bcfeature3  bcfeature4  \\\n",
       "0                   0           0           0           0           0   \n",
       "1                   0           0           0           0           0   \n",
       "2                   0           0           0           0           0   \n",
       "3                   0           0           0           0           0   \n",
       "4                   0           0           0           0           0   \n",
       "\n",
       "   cfeature4  ifeature4  pfeature4  cfeature5  cfeature6  ...  \\\n",
       "0          0          0       -1.0          0          0  ...   \n",
       "1          0          0       -1.0          0          0  ...   \n",
       "2          0          0       -1.0          0          0  ...   \n",
       "3          0          0       -1.0          0          0  ...   \n",
       "4          0          0       -1.0          0          0  ...   \n",
       "\n",
       "   roll_p_feature3_all  roll_p_feature7_all  roll_p_feature30_all      Mean  \\\n",
       "0            38.114445            38.424932             33.990731 -0.014119   \n",
       "1            38.114445            38.424932             33.990731 -0.010589   \n",
       "2            38.114445            38.424932             33.990731 -0.010928   \n",
       "3            38.114445            38.424932             33.990731 -0.011061   \n",
       "4            38.114445            38.424932             33.990731 -0.010018   \n",
       "\n",
       "     Median  Year  Month  Day  pred_level1  final_pred  \n",
       "0  0.003428  2019      6   21            0         0.0  \n",
       "1  0.006418  2019      6   21            0         0.0  \n",
       "2  0.000463  2019      6   21            0         0.0  \n",
       "3  0.001539  2019      6   21            0         0.0  \n",
       "4  0.005830  2019      6   21            0         0.0  \n",
       "\n",
       "[5 rows x 67 columns]"
      ]
     },
     "execution_count": 32,
     "metadata": {},
     "output_type": "execute_result"
    }
   ],
   "source": [
    "print (sklearn.metrics.mean_squared_error(test_y,pred))"
   ]
  },
  {
   "cell_type": "code",
   "execution_count": 26,
   "metadata": {},
   "outputs": [],
   "source": [
    "def adaboost(X_train, y_train):\n",
    "    model = AdaBoostClassifier(n_estimators=10, random_state=42)\n",
    "    model.fit(X_train,y_train)\n",
    "    return model\n",
    "\n",
    "model_2=adaboost(X_train_sm,y_train_sm)\n",
    "pred=model_2.predict(test_X)"
   ]
  },
  {
   "cell_type": "code",
   "execution_count": 28,
   "metadata": {},
   "outputs": [
    {
     "data": {
      "text/plain": [
       "XGBClassifier(base_score=0.5, booster='gbtree', colsample_bylevel=1,\n",
       "              colsample_bynode=1, colsample_bytree=0.8,\n",
       "              early_stopping_rounds=10, gamma=0, learning_rate=0.08,\n",
       "              max_delta_step=0, max_depth=3, min_child_weight=1, missing=None,\n",
       "              n_estimators=10, n_jobs=1, nthread=None,\n",
       "              objective='binary:logistic', random_state=0, reg_alpha=0,\n",
       "              reg_lambda=1, scale_pos_weight=1, seed=None, silent=None,\n",
       "              subsample=0.6, verbosity=1)"
      ]
     },
     "execution_count": 28,
     "metadata": {},
     "output_type": "execute_result"
    }
   ],
   "source": [
    "def build_model(lr=0.1,depth=8,estimators=10):\n",
    "    clf=xgboost.XGBClassifier(learning_rate = lr,max_depth = depth,early_stopping_rounds=10,n_estimators = estimators,min_child_weight= 1, scale_pos_weight= 1,colsample_bytree=0.8,subsample=0.6)\n",
    "    return clf\n",
    "\n",
    "# eset = [(X_train_sm, y_train_sm), (test_X, test_y)]\n",
    "model_2=build_model(lr=0.08,depth=3,estimators=10)\n",
    "model_2.fit(X_train_sm,y_train_sm,verbose=True)"
   ]
  },
  {
   "cell_type": "code",
   "execution_count": 29,
   "metadata": {},
   "outputs": [],
   "source": [
    "pred=model_2.predict(test_X)"
   ]
  },
  {
   "cell_type": "code",
   "execution_count": 30,
   "metadata": {},
   "outputs": [
    {
     "data": {
      "text/plain": [
       "[Text(0, 0, ''), Text(0, 0, '1'), Text(0, 0, '2')]"
      ]
     },
     "execution_count": 30,
     "metadata": {},
     "output_type": "execute_result"
    },
    {
     "data": {
      "image/png": "[encoded data removed]",
      "text/plain": [
       "<Figure size 720x720 with 2 Axes>"
      ]
     },
     "metadata": {
      "needs_background": "light"
     },
     "output_type": "display_data"
    }
   ],
   "source": [
    "conf=sklearn.metrics.confusion_matrix(test_y,pred,labels=[1,2])\n",
    "fig, ax = plot_confusion_matrix(conf_mat=conf,\n",
    "                                show_absolute=True,\n",
    "                                show_normed=True,\n",
    "                                colorbar=True,\n",
    "                               figsize=(10,10)\n",
    "                               )\n",
    "\n",
    "\n",
    "labels=['','1','2']\n",
    "ax.set_xticklabels(labels)\n",
    "ax.set_yticklabels(labels)"
   ]
  },
  {
   "cell_type": "code",
   "execution_count": 40,
   "metadata": {},
   "outputs": [
    {
     "data": {
      "image/png": "[encoded data removed]",
      "text/plain": [
       "<Figure size 432x288 with 1 Axes>"
      ]
     },
     "metadata": {
      "needs_background": "light"
     },
     "output_type": "display_data"
    }
   ],
   "source": [
    "prob=model_2.predict_proba(test_X)\n",
    "preds = prob[:,1]\n",
    "pred[pred==1]=0\n",
    "pred[pred==2]=1\n",
    "\n",
    "test_y[test_y==1]=0\n",
    "test_y[test_y==2]=1\n",
    "\n",
    "\n",
    "fpr, tpr, threshold = sklearn.metrics.roc_curve(test_y, preds)\n",
    "roc_auc = sklearn.metrics.auc(fpr, tpr)\n",
    "plt.title('Receiver Operating Characteristic')\n",
    "plt.plot(fpr, tpr, 'b', label = 'AUC = %0.2f' % roc_auc)\n",
    "plt.legend(loc = 'lower right')\n",
    "plt.plot([0, 1], [0, 1],'r--')\n",
    "plt.xlim([0, 1])\n",
    "plt.ylim([0, 1])\n",
    "plt.ylabel('True Positive Rate')\n",
    "plt.xlabel('False Positive Rate')\n",
    "plt.show()"
   ]
  },
  {
   "cell_type": "code",
   "execution_count": 31,
   "metadata": {},
   "outputs": [],
   "source": [
    "df=df.assign(final_pred=0)\n",
    "df.loc[df['pred_level1']==1, 'final_pred'] =1"
   ]
  },
  {
   "cell_type": "code",
   "execution_count": 32,
   "metadata": {},
   "outputs": [],
   "source": [
    "fp=model_2.predict(df[df.final_pred==1].drop(['pred_level1','final_pred'],axis=1).values)"
   ]
  },
  {
   "cell_type": "code",
   "execution_count": 33,
   "metadata": {},
   "outputs": [
    {
     "name": "stderr",
     "output_type": "stream",
     "text": [
      "/home/bot/virtual_enviornments/sleepare/lib/python3.6/site-packages/ipykernel_launcher.py:2: SettingWithCopyWarning: \n",
      "A value is trying to be set on a copy of a slice from a DataFrame.\n",
      "Try using .loc[row_indexer,col_indexer] = value instead\n",
      "\n",
      "See the caveats in the documentation: http://pandas.pydata.org/pandas-docs/stable/user_guide/indexing.html#returning-a-view-versus-a-copy\n",
      "  \n"
     ]
    }
   ],
   "source": [
    "ndf=df[df.final_pred==1]\n",
    "ndf[\"final_pred\"]=fp"
   ]
  },
  {
   "cell_type": "code",
   "execution_count": 34,
   "metadata": {},
   "outputs": [],
   "source": [
    "df.loc[ndf.index,'final_pred']=ndf.final_pred"
   ]
  },
  {
   "cell_type": "code",
   "execution_count": 103,
   "metadata": {},
   "outputs": [
    {
     "data": {
      "text/html": [
       "<div>\n",
       "<style scoped>\n",
       "    .dataframe tbody tr th:only-of-type {\n",
       "        vertical-align: middle;\n",
       "    }\n",
       "\n",
       "    .dataframe tbody tr th {\n",
       "        vertical-align: top;\n",
       "    }\n",
       "\n",
       "    .dataframe thead th {\n",
       "        text-align: right;\n",
       "    }\n",
       "</style>\n",
       "<table border=\"1\" class=\"dataframe\">\n",
       "  <thead>\n",
       "    <tr style=\"text-align: right;\">\n",
       "      <th></th>\n",
       "      <th>bot_clicks_feature</th>\n",
       "      <th>bcfeature1</th>\n",
       "      <th>bcfeature2</th>\n",
       "      <th>bcfeature3</th>\n",
       "      <th>bcfeature4</th>\n",
       "      <th>cfeature4</th>\n",
       "      <th>ifeature4</th>\n",
       "      <th>pfeature4</th>\n",
       "      <th>cfeature5</th>\n",
       "      <th>cfeature6</th>\n",
       "      <th>...</th>\n",
       "      <th>roll_p_feature3_all</th>\n",
       "      <th>roll_p_feature7_all</th>\n",
       "      <th>roll_p_feature30_all</th>\n",
       "      <th>Mean</th>\n",
       "      <th>Median</th>\n",
       "      <th>Year</th>\n",
       "      <th>Month</th>\n",
       "      <th>Day</th>\n",
       "      <th>pred_level1</th>\n",
       "      <th>final_pred</th>\n",
       "    </tr>\n",
       "  </thead>\n",
       "  <tbody>\n",
       "    <tr>\n",
       "      <td>880874</td>\n",
       "      <td>0</td>\n",
       "      <td>0</td>\n",
       "      <td>0</td>\n",
       "      <td>0</td>\n",
       "      <td>0</td>\n",
       "      <td>0</td>\n",
       "      <td>0</td>\n",
       "      <td>-1.0</td>\n",
       "      <td>0</td>\n",
       "      <td>0</td>\n",
       "      <td>...</td>\n",
       "      <td>20.820991</td>\n",
       "      <td>22.797386</td>\n",
       "      <td>28.331372</td>\n",
       "      <td>-0.014119</td>\n",
       "      <td>0.003428</td>\n",
       "      <td>2019</td>\n",
       "      <td>9</td>\n",
       "      <td>16</td>\n",
       "      <td>0</td>\n",
       "      <td>0</td>\n",
       "    </tr>\n",
       "    <tr>\n",
       "      <td>880875</td>\n",
       "      <td>0</td>\n",
       "      <td>0</td>\n",
       "      <td>0</td>\n",
       "      <td>0</td>\n",
       "      <td>0</td>\n",
       "      <td>0</td>\n",
       "      <td>0</td>\n",
       "      <td>-1.0</td>\n",
       "      <td>0</td>\n",
       "      <td>0</td>\n",
       "      <td>...</td>\n",
       "      <td>20.820991</td>\n",
       "      <td>22.797386</td>\n",
       "      <td>28.331372</td>\n",
       "      <td>-0.010589</td>\n",
       "      <td>0.006418</td>\n",
       "      <td>2019</td>\n",
       "      <td>9</td>\n",
       "      <td>16</td>\n",
       "      <td>0</td>\n",
       "      <td>0</td>\n",
       "    </tr>\n",
       "    <tr>\n",
       "      <td>880876</td>\n",
       "      <td>0</td>\n",
       "      <td>0</td>\n",
       "      <td>0</td>\n",
       "      <td>0</td>\n",
       "      <td>0</td>\n",
       "      <td>0</td>\n",
       "      <td>0</td>\n",
       "      <td>-1.0</td>\n",
       "      <td>0</td>\n",
       "      <td>0</td>\n",
       "      <td>...</td>\n",
       "      <td>20.820991</td>\n",
       "      <td>22.797386</td>\n",
       "      <td>28.331372</td>\n",
       "      <td>-0.011583</td>\n",
       "      <td>-0.002438</td>\n",
       "      <td>2019</td>\n",
       "      <td>9</td>\n",
       "      <td>16</td>\n",
       "      <td>0</td>\n",
       "      <td>0</td>\n",
       "    </tr>\n",
       "    <tr>\n",
       "      <td>880877</td>\n",
       "      <td>0</td>\n",
       "      <td>0</td>\n",
       "      <td>0</td>\n",
       "      <td>0</td>\n",
       "      <td>0</td>\n",
       "      <td>0</td>\n",
       "      <td>2</td>\n",
       "      <td>6.5</td>\n",
       "      <td>0</td>\n",
       "      <td>0</td>\n",
       "      <td>...</td>\n",
       "      <td>20.820991</td>\n",
       "      <td>22.797386</td>\n",
       "      <td>28.331372</td>\n",
       "      <td>-0.013724</td>\n",
       "      <td>-0.003462</td>\n",
       "      <td>2019</td>\n",
       "      <td>9</td>\n",
       "      <td>16</td>\n",
       "      <td>0</td>\n",
       "      <td>0</td>\n",
       "    </tr>\n",
       "    <tr>\n",
       "      <td>880878</td>\n",
       "      <td>0</td>\n",
       "      <td>0</td>\n",
       "      <td>0</td>\n",
       "      <td>0</td>\n",
       "      <td>0</td>\n",
       "      <td>0</td>\n",
       "      <td>0</td>\n",
       "      <td>-1.0</td>\n",
       "      <td>0</td>\n",
       "      <td>0</td>\n",
       "      <td>...</td>\n",
       "      <td>20.820991</td>\n",
       "      <td>22.797386</td>\n",
       "      <td>28.331372</td>\n",
       "      <td>-0.012101</td>\n",
       "      <td>-0.016786</td>\n",
       "      <td>2019</td>\n",
       "      <td>9</td>\n",
       "      <td>16</td>\n",
       "      <td>0</td>\n",
       "      <td>0</td>\n",
       "    </tr>\n",
       "    <tr>\n",
       "      <td>...</td>\n",
       "      <td>...</td>\n",
       "      <td>...</td>\n",
       "      <td>...</td>\n",
       "      <td>...</td>\n",
       "      <td>...</td>\n",
       "      <td>...</td>\n",
       "      <td>...</td>\n",
       "      <td>...</td>\n",
       "      <td>...</td>\n",
       "      <td>...</td>\n",
       "      <td>...</td>\n",
       "      <td>...</td>\n",
       "      <td>...</td>\n",
       "      <td>...</td>\n",
       "      <td>...</td>\n",
       "      <td>...</td>\n",
       "      <td>...</td>\n",
       "      <td>...</td>\n",
       "      <td>...</td>\n",
       "      <td>...</td>\n",
       "      <td>...</td>\n",
       "    </tr>\n",
       "    <tr>\n",
       "      <td>974697</td>\n",
       "      <td>0</td>\n",
       "      <td>0</td>\n",
       "      <td>0</td>\n",
       "      <td>0</td>\n",
       "      <td>0</td>\n",
       "      <td>0</td>\n",
       "      <td>0</td>\n",
       "      <td>-1.0</td>\n",
       "      <td>0</td>\n",
       "      <td>0</td>\n",
       "      <td>...</td>\n",
       "      <td>25.315629</td>\n",
       "      <td>25.983718</td>\n",
       "      <td>26.978020</td>\n",
       "      <td>-0.010772</td>\n",
       "      <td>0.001569</td>\n",
       "      <td>2019</td>\n",
       "      <td>10</td>\n",
       "      <td>2</td>\n",
       "      <td>0</td>\n",
       "      <td>0</td>\n",
       "    </tr>\n",
       "    <tr>\n",
       "      <td>974698</td>\n",
       "      <td>0</td>\n",
       "      <td>0</td>\n",
       "      <td>0</td>\n",
       "      <td>0</td>\n",
       "      <td>0</td>\n",
       "      <td>0</td>\n",
       "      <td>0</td>\n",
       "      <td>-1.0</td>\n",
       "      <td>0</td>\n",
       "      <td>0</td>\n",
       "      <td>...</td>\n",
       "      <td>25.315629</td>\n",
       "      <td>25.983718</td>\n",
       "      <td>26.978020</td>\n",
       "      <td>-0.011966</td>\n",
       "      <td>-0.003786</td>\n",
       "      <td>2019</td>\n",
       "      <td>10</td>\n",
       "      <td>2</td>\n",
       "      <td>1</td>\n",
       "      <td>1</td>\n",
       "    </tr>\n",
       "    <tr>\n",
       "      <td>974699</td>\n",
       "      <td>0</td>\n",
       "      <td>0</td>\n",
       "      <td>0</td>\n",
       "      <td>0</td>\n",
       "      <td>0</td>\n",
       "      <td>0</td>\n",
       "      <td>2</td>\n",
       "      <td>25.0</td>\n",
       "      <td>0</td>\n",
       "      <td>0</td>\n",
       "      <td>...</td>\n",
       "      <td>25.315629</td>\n",
       "      <td>25.983718</td>\n",
       "      <td>26.978020</td>\n",
       "      <td>-0.011934</td>\n",
       "      <td>-0.003552</td>\n",
       "      <td>2019</td>\n",
       "      <td>10</td>\n",
       "      <td>2</td>\n",
       "      <td>0</td>\n",
       "      <td>0</td>\n",
       "    </tr>\n",
       "    <tr>\n",
       "      <td>974700</td>\n",
       "      <td>0</td>\n",
       "      <td>0</td>\n",
       "      <td>0</td>\n",
       "      <td>0</td>\n",
       "      <td>0</td>\n",
       "      <td>0</td>\n",
       "      <td>1</td>\n",
       "      <td>37.0</td>\n",
       "      <td>0</td>\n",
       "      <td>0</td>\n",
       "      <td>...</td>\n",
       "      <td>25.315629</td>\n",
       "      <td>25.983718</td>\n",
       "      <td>26.978020</td>\n",
       "      <td>-0.011243</td>\n",
       "      <td>0.000501</td>\n",
       "      <td>2019</td>\n",
       "      <td>10</td>\n",
       "      <td>2</td>\n",
       "      <td>0</td>\n",
       "      <td>0</td>\n",
       "    </tr>\n",
       "    <tr>\n",
       "      <td>974701</td>\n",
       "      <td>0</td>\n",
       "      <td>0</td>\n",
       "      <td>0</td>\n",
       "      <td>0</td>\n",
       "      <td>0</td>\n",
       "      <td>0</td>\n",
       "      <td>1</td>\n",
       "      <td>43.0</td>\n",
       "      <td>0</td>\n",
       "      <td>0</td>\n",
       "      <td>...</td>\n",
       "      <td>25.315629</td>\n",
       "      <td>25.983718</td>\n",
       "      <td>26.978020</td>\n",
       "      <td>-0.010602</td>\n",
       "      <td>0.002232</td>\n",
       "      <td>2019</td>\n",
       "      <td>10</td>\n",
       "      <td>2</td>\n",
       "      <td>0</td>\n",
       "      <td>0</td>\n",
       "    </tr>\n",
       "  </tbody>\n",
       "</table>\n",
       "<p>93828 rows × 67 columns</p>\n",
       "</div>"
      ],
      "text/plain": [
       "        bot_clicks_feature  bcfeature1  bcfeature2  bcfeature3  bcfeature4  \\\n",
       "880874                   0           0           0           0           0   \n",
       "880875                   0           0           0           0           0   \n",
       "880876                   0           0           0           0           0   \n",
       "880877                   0           0           0           0           0   \n",
       "880878                   0           0           0           0           0   \n",
       "...                    ...         ...         ...         ...         ...   \n",
       "974697                   0           0           0           0           0   \n",
       "974698                   0           0           0           0           0   \n",
       "974699                   0           0           0           0           0   \n",
       "974700                   0           0           0           0           0   \n",
       "974701                   0           0           0           0           0   \n",
       "\n",
       "        cfeature4  ifeature4  pfeature4  cfeature5  cfeature6  ...  \\\n",
       "880874          0          0       -1.0          0          0  ...   \n",
       "880875          0          0       -1.0          0          0  ...   \n",
       "880876          0          0       -1.0          0          0  ...   \n",
       "880877          0          2        6.5          0          0  ...   \n",
       "880878          0          0       -1.0          0          0  ...   \n",
       "...           ...        ...        ...        ...        ...  ...   \n",
       "974697          0          0       -1.0          0          0  ...   \n",
       "974698          0          0       -1.0          0          0  ...   \n",
       "974699          0          2       25.0          0          0  ...   \n",
       "974700          0          1       37.0          0          0  ...   \n",
       "974701          0          1       43.0          0          0  ...   \n",
       "\n",
       "        roll_p_feature3_all  roll_p_feature7_all  roll_p_feature30_all  \\\n",
       "880874            20.820991            22.797386             28.331372   \n",
       "880875            20.820991            22.797386             28.331372   \n",
       "880876            20.820991            22.797386             28.331372   \n",
       "880877            20.820991            22.797386             28.331372   \n",
       "880878            20.820991            22.797386             28.331372   \n",
       "...                     ...                  ...                   ...   \n",
       "974697            25.315629            25.983718             26.978020   \n",
       "974698            25.315629            25.983718             26.978020   \n",
       "974699            25.315629            25.983718             26.978020   \n",
       "974700            25.315629            25.983718             26.978020   \n",
       "974701            25.315629            25.983718             26.978020   \n",
       "\n",
       "            Mean    Median  Year  Month  Day  pred_level1  final_pred  \n",
       "880874 -0.014119  0.003428  2019      9   16            0           0  \n",
       "880875 -0.010589  0.006418  2019      9   16            0           0  \n",
       "880876 -0.011583 -0.002438  2019      9   16            0           0  \n",
       "880877 -0.013724 -0.003462  2019      9   16            0           0  \n",
       "880878 -0.012101 -0.016786  2019      9   16            0           0  \n",
       "...          ...       ...   ...    ...  ...          ...         ...  \n",
       "974697 -0.010772  0.001569  2019     10    2            0           0  \n",
       "974698 -0.011966 -0.003786  2019     10    2            1           1  \n",
       "974699 -0.011934 -0.003552  2019     10    2            0           0  \n",
       "974700 -0.011243  0.000501  2019     10    2            0           0  \n",
       "974701 -0.010602  0.002232  2019     10    2            0           0  \n",
       "\n",
       "[93828 rows x 67 columns]"
      ]
     },
     "execution_count": 103,
     "metadata": {},
     "output_type": "execute_result"
    }
   ],
   "source": [
    "df.iloc[880874:]"
   ]
  },
  {
   "cell_type": "code",
   "execution_count": 37,
   "metadata": {},
   "outputs": [
    {
     "data": {
      "image/png": "[encoded data removed]",
      "text/plain": [
       "<Figure size 720x720 with 2 Axes>"
      ]
     },
     "metadata": {
      "needs_background": "light"
     },
     "output_type": "display_data"
    }
   ],
   "source": [
    "conf=sklearn.metrics.confusion_matrix(labels[880874:],df.iloc[880874:]['final_pred'],labels=[0,1,2])\n",
    "fig, ax = plot_confusion_matrix(conf_mat=conf,\n",
    "                                show_absolute=True,\n",
    "                                show_normed=True,\n",
    "                                colorbar=True,\n",
    "                               figsize=(10,10))"
   ]
  },
  {
   "cell_type": "code",
   "execution_count": 38,
   "metadata": {},
   "outputs": [
    {
     "name": "stdout",
     "output_type": "stream",
     "text": [
      "{0: 0.915675844787885, 1: 0.7453326483973746, 2: 0.859921902928209}\n",
      "{0: 'Excellent', 1: 'Good', 2: 'Very Good'}\n",
      "0.24926162583685837\n"
     ]
    }
   ],
   "source": [
    "from pycm import ConfusionMatrix\n",
    "cm = ConfusionMatrix(actual_vector=labels[880874:].tolist(), predict_vector=df.iloc[880874:]['final_pred'].tolist())\n",
    "print (cm.AUC)\n",
    "print (cm.AUCI)\n",
    "print (cm.Kappa)"
   ]
  },
  {
   "cell_type": "code",
   "execution_count": null,
   "metadata": {},
   "outputs": [],
   "source": []
  },
  {
   "cell_type": "code",
   "execution_count": null,
   "metadata": {},
   "outputs": [],
   "source": []
  },
  {
   "cell_type": "code",
   "execution_count": 69,
   "metadata": {},
   "outputs": [],
   "source": []
  },
  {
   "cell_type": "code",
   "execution_count": 70,
   "metadata": {},
   "outputs": [],
   "source": []
  },
  {
   "cell_type": "code",
   "execution_count": 71,
   "metadata": {},
   "outputs": [],
   "source": []
  },
  {
   "cell_type": "code",
   "execution_count": null,
   "metadata": {},
   "outputs": [],
   "source": []
  },
  {
   "cell_type": "code",
   "execution_count": 13,
   "metadata": {},
   "outputs": [
    {
     "data": {
      "text/plain": [
       "Index(['tomorrow_net_clicks', 'bot_clicks_feature', 'bcfeature1', 'bcfeature2',\n",
       "       'bcfeature3', 'bcfeature4', 'cfeature4', 'ifeature4', 'pfeature4',\n",
       "       'cfeature5', 'cfeature6', 'cfeature7', 'ifeature5', 'ifeature6',\n",
       "       'ifeature7', 'pfeature5', 'pfeature6', 'pfeature7', 'roll_c_feature2',\n",
       "       'roll_c_feature3', 'roll_c_feature7', 'roll_c_feature30',\n",
       "       'roll_i_feature2', 'roll_i_feature3', 'roll_i_feature7',\n",
       "       'roll_i_feature30', 'roll_p_feature2', 'roll_p_feature3',\n",
       "       'roll_p_feature7', 'roll_p_feature30', 'bcfeature5', 'bcfeature6',\n",
       "       'bcfeature7', 'roll_bc_feature2', 'roll_bc_feature3',\n",
       "       'roll_bc_feature7', 'roll_bc_feature30', 'cfeature4_all',\n",
       "       'ifeature4_all', 'pfeature4_all', 'cfeature5_all', 'cfeature6_all',\n",
       "       'cfeature7_all', 'ifeature5_all', 'ifeature6_all', 'ifeature7_all',\n",
       "       'pfeature5_all', 'pfeature6_all', 'pfeature7_all',\n",
       "       'roll_c_feature2_all', 'roll_c_feature3_all', 'roll_c_feature7_all',\n",
       "       'roll_c_feature30_all', 'roll_i_feature2_all', 'roll_i_feature3_all',\n",
       "       'roll_i_feature7_all', 'roll_i_feature30_all', 'roll_p_feature2_all',\n",
       "       'roll_p_feature3_all', 'roll_p_feature7_all', 'roll_p_feature30_all',\n",
       "       'Mean', 'Median', 'Year', 'Month', 'Day'],\n",
       "      dtype='object')"
      ]
     },
     "execution_count": 13,
     "metadata": {},
     "output_type": "execute_result"
    }
   ],
   "source": [
    "df.columns\n"
   ]
  },
  {
   "cell_type": "code",
   "execution_count": 74,
   "metadata": {},
   "outputs": [],
   "source": []
  },
  {
   "cell_type": "code",
   "execution_count": null,
   "metadata": {},
   "outputs": [],
   "source": []
  },
  {
   "cell_type": "code",
   "execution_count": null,
   "metadata": {},
   "outputs": [],
   "source": []
  },
  {
   "cell_type": "code",
   "execution_count": null,
   "metadata": {},
   "outputs": [],
   "source": []
  },
  {
   "cell_type": "code",
   "execution_count": null,
   "metadata": {},
   "outputs": [],
   "source": []
  },
  {
   "cell_type": "code",
   "execution_count": null,
   "metadata": {},
   "outputs": [],
   "source": []
  },
  {
   "cell_type": "code",
   "execution_count": null,
   "metadata": {},
   "outputs": [],
   "source": []
  },
  {
   "cell_type": "code",
   "execution_count": null,
   "metadata": {},
   "outputs": [],
   "source": []
  },
  {
   "cell_type": "code",
   "execution_count": null,
   "metadata": {},
   "outputs": [],
   "source": []
  },
  {
   "cell_type": "code",
   "execution_count": null,
   "metadata": {},
   "outputs": [],
   "source": []
  }
 ],
 "metadata": {
  "kernelspec": {
   "display_name": "Python 3",
   "language": "python",
   "name": "python3"
  },
  "language_info": {
   "codemirror_mode": {
    "name": "ipython",
    "version": 3
   },
   "file_extension": ".py",
   "mimetype": "text/x-python",
   "name": "python",
   "nbconvert_exporter": "python",
   "pygments_lexer": "ipython3",
   "version": "3.6.8"
  }
 },
 "nbformat": 4,
 "nbformat_minor": 4
}
