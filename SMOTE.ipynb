{
 "cells": [
  {
   "cell_type": "markdown",
   "metadata": {},
   "source": [
    "### SMOTE 2 Level Model"
   ]
  },
  {
   "cell_type": "code",
   "execution_count": 2,
   "metadata": {},
   "outputs": [],
   "source": [
    "from imblearn.over_sampling import SMOTE\n",
    "import pandas as pd\n",
    "import numpy as np\n",
    "import pickle\n",
    "import numpy as np\n",
    "from sklearn.preprocessing import LabelEncoder\n",
    "import matplotlib.pyplot as plt\n",
    "import sklearn\n",
    "from sklearn.model_selection import TimeSeriesSplit\n",
    "from sklearn.preprocessing import MinMaxScaler\n",
    "from keras.models import Sequential\n",
    "from keras.layers import Dense\n",
    "from keras.layers import LSTM\n",
    "from keras.layers import RepeatVector\n",
    "from keras.layers import TimeDistributed\n",
    "from keras.layers import Conv1D\n",
    "from keras.layers import MaxPool1D\n",
    "from keras.layers import Flatten\n",
    "from keras.layers import Dropout\n",
    "from keras import optimizers\n",
    "from math import sqrt\n",
    "from keras.utils import to_categorical\n",
    "import seaborn as sns\n",
    "import keras\n",
    "from keras.callbacks import ModelCheckpoint\n",
    "from keras_adabound import AdaBound\n",
    "from mlxtend.plotting import plot_confusion_matrix\n",
    "import matplotlib\n",
    "from imblearn.combine import SMOTEENN"
   ]
  },
  {
   "cell_type": "code",
   "execution_count": 3,
   "metadata": {},
   "outputs": [],
   "source": [
    "df=pd.read_csv('./fdf-embedd.csv')\n",
    "df = df.drop(df.columns[0], axis=1)\n",
    "df=df.fillna(-1)"
   ]
  },
  {
   "cell_type": "code",
   "execution_count": 4,
   "metadata": {},
   "outputs": [],
   "source": [
    "df[\"nDate\"]=pd.to_datetime(df.date,format='%Y-%m-%d')"
   ]
  },
  {
   "cell_type": "code",
   "execution_count": 5,
   "metadata": {},
   "outputs": [],
   "source": [
    "df.loc[df['clicks_level']==2, 'clicks_level'] =1"
   ]
  },
  {
   "cell_type": "code",
   "execution_count": 6,
   "metadata": {},
   "outputs": [],
   "source": [
    "df[\"date\"]=df.date.astype(str)\n",
    "df[\"Year\"]=df.date.str[:4]\n",
    "df[\"Month\"]=df.date.str[5:7]\n",
    "df[\"Day\"]=df.date.str[8:]\n",
    "\n",
    "\n",
    "df[\"Year\"]=df.Year.astype(int)\n",
    "df[\"Month\"]=df.Month.astype(int)\n",
    "df[\"Day\"]=df.Day.astype(int)"
   ]
  },
  {
   "cell_type": "code",
   "execution_count": 6,
   "metadata": {},
   "outputs": [],
   "source": [
    "labels=df[\"clicks_level\"]\n",
    "df=df.drop(['nDate','query','date','clicks_level','tomorrow_net_clicks'],axis=1)"
   ]
  },
  {
   "cell_type": "code",
   "execution_count": 7,
   "metadata": {},
   "outputs": [
    {
     "data": {
      "image/png": "[encoded data removed]",
      "text/plain": [
       "<Figure size 432x288 with 1 Axes>"
      ]
     },
     "metadata": {
      "needs_background": "light"
     },
     "output_type": "display_data"
    }
   ],
   "source": [
    "pd.value_counts(labels).plot.bar()\n",
    "plt.tight_layout()"
   ]
  },
  {
   "cell_type": "code",
   "execution_count": 8,
   "metadata": {},
   "outputs": [],
   "source": [
    "# split into train and test sets\n",
    "# values = scaled\n",
    "values=df.values\n",
    "y=labels.copy()\n",
    "n_train_hours=880874 \n",
    "train_X ,train_y= values[:n_train_hours, :],y[:n_train_hours]\n",
    "test_X,test_y = values[n_train_hours:, :],y[n_train_hours:]"
   ]
  },
  {
   "cell_type": "code",
   "execution_count": 10,
   "metadata": {},
   "outputs": [
    {
     "data": {
      "text/plain": [
       "RUSBoostClassifier(algorithm='SAMME.R', base_estimator=None, learning_rate=1.0,\n",
       "                   n_estimators=50, random_state=0, replacement=False,\n",
       "                   sampling_strategy='auto')"
      ]
     },
     "execution_count": 10,
     "metadata": {},
     "output_type": "execute_result"
    }
   ],
   "source": [
    "from imblearn.ensemble import RUSBoostClassifier\n",
    "clf = RUSBoostClassifier(random_state=0)\n",
    "clf.fit(train_X,train_y)"
   ]
  },
  {
   "cell_type": "code",
   "execution_count": 11,
   "metadata": {},
   "outputs": [
    {
     "name": "stdout",
     "output_type": "stream",
     "text": [
      "              precision    recall  f1-score   support\n",
      "\n",
      "           0       1.00      0.88      0.94     92427\n",
      "           1       0.10      0.90      0.19      1401\n",
      "\n",
      "    accuracy                           0.88     93828\n",
      "   macro avg       0.55      0.89      0.56     93828\n",
      "weighted avg       0.98      0.88      0.93     93828\n",
      "\n"
     ]
    }
   ],
   "source": [
    "ypred=clf.predict(test_X)\n",
    "from sklearn.metrics import classification_report\n",
    "print(classification_report(test_y, ypred, target_names=['0','1']))"
   ]
  },
  {
   "cell_type": "code",
   "execution_count": 15,
   "metadata": {},
   "outputs": [
    {
     "name": "stdout",
     "output_type": "stream",
     "text": [
      "Predict     0           1           \n",
      "Actual\n",
      "0           81554       10873       \n",
      "\n",
      "1           137         1264        \n",
      "\n",
      "\n",
      "\n",
      "\n",
      "\n",
      "Overall Statistics : \n",
      "\n",
      "95% CI                                                            (0.8806,0.88472)\n",
      "ACC Macro                                                         0.88266\n",
      "AUNP                                                              0.89229\n",
      "AUNU                                                              0.89229\n",
      "Bennett S                                                         0.76532\n",
      "CBA                                                               0.49325\n",
      "CSI                                                               0.44352\n",
      "Chi-Squared                                                       7543.13052\n",
      "Chi-Squared DF                                                    1\n",
      "Conditional Entropy                                               0.52163\n",
      "Cramer V                                                          0.28354\n",
      "Cross Entropy                                                     0.24091\n",
      "F1 Macro                                                          0.56175\n",
      "F1 Micro                                                          0.88266\n",
      "Gwet AC1                                                          0.86452\n",
      "Hamming Loss                                                      0.11734\n",
      "Joint Entropy                                                     0.63358\n",
      "KL Divergence                                                     0.12897\n",
      "Kappa                                                             0.16436\n",
      "Kappa 95% CI                                                      (0.1497,0.17903)\n",
      "Kappa No Prevalence                                               0.76532\n",
      "Kappa Standard Error                                              0.00748\n",
      "Kappa Unbiased                                                    0.1235\n",
      "Lambda A                                                          0.0\n",
      "Lambda B                                                          0.09286\n",
      "Mutual Information                                                0.03403\n",
      "NIR                                                               0.98507\n",
      "Overall ACC                                                       0.88266\n",
      "Overall CEN                                                       0.26253\n",
      "Overall J                                                         (0.98404,0.49202)\n",
      "Overall MCC                                                       0.28354\n",
      "Overall MCEN                                                      0.20075\n",
      "Overall RACC                                                      0.85958\n",
      "Overall RACCU                                                     0.86612\n",
      "P-Value                                                           None\n",
      "PPV Macro                                                         0.55123\n",
      "PPV Micro                                                         0.88266\n",
      "Pearson C                                                         0.27278\n",
      "Phi-Squared                                                       0.08039\n",
      "RCI                                                               0.304\n",
      "RR                                                                46914.0\n",
      "Reference Entropy                                                 0.11195\n",
      "Response Entropy                                                  0.55566\n",
      "SOA1(Landis & Koch)                                               Slight\n",
      "SOA2(Fleiss)                                                      Poor\n",
      "SOA3(Altman)                                                      Poor\n",
      "SOA4(Cicchetti)                                                   Poor\n",
      "SOA5(Cramer)                                                      Moderate\n",
      "SOA6(Matthews)                                                    Negligible\n",
      "Scott PI                                                          0.1235\n",
      "Standard Error                                                    0.00105\n",
      "TPR Macro                                                         0.89229\n",
      "TPR Micro                                                         0.88266\n",
      "Zero-one Loss                                                     11010\n",
      "\n",
      "Class Statistics :\n",
      "\n",
      "Classes                                                           0             1             \n",
      "ACC(Accuracy)                                                     0.88266       0.88266       \n",
      "AGF(Adjusted F-score)                                             0.33808       0.58867       \n",
      "AGM(Adjusted geometric mean)                                      0.89238       0.88733       \n",
      "AM(Difference between automatic and manual classification)        -10736        10736         \n",
      "AUC(Area under the ROC curve)                                     0.89229       0.89229       \n",
      "AUCI(AUC value interpretation)                                    Very Good     Very Good     \n",
      "AUPR(Area under the PR curve)                                     0.94034       0.50318       \n",
      "BCD(Bray-Curtis dissimilarity)                                    0.05721       0.05721       \n",
      "BM(Informedness or bookmaker informedness)                        0.78457       0.78457       \n",
      "CEN(Confusion entropy)                                            0.25798       0.32107       \n",
      "DOR(Diagnostic odds ratio)                                        69.2026       69.2026       \n",
      "DP(Discriminant power)                                            1.01451       1.01451       \n",
      "DPI(Discriminant power interpretation)                            Limited       Limited       \n",
      "ERR(Error rate)                                                   0.11734       0.11734       \n",
      "F0.5(F0.5 score)                                                  0.97275       0.12653       \n",
      "F1(F1 score - harmonic mean of precision and sensitivity)         0.93677       0.18673       \n",
      "F2(F2 score)                                                      0.90335       0.35624       \n",
      "FDR(False discovery rate)                                         0.00168       0.89586       \n",
      "FN(False negative/miss/type 2 error)                              10873         137           \n",
      "FNR(Miss rate or false negative rate)                             0.11764       0.09779       \n",
      "FOR(False omission rate)                                          0.89586       0.00168       \n",
      "FP(False positive/type 1 error/false alarm)                       137           10873         \n",
      "FPR(Fall-out or false positive rate)                              0.09779       0.11764       \n",
      "G(G-measure geometric mean of precision and sensitivity)          0.93855       0.30653       \n",
      "GI(Gini index)                                                    0.78457       0.78457       \n",
      "GM(G-mean geometric mean of specificity and sensitivity)          0.89223       0.89223       \n",
      "IBA(Index of balanced accuracy)                                   0.78027       0.81188       \n",
      "ICSI(Individual classification success index)                     0.88068       0.00636       \n",
      "IS(Information score)                                             0.01928       2.80215       \n",
      "J(Jaccard index)                                                  0.88106       0.10298       \n",
      "LS(Lift score)                                                    1.01346       6.97477       \n",
      "MCC(Matthews correlation coefficient)                             0.28354       0.28354       \n",
      "MCCI(Matthews correlation coefficient interpretation)             Negligible    Negligible    \n",
      "MCEN(Modified confusion entropy)                                  0.37684       0.22728       \n",
      "MK(Markedness)                                                    0.10247       0.10247       \n",
      "N(Condition negative)                                             1401          92427         \n",
      "NLR(Negative likelihood ratio)                                    0.13039       0.11082       \n",
      "NLRI(Negative likelihood ratio interpretation)                    Fair          Fair          \n",
      "NPV(Negative predictive value)                                    0.10414       0.99832       \n",
      "OC(Overlap coefficient)                                           0.99832       0.90221       \n",
      "OOC(Otsuka-Ochiai coefficient)                                    0.93855       0.30653       \n",
      "OP(Optimized precision)                                           0.87153       0.87153       \n",
      "P(Condition positive or support)                                  92427         1401          \n",
      "PLR(Positive likelihood ratio)                                    9.02327       7.66935       \n",
      "PLRI(Positive likelihood ratio interpretation)                    Fair          Fair          \n",
      "POP(Population)                                                   93828         93828         \n",
      "PPV(Precision or positive predictive value)                       0.99832       0.10414       \n",
      "PRE(Prevalence)                                                   0.98507       0.01493       \n",
      "Q(Yule Q - coefficient of colligation)                            0.97151       0.97151       \n",
      "RACC(Random accuracy)                                             0.85765       0.00193       \n",
      "RACCU(Random accuracy unbiased)                                   0.86092       0.0052        \n",
      "TN(True negative/correct rejection)                               1264          81554         \n",
      "TNR(Specificity or true negative rate)                            0.90221       0.88236       \n",
      "TON(Test outcome negative)                                        12137         81691         \n",
      "TOP(Test outcome positive)                                        81691         12137         \n",
      "TP(True positive/hit)                                             81554         1264          \n",
      "TPR(Sensitivity, recall, hit rate, or true positive rate)         0.88236       0.90221       \n",
      "Y(Youden index)                                                   0.78457       0.78457       \n",
      "dInd(Distance index)                                              0.15297       0.15297       \n",
      "sInd(Similarity index)                                            0.89183       0.89183       \n",
      "\n"
     ]
    }
   ],
   "source": [
    "from pycm import ConfusionMatrix\n",
    "cm = ConfusionMatrix(actual_vector=test_y.tolist(), predict_vector=ypred)\n",
    "print (cm)"
   ]
  },
  {
   "cell_type": "code",
   "execution_count": 9,
   "metadata": {},
   "outputs": [],
   "source": [
    "# SMOTE\n",
    "sm = SMOTE(random_state=42)\n",
    "X_train_sm, y_train_sm = sm.fit_sample(train_X, train_y)"
   ]
  },
  {
   "cell_type": "code",
   "execution_count": 23,
   "metadata": {},
   "outputs": [],
   "source": [
    "# # SMOTETEEN\n",
    "# sm = SMOTEENN(random_state=42)\n",
    "# X_train_sm, y_train_sm = sm.fit_sample(train_X, train_y)"
   ]
  },
  {
   "cell_type": "code",
   "execution_count": 10,
   "metadata": {},
   "outputs": [
    {
     "data": {
      "text/plain": [
       "(array([0, 1, 2]), array([873338, 873338, 873338]))"
      ]
     },
     "execution_count": 10,
     "metadata": {},
     "output_type": "execute_result"
    }
   ],
   "source": [
    "np.unique(y_train_sm, return_counts=True)"
   ]
  },
  {
   "cell_type": "code",
   "execution_count": 19,
   "metadata": {},
   "outputs": [],
   "source": [
    "from sklearn.ensemble import AdaBoostClassifier\n",
    "def adaboost(X_train, X_test, y_train):\n",
    "    model = AdaBoostClassifier(n_estimators=10, random_state=42)\n",
    "    model.fit(X_train,y_train)\n",
    "    y_pred = model.predict(X_test) \n",
    "    prob=model.predict_proba(X_test)\n",
    "    return model,y_pred,prob\n",
    "\n",
    "model,y_smote,prob = adaboost(X_train_sm, test_X, y_train_sm)"
   ]
  },
  {
   "cell_type": "code",
   "execution_count": 28,
   "metadata": {},
   "outputs": [],
   "source": [
    "df['Level1']=model.predict(df.values)"
   ]
  },
  {
   "cell_type": "code",
   "execution_count": 30,
   "metadata": {},
   "outputs": [],
   "source": [
    "newdf=df[df['Level1']==1]"
   ]
  },
  {
   "cell_type": "code",
   "execution_count": null,
   "metadata": {},
   "outputs": [],
   "source": []
  },
  {
   "cell_type": "code",
   "execution_count": 25,
   "metadata": {},
   "outputs": [
    {
     "data": {
      "image/png": "[encoded data removed]",
      "text/plain": [
       "<Figure size 432x288 with 1 Axes>"
      ]
     },
     "metadata": {
      "needs_background": "light"
     },
     "output_type": "display_data"
    }
   ],
   "source": [
    "prob=model.predict_proba(test_X)\n",
    "preds = prob[:,1]\n",
    "fpr, tpr, threshold = sklearn.metrics.roc_curve(test_y, preds)\n",
    "roc_auc = sklearn.metrics.auc(fpr, tpr)\n",
    "# method I: plt\n",
    "import matplotlib.pyplot as plt\n",
    "plt.title('Receiver Operating Characteristic')\n",
    "plt.plot(fpr, tpr, 'b', label = 'AUC = %0.2f' % roc_auc)\n",
    "plt.legend(loc = 'lower right')\n",
    "plt.plot([0, 1], [0, 1],'r--')\n",
    "plt.xlim([0, 1])\n",
    "plt.ylim([0, 1])\n",
    "plt.ylabel('True Positive Rate')\n",
    "plt.xlabel('False Positive Rate')\n",
    "plt.show()\n",
    "\n"
   ]
  },
  {
   "cell_type": "code",
   "execution_count": 13,
   "metadata": {},
   "outputs": [
    {
     "name": "stdout",
     "output_type": "stream",
     "text": [
      "0.6102551935345832\n",
      "0.9234770004689432\n"
     ]
    }
   ],
   "source": [
    "print (sklearn.metrics.f1_score(test_y,y_smote,average='macro'))\n",
    "print (sklearn.metrics.accuracy_score(test_y,y_smote))"
   ]
  },
  {
   "cell_type": "code",
   "execution_count": 14,
   "metadata": {},
   "outputs": [
    {
     "name": "stdout",
     "output_type": "stream",
     "text": [
      "Predict     0           1           \n",
      "Actual\n",
      "0           85381       7046        \n",
      "\n",
      "1           134         1267        \n",
      "\n",
      "\n",
      "\n",
      "\n",
      "\n",
      "Overall Statistics : \n",
      "\n",
      "95% CI                                                            (0.92178,0.92518)\n",
      "ACC Macro                                                         0.92348\n",
      "AUNP                                                              0.91406\n",
      "AUNU                                                              0.91406\n",
      "Bennett S                                                         0.84695\n",
      "CBA                                                               0.53809\n",
      "CSI                                                               0.48948\n",
      "Chi-Squared                                                       11720.78931\n",
      "Chi-Squared DF                                                    1\n",
      "Conditional Entropy                                               0.38975\n",
      "Cramer V                                                          0.35344\n",
      "Cross Entropy                                                     0.18405\n",
      "F1 Macro                                                          0.61026\n",
      "F1 Micro                                                          0.92348\n",
      "Gwet AC1                                                          0.91515\n",
      "Hamming Loss                                                      0.07652\n",
      "Joint Entropy                                                     0.5017\n",
      "KL Divergence                                                     0.0721\n",
      "Kappa                                                             0.24148\n",
      "Kappa 95% CI                                                      (0.22461,0.25834)\n",
      "Kappa No Prevalence                                               0.84695\n",
      "Kappa Standard Error                                              0.0086\n",
      "Kappa Unbiased                                                    0.22051\n",
      "Lambda A                                                          0.0\n",
      "Lambda B                                                          0.13629\n",
      "Mutual Information                                                0.04202\n",
      "NIR                                                               0.98507\n",
      "Overall ACC                                                       0.92348\n",
      "Overall CEN                                                       0.20413\n",
      "Overall J                                                         (1.07242,0.53621)\n",
      "Overall MCC                                                       0.35344\n",
      "Overall MCEN                                                      0.16034\n",
      "Overall RACC                                                      0.89912\n",
      "Overall RACCU                                                     0.90183\n",
      "P-Value                                                           None\n",
      "PPV Macro                                                         0.57542\n",
      "PPV Micro                                                         0.92348\n",
      "Pearson C                                                         0.33324\n",
      "Phi-Squared                                                       0.12492\n",
      "RCI                                                               0.37534\n",
      "RR                                                                46914.0\n",
      "Reference Entropy                                                 0.11195\n",
      "Response Entropy                                                  0.43177\n",
      "SOA1(Landis & Koch)                                               Fair\n",
      "SOA2(Fleiss)                                                      Poor\n",
      "SOA3(Altman)                                                      Fair\n",
      "SOA4(Cicchetti)                                                   Poor\n",
      "SOA5(Cramer)                                                      Moderate\n",
      "SOA6(Matthews)                                                    Weak\n",
      "Scott PI                                                          0.22051\n",
      "Standard Error                                                    0.00087\n",
      "TPR Macro                                                         0.91406\n",
      "TPR Micro                                                         0.92348\n",
      "Zero-one Loss                                                     7180\n",
      "\n",
      "Class Statistics :\n",
      "\n",
      "Classes                                                           0             1             \n",
      "ACC(Accuracy)                                                     0.92348       0.92348       \n",
      "AGF(Adjusted F-score)                                             0.41405       0.66877       \n",
      "AGM(Adjusted geometric mean)                                      0.91387       0.91885       \n",
      "AM(Difference between automatic and manual classification)        -6912         6912          \n",
      "AUC(Area under the ROC curve)                                     0.91406       0.91406       \n",
      "AUCI(AUC value interpretation)                                    Excellent     Excellent     \n",
      "AUPR(Area under the PR curve)                                     0.9611        0.52838       \n",
      "BCD(Bray-Curtis dissimilarity)                                    0.03683       0.03683       \n",
      "BM(Informedness or bookmaker informedness)                        0.82812       0.82812       \n",
      "CEN(Confusion entropy)                                            0.19227       0.42127       \n",
      "DOR(Diagnostic odds ratio)                                        114.57514     114.57514     \n",
      "DP(Discriminant power)                                            1.13524       1.13524       \n",
      "DPI(Discriminant power interpretation)                            Limited       Limited       \n",
      "ERR(Error rate)                                                   0.07652       0.07652       \n",
      "F0.5(F0.5 score)                                                  0.98255       0.18281       \n",
      "F1(F1 score - harmonic mean of precision and sensitivity)         0.95965       0.26086       \n",
      "F2(F2 score)                                                      0.93779       0.4552        \n",
      "FDR(False discovery rate)                                         0.00157       0.84759       \n",
      "FN(False negative/miss/type 2 error)                              7046          134           \n",
      "FNR(Miss rate or false negative rate)                             0.07623       0.09565       \n",
      "FOR(False omission rate)                                          0.84759       0.00157       \n",
      "FP(False positive/type 1 error/false alarm)                       134           7046          \n",
      "FPR(Fall-out or false positive rate)                              0.09565       0.07623       \n",
      "G(G-measure geometric mean of precision and sensitivity)          0.96037       0.37126       \n",
      "GI(Gini index)                                                    0.82812       0.82812       \n",
      "GM(G-mean geometric mean of specificity and sensitivity)          0.91401       0.91401       \n",
      "IBA(Index of balanced accuracy)                                   0.85163       0.81919       \n",
      "ICSI(Individual classification success index)                     0.9222        0.05677       \n",
      "IS(Information score)                                             0.01944       3.35154       \n",
      "J(Jaccard index)                                                  0.92243       0.14999       \n",
      "LS(Lift score)                                                    1.01357       10.20735      \n",
      "MCC(Matthews correlation coefficient)                             0.35344       0.35344       \n",
      "MCCI(Matthews correlation coefficient interpretation)             Weak          Weak          \n",
      "MCEN(Modified confusion entropy)                                  0.29649       0.31308       \n",
      "MK(Markedness)                                                    0.15084       0.15084       \n",
      "N(Condition negative)                                             1401          92427         \n",
      "NLR(Negative likelihood ratio)                                    0.0843        0.10354       \n",
      "NLRI(Negative likelihood ratio interpretation)                    Good          Fair          \n",
      "NPV(Negative predictive value)                                    0.15241       0.99843       \n",
      "OC(Overlap coefficient)                                           0.99843       0.90435       \n",
      "OOC(Otsuka-Ochiai coefficient)                                    0.96037       0.37126       \n",
      "OP(Optimized precision)                                           0.91286       0.91286       \n",
      "P(Condition positive or support)                                  92427         1401          \n",
      "PLR(Positive likelihood ratio)                                    9.65819       11.863        \n",
      "PLRI(Positive likelihood ratio interpretation)                    Fair          Good          \n",
      "POP(Population)                                                   93828         93828         \n",
      "PPV(Precision or positive predictive value)                       0.99843       0.15241       \n",
      "PRE(Prevalence)                                                   0.98507       0.01493       \n",
      "Q(Yule Q - coefficient of colligation)                            0.9827        0.9827        \n",
      "RACC(Random accuracy)                                             0.89779       0.00132       \n",
      "RACCU(Random accuracy unbiased)                                   0.89915       0.00268       \n",
      "TN(True negative/correct rejection)                               1267          85381         \n",
      "TNR(Specificity or true negative rate)                            0.90435       0.92377       \n",
      "TON(Test outcome negative)                                        8313          85515         \n",
      "TOP(Test outcome positive)                                        85515         8313          \n",
      "TP(True positive/hit)                                             85381         1267          \n",
      "TPR(Sensitivity, recall, hit rate, or true positive rate)         0.92377       0.90435       \n",
      "Y(Youden index)                                                   0.82812       0.82812       \n",
      "dInd(Distance index)                                              0.12231       0.12231       \n",
      "sInd(Similarity index)                                            0.91351       0.91351       \n",
      "\n"
     ]
    }
   ],
   "source": [
    "from pycm import ConfusionMatrix\n",
    "cm = ConfusionMatrix(actual_vector=test_y.tolist(), predict_vector=y_smote)\n",
    "print (cm)"
   ]
  },
  {
   "cell_type": "code",
   "execution_count": 15,
   "metadata": {},
   "outputs": [
    {
     "name": "stdout",
     "output_type": "stream",
     "text": [
      "              precision    recall  f1-score   support\n",
      "\n",
      "           0       1.00      0.93      0.96     92427\n",
      "           1       0.16      0.89      0.27      1401\n",
      "\n",
      "    accuracy                           0.93     93828\n",
      "   macro avg       0.58      0.91      0.62     93828\n",
      "weighted avg       0.99      0.93      0.95     93828\n",
      "\n"
     ]
    }
   ],
   "source": [
    "from sklearn.metrics import classification_report\n",
    "print(classification_report(test_y, y_smote, target_names=['0','1']))"
   ]
  },
  {
   "cell_type": "code",
   "execution_count": 14,
   "metadata": {},
   "outputs": [
    {
     "data": {
      "image/png": "[encoded data removed]",
      "text/plain": [
       "<Figure size 720x720 with 2 Axes>"
      ]
     },
     "metadata": {
      "needs_background": "light"
     },
     "output_type": "display_data"
    }
   ],
   "source": [
    "conf=sklearn.metrics.confusion_matrix(test_y,y_smote,labels=[0,1])\n",
    "fig, ax = plot_confusion_matrix(conf_mat=conf,\n",
    "                                show_absolute=True,\n",
    "                                show_normed=True,\n",
    "                                colorbar=True,\n",
    "                               figsize=(10,10))"
   ]
  },
  {
   "cell_type": "code",
   "execution_count": 11,
   "metadata": {},
   "outputs": [
    {
     "name": "stdout",
     "output_type": "stream",
     "text": [
      "(2620014, 1, 65) (2620014, 3) (93828, 1, 65) (93828, 3)\n"
     ]
    }
   ],
   "source": [
    "train_y = to_categorical(y_train_sm)\n",
    "test_y=to_categorical(test_y)\n",
    "\n",
    "\n",
    "\n",
    "train_X = X_train_sm.reshape((X_train_sm.shape[0], 1, X_train_sm.shape[1]))\n",
    "test_X = test_X.reshape((test_X.shape[0], 1, test_X.shape[1]))\n",
    "print(train_X.shape, train_y.shape, test_X.shape, test_y.shape)"
   ]
  },
  {
   "cell_type": "code",
   "execution_count": 13,
   "metadata": {},
   "outputs": [
    {
     "name": "stdout",
     "output_type": "stream",
     "text": [
      "Train on 2620014 samples, validate on 93828 samples\n",
      "Epoch 1/5\n",
      "2620014/2620014 [==============================] - 71s 27us/step - loss: 1.4848 - categorical_accuracy: 0.9962 - val_loss: 322.5827 - val_categorical_accuracy: 0.0052\n",
      "\n",
      "Epoch 00001: val_categorical_accuracy improved from -inf to 0.00524, saving model to ./models/weight-best.hdf5\n",
      "Epoch 2/5\n",
      "2620014/2620014 [==============================] - 71s 27us/step - loss: 0.0422 - categorical_accuracy: 0.9954 - val_loss: 11.7991 - val_categorical_accuracy: 0.0052\n",
      "\n",
      "Epoch 00002: val_categorical_accuracy did not improve from 0.00524\n",
      "Epoch 3/5\n",
      " 178048/2620014 [=>............................] - ETA: 1:03 - loss: 0.1367 - categorical_accuracy: 0.9828"
     ]
    },
    {
     "ename": "KeyboardInterrupt",
     "evalue": "",
     "output_type": "error",
     "traceback": [
      "\u001b[0;31m---------------------------------------------------------------------------\u001b[0m",
      "\u001b[0;31mKeyboardInterrupt\u001b[0m                         Traceback (most recent call last)",
      "\u001b[0;32m<ipython-input-13-4aaa30275b1c>\u001b[0m in \u001b[0;36m<module>\u001b[0;34m\u001b[0m\n\u001b[1;32m     14\u001b[0m \u001b[0;34m\u001b[0m\u001b[0m\n\u001b[1;32m     15\u001b[0m \u001b[0;31m# fit network\u001b[0m\u001b[0;34m\u001b[0m\u001b[0;34m\u001b[0m\u001b[0;34m\u001b[0m\u001b[0m\n\u001b[0;32m---> 16\u001b[0;31m \u001b[0mhistory\u001b[0m \u001b[0;34m=\u001b[0m \u001b[0mmodel\u001b[0m\u001b[0;34m.\u001b[0m\u001b[0mfit\u001b[0m\u001b[0;34m(\u001b[0m\u001b[0mtrain_X\u001b[0m\u001b[0;34m,\u001b[0m \u001b[0mtrain_y\u001b[0m\u001b[0;34m,\u001b[0m \u001b[0mepochs\u001b[0m\u001b[0;34m=\u001b[0m\u001b[0;36m5\u001b[0m\u001b[0;34m,\u001b[0m \u001b[0mbatch_size\u001b[0m\u001b[0;34m=\u001b[0m\u001b[0;36m128\u001b[0m\u001b[0;34m,\u001b[0m\u001b[0mcallbacks\u001b[0m\u001b[0;34m=\u001b[0m\u001b[0mcallbacks_list\u001b[0m\u001b[0;34m,\u001b[0m\u001b[0mvalidation_data\u001b[0m\u001b[0;34m=\u001b[0m\u001b[0;34m(\u001b[0m\u001b[0mtest_X\u001b[0m\u001b[0;34m,\u001b[0m \u001b[0mtest_y\u001b[0m\u001b[0;34m)\u001b[0m\u001b[0;34m,\u001b[0m\u001b[0mshuffle\u001b[0m\u001b[0;34m=\u001b[0m\u001b[0;32mFalse\u001b[0m\u001b[0;34m)\u001b[0m\u001b[0;34m\u001b[0m\u001b[0;34m\u001b[0m\u001b[0m\n\u001b[0m",
      "\u001b[0;32m~/virtual_enviornments/sleepare/lib/python3.6/site-packages/keras/engine/training.py\u001b[0m in \u001b[0;36mfit\u001b[0;34m(self, x, y, batch_size, epochs, verbose, callbacks, validation_split, validation_data, shuffle, class_weight, sample_weight, initial_epoch, steps_per_epoch, validation_steps, validation_freq, max_queue_size, workers, use_multiprocessing, **kwargs)\u001b[0m\n\u001b[1;32m   1237\u001b[0m                                         \u001b[0msteps_per_epoch\u001b[0m\u001b[0;34m=\u001b[0m\u001b[0msteps_per_epoch\u001b[0m\u001b[0;34m,\u001b[0m\u001b[0;34m\u001b[0m\u001b[0;34m\u001b[0m\u001b[0m\n\u001b[1;32m   1238\u001b[0m                                         \u001b[0mvalidation_steps\u001b[0m\u001b[0;34m=\u001b[0m\u001b[0mvalidation_steps\u001b[0m\u001b[0;34m,\u001b[0m\u001b[0;34m\u001b[0m\u001b[0;34m\u001b[0m\u001b[0m\n\u001b[0;32m-> 1239\u001b[0;31m                                         validation_freq=validation_freq)\n\u001b[0m\u001b[1;32m   1240\u001b[0m \u001b[0;34m\u001b[0m\u001b[0m\n\u001b[1;32m   1241\u001b[0m     def evaluate(self,\n",
      "\u001b[0;32m~/virtual_enviornments/sleepare/lib/python3.6/site-packages/keras/engine/training_arrays.py\u001b[0m in \u001b[0;36mfit_loop\u001b[0;34m(model, fit_function, fit_inputs, out_labels, batch_size, epochs, verbose, callbacks, val_function, val_inputs, shuffle, initial_epoch, steps_per_epoch, validation_steps, validation_freq)\u001b[0m\n\u001b[1;32m    194\u001b[0m                     \u001b[0mins_batch\u001b[0m\u001b[0;34m[\u001b[0m\u001b[0mi\u001b[0m\u001b[0;34m]\u001b[0m \u001b[0;34m=\u001b[0m \u001b[0mins_batch\u001b[0m\u001b[0;34m[\u001b[0m\u001b[0mi\u001b[0m\u001b[0;34m]\u001b[0m\u001b[0;34m.\u001b[0m\u001b[0mtoarray\u001b[0m\u001b[0;34m(\u001b[0m\u001b[0;34m)\u001b[0m\u001b[0;34m\u001b[0m\u001b[0;34m\u001b[0m\u001b[0m\n\u001b[1;32m    195\u001b[0m \u001b[0;34m\u001b[0m\u001b[0m\n\u001b[0;32m--> 196\u001b[0;31m                 \u001b[0mouts\u001b[0m \u001b[0;34m=\u001b[0m \u001b[0mfit_function\u001b[0m\u001b[0;34m(\u001b[0m\u001b[0mins_batch\u001b[0m\u001b[0;34m)\u001b[0m\u001b[0;34m\u001b[0m\u001b[0;34m\u001b[0m\u001b[0m\n\u001b[0m\u001b[1;32m    197\u001b[0m                 \u001b[0mouts\u001b[0m \u001b[0;34m=\u001b[0m \u001b[0mto_list\u001b[0m\u001b[0;34m(\u001b[0m\u001b[0mouts\u001b[0m\u001b[0;34m)\u001b[0m\u001b[0;34m\u001b[0m\u001b[0;34m\u001b[0m\u001b[0m\n\u001b[1;32m    198\u001b[0m                 \u001b[0;32mfor\u001b[0m \u001b[0ml\u001b[0m\u001b[0;34m,\u001b[0m \u001b[0mo\u001b[0m \u001b[0;32min\u001b[0m \u001b[0mzip\u001b[0m\u001b[0;34m(\u001b[0m\u001b[0mout_labels\u001b[0m\u001b[0;34m,\u001b[0m \u001b[0mouts\u001b[0m\u001b[0;34m)\u001b[0m\u001b[0;34m:\u001b[0m\u001b[0;34m\u001b[0m\u001b[0;34m\u001b[0m\u001b[0m\n",
      "\u001b[0;32m~/virtual_enviornments/sleepare/lib/python3.6/site-packages/tensorflow/python/keras/backend.py\u001b[0m in \u001b[0;36m__call__\u001b[0;34m(self, inputs)\u001b[0m\n\u001b[1;32m   3290\u001b[0m \u001b[0;34m\u001b[0m\u001b[0m\n\u001b[1;32m   3291\u001b[0m     fetched = self._callable_fn(*array_vals,\n\u001b[0;32m-> 3292\u001b[0;31m                                 run_metadata=self.run_metadata)\n\u001b[0m\u001b[1;32m   3293\u001b[0m     \u001b[0mself\u001b[0m\u001b[0;34m.\u001b[0m\u001b[0m_call_fetch_callbacks\u001b[0m\u001b[0;34m(\u001b[0m\u001b[0mfetched\u001b[0m\u001b[0;34m[\u001b[0m\u001b[0;34m-\u001b[0m\u001b[0mlen\u001b[0m\u001b[0;34m(\u001b[0m\u001b[0mself\u001b[0m\u001b[0;34m.\u001b[0m\u001b[0m_fetches\u001b[0m\u001b[0;34m)\u001b[0m\u001b[0;34m:\u001b[0m\u001b[0;34m]\u001b[0m\u001b[0;34m)\u001b[0m\u001b[0;34m\u001b[0m\u001b[0;34m\u001b[0m\u001b[0m\n\u001b[1;32m   3294\u001b[0m     output_structure = nest.pack_sequence_as(\n",
      "\u001b[0;32m~/virtual_enviornments/sleepare/lib/python3.6/site-packages/tensorflow/python/client/session.py\u001b[0m in \u001b[0;36m__call__\u001b[0;34m(self, *args, **kwargs)\u001b[0m\n\u001b[1;32m   1456\u001b[0m         ret = tf_session.TF_SessionRunCallable(self._session._session,\n\u001b[1;32m   1457\u001b[0m                                                \u001b[0mself\u001b[0m\u001b[0;34m.\u001b[0m\u001b[0m_handle\u001b[0m\u001b[0;34m,\u001b[0m \u001b[0margs\u001b[0m\u001b[0;34m,\u001b[0m\u001b[0;34m\u001b[0m\u001b[0;34m\u001b[0m\u001b[0m\n\u001b[0;32m-> 1458\u001b[0;31m                                                run_metadata_ptr)\n\u001b[0m\u001b[1;32m   1459\u001b[0m         \u001b[0;32mif\u001b[0m \u001b[0mrun_metadata\u001b[0m\u001b[0;34m:\u001b[0m\u001b[0;34m\u001b[0m\u001b[0;34m\u001b[0m\u001b[0m\n\u001b[1;32m   1460\u001b[0m           \u001b[0mproto_data\u001b[0m \u001b[0;34m=\u001b[0m \u001b[0mtf_session\u001b[0m\u001b[0;34m.\u001b[0m\u001b[0mTF_GetBuffer\u001b[0m\u001b[0;34m(\u001b[0m\u001b[0mrun_metadata_ptr\u001b[0m\u001b[0;34m)\u001b[0m\u001b[0;34m\u001b[0m\u001b[0;34m\u001b[0m\u001b[0m\n",
      "\u001b[0;31mKeyboardInterrupt\u001b[0m: "
     ]
    }
   ],
   "source": [
    "model = Sequential()\n",
    "model.add(LSTM(50,activation='relu',input_shape=(train_X.shape[1], train_X.shape[2])))\n",
    "model.add(Dense(3, activation='softmax'))\n",
    "opt=keras.optimizers.Adam(learning_rate=0.1,amsgrad=True)\n",
    "\n",
    "\n",
    "model.compile(loss='categorical_crossentropy', optimizer=opt, metrics=['categorical_accuracy'])\n",
    "\n",
    "\n",
    "filepath='./models/weight-best.hdf5'\n",
    "checkpoint = ModelCheckpoint(filepath, monitor='val_categorical_accuracy', verbose=1, save_best_only=True, mode='max')\n",
    "callbacks_list = [checkpoint]\n",
    "\n",
    "\n",
    "# fit network\n",
    "history = model.fit(train_X, train_y, epochs=5, batch_size=128,callbacks=callbacks_list,validation_data=(test_X, test_y),shuffle=False)"
   ]
  },
  {
   "cell_type": "code",
   "execution_count": 17,
   "metadata": {},
   "outputs": [],
   "source": [
    "ypred=model.predict(test_X)\n",
    "ypred=np.argmax(ypred,axis=1)\n",
    "test_y=np.argmax(test_y,axis=1)"
   ]
  },
  {
   "cell_type": "code",
   "execution_count": 18,
   "metadata": {},
   "outputs": [
    {
     "name": "stdout",
     "output_type": "stream",
     "text": [
      "0.003477523324851569\n",
      "0.005243637293771582\n"
     ]
    },
    {
     "name": "stderr",
     "output_type": "stream",
     "text": [
      "/home/bot/virtual_enviornments/sleepare/lib/python3.6/site-packages/sklearn/metrics/classification.py:1437: UndefinedMetricWarning: F-score is ill-defined and being set to 0.0 in labels with no predicted samples.\n",
      "  'precision', 'predicted', average, warn_for)\n"
     ]
    }
   ],
   "source": [
    "print (sklearn.metrics.f1_score(test_y,ypred,average='macro'))\n",
    "print (sklearn.metrics.accuracy_score(test_y,ypred))"
   ]
  },
  {
   "cell_type": "code",
   "execution_count": 19,
   "metadata": {},
   "outputs": [
    {
     "data": {
      "image/png": "[encoded data removed]",
      "text/plain": [
       "<Figure size 720x720 with 2 Axes>"
      ]
     },
     "metadata": {
      "needs_background": "light"
     },
     "output_type": "display_data"
    }
   ],
   "source": [
    "conf=sklearn.metrics.confusion_matrix(test_y,ypred,labels=[0,1,2])\n",
    "fig, ax = plot_confusion_matrix(conf_mat=conf,\n",
    "                                show_absolute=True,\n",
    "                                show_normed=True,\n",
    "                                colorbar=True,\n",
    "                               figsize=(10,10))"
   ]
  },
  {
   "cell_type": "code",
   "execution_count": null,
   "metadata": {},
   "outputs": [],
   "source": []
  }
 ],
 "metadata": {
  "kernelspec": {
   "display_name": "Python 3",
   "language": "python",
   "name": "python3"
  },
  "language_info": {
   "codemirror_mode": {
    "name": "ipython",
    "version": 3
   },
   "file_extension": ".py",
   "mimetype": "text/x-python",
   "name": "python",
   "nbconvert_exporter": "python",
   "pygments_lexer": "ipython3",
   "version": "3.6.8"
  }
 },
 "nbformat": 4,
 "nbformat_minor": 4
}
